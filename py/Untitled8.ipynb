{
 "cells": [
  {
   "cell_type": "code",
   "execution_count": 107,
   "metadata": {},
   "outputs": [
    {
     "name": "stderr",
     "output_type": "stream",
     "text": [
      "/Users/maeda/.pyenv/versions/anaconda3-2019.10/lib/python3.7/site-packages/ipykernel_launcher.py:29: RuntimeWarning: invalid value encountered in double_scalars\n"
     ]
    },
    {
     "name": "stdout",
     "output_type": "stream",
     "text": [
      "[0.  1.2 2.4 3.6 4.8 6. ] [       nan 4.01157932 4.01157932 4.01157932 4.01157932 4.01157932] [           nan 7.87797547e-05 5.69356950e-03 2.74270380e-02\n",
      " 6.44969419e-02 1.12099973e-01] 1.3601744818940793 [           nan 7.87735490e-05 5.66133629e-03 2.66948766e-02\n",
      " 6.05891284e-02 1.00800266e-01]\n"
     ]
    },
    {
     "data": {
      "image/png": "[encoded data removed]",
      "text/plain": [
       "<Figure size 432x288 with 1 Axes>"
      ]
     },
     "metadata": {
      "needs_background": "light"
     },
     "output_type": "display_data"
    }
   ],
   "source": [
    "#multi-ff HC\n",
    "from scipy import special\n",
    "import numpy as np\n",
    "import matplotlib.pyplot as plt\n",
    "\n",
    "b=0.5 \n",
    "bt=0.02\n",
    "ep=1.0\n",
    "pt=1.0\n",
    "phx=1.12\n",
    "#ms=1.0\n",
    "yc=0.1\n",
    "mesh=6.0\n",
    "meshi=6\n",
    "\n",
    "\n",
    "\n",
    "ac = np.linspace(0.0, mesh, mesh)\n",
    "sc = np.linspace(0.0, mesh, mesh)\n",
    "SFR = np.linspace(1.0, mesh, mesh)\n",
    "ms = np.linspace(0.0, mesh, mesh)\n",
    "SFE = np.linspace(1.0, mesh, mesh)\n",
    "\n",
    "\n",
    "for j in range(0,meshi,1): \n",
    "    ms[j]=13.5*ac[j]**0.5\n",
    "    s=np.sqrt(np.log(1.0+b*b*ms[j]*ms[j]*bt/(bt+1.0)))\n",
    "    #sc=np.log(0.067*theta**(-2.0)*ac*ms*ms*f)\n",
    "    sc[j]=np.log(3.1415*3.1415/5.0/yc/yc*ac[j]/ms[j]/ms[j]*(1.0+1.0/bt)**(1.0))\n",
    "    SFR[j]=ep*0.5/pt*(1+special.erf((s*s-sc[j])/((2.0*s*s)**0.50)))*np.exp(3.0*s*s/8.0)\n",
    "    #SFR[j]=((s*s-sc[j])/((2.0*s*s)**0.50))\n",
    "    SFE[j] = 1.0/(1.0+1.0/SFR[j])\n",
    "\n",
    "print(ac,sc,SFR,s,SFE)\n",
    "\n",
    "\n",
    "plt.xlim(1, 11.0)\n",
    "plt.ylim(0.0003, 1.0)\n",
    "plt.yscale('log')\n",
    "plt.xscale('log')\n",
    "\n",
    "plt.scatter(ac, SFE)\n",
    "plt.scatter(ac, SFR)\n",
    "plt.show()"
   ]
  },
  {
   "cell_type": "code",
   "execution_count": 89,
   "metadata": {},
   "outputs": [
    {
     "name": "stderr",
     "output_type": "stream",
     "text": [
      "/Users/maeda/.pyenv/versions/anaconda3-2019.10/lib/python3.7/site-packages/ipykernel_launcher.py:28: RuntimeWarning: divide by zero encountered in log\n"
     ]
    },
    {
     "name": "stdout",
     "output_type": "stream",
     "text": [
      "[0.  1.2 2.4 3.6 4.8 6. ] [      -inf 0.12093515 1.50722951 2.31815973 2.89352387 3.33981097] [1.         0.63905384 0.43291004 0.35700249 0.31711331 0.29197405] 1.3601744818940793\n"
     ]
    },
    {
     "data": {
      "image/png": "[encoded data removed]",
      "text/plain": [
       "<Figure size 432x288 with 1 Axes>"
      ]
     },
     "metadata": {
      "needs_background": "light"
     },
     "output_type": "display_data"
    }
   ],
   "source": [
    "#KM\n",
    "from scipy import special\n",
    "import numpy as np\n",
    "import matplotlib.pyplot as plt\n",
    "\n",
    "b=0.5 \n",
    "bt=0.02\n",
    "ep=1.0\n",
    "pt=1.0\n",
    "phx=1.12\n",
    "#ms=1.0\n",
    "yc=0.1\n",
    "mesh=6.0\n",
    "meshi=6\n",
    "\n",
    "\n",
    "\n",
    "ac = np.linspace(0.0, mesh, mesh)\n",
    "sc = np.linspace(0.0, mesh, mesh)\n",
    "SFR = np.linspace(1.0, mesh, mesh)\n",
    "ms = np.linspace(0.0, mesh, mesh)\n",
    "\n",
    "\n",
    "for j in range(0,meshi,1): \n",
    "    ms[j]=13.5*ac[j]**0.5\n",
    "    s=np.sqrt(np.log(1.0+b*b*ms[j]*ms[j]*bt/(bt+1.0)))\n",
    "    #sc=np.log(0.067*theta**(-2.0)*ac*ms*ms*f)\n",
    "    sc[j]=np.log(3.1415*3.1415/45.0*phx/phx*ac[j]*ms[j]*ms[j]/(1.0+1.0/bt))\n",
    "    SFR[j]=ep*0.5/pt*(1+special.erf((s*s-sc[j])/((8.0*s*s)**0.50)))\n",
    "    #SFR[j]=((s*s-sc[j])/((2.0*s*s)**0.50))\n",
    "\n",
    "print(ac,sc,SFR,s)\n",
    "\n",
    "\n",
    "plt.xlim(1, 11.0)\n",
    "plt.ylim(0.0003, 1.0)\n",
    "plt.yscale('log')\n",
    "plt.xscale('log')\n",
    "\n",
    "plt.scatter(ac, SFR)\n",
    "plt.show()"
   ]
  },
  {
   "cell_type": "code",
   "execution_count": 66,
   "metadata": {},
   "outputs": [
    {
     "data": {
      "image/png": "[encoded data removed]",
      "text/plain": [
       "<Figure size 432x288 with 1 Axes>"
      ]
     },
     "metadata": {
      "needs_background": "light"
     },
     "output_type": "display_data"
    }
   ],
   "source": [
    "from scipy import special\n",
    "import numpy as np\n",
    "import matplotlib.pyplot as plt\n",
    " \n",
    "x = np.linspace(-3, 3)\n",
    "plt.plot(x, special.erf(x))\n",
    "plt.xlabel('$x$')\n",
    "plt.ylabel('$erfc(x)$')\n",
    "plt.show()"
   ]
  },
  {
   "cell_type": "code",
   "execution_count": null,
   "metadata": {},
   "outputs": [],
   "source": []
  }
 ],
 "metadata": {
  "kernelspec": {
   "display_name": "Python 3",
   "language": "python",
   "name": "python3"
  },
  "language_info": {
   "codemirror_mode": {
    "name": "ipython",
    "version": 3
   },
   "file_extension": ".py",
   "mimetype": "text/x-python",
   "name": "python",
   "nbconvert_exporter": "python",
   "pygments_lexer": "ipython3",
   "version": "3.7.4"
  }
 },
 "nbformat": 4,
 "nbformat_minor": 2
}
