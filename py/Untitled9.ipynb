{
 "cells": [
  {
   "cell_type": "code",
   "execution_count": 21,
   "metadata": {},
   "outputs": [],
   "source": [
    "# coding: UTF-8\n",
    "from PIL import Image\n",
    "import numpy as np\n",
    "import matplotlib.pyplot as plt\n",
    "import h5py\n",
    "import csv\n",
    "import math\n",
    "import pandas as pd\n",
    "from matplotlib.backends.backend_pdf import PdfPages\n",
    "import matplotlib.animation as animation\n",
    "from matplotlib.animation import ArtistAnimation\n",
    "from sympy import *\n",
    "from sympy.codegen.cfunctions import log10\n",
    "    \n",
    "\n",
    "dir = '/Users/maeda/Desktop/'"
   ]
  },
  {
   "cell_type": "code",
   "execution_count": 45,
   "metadata": {},
   "outputs": [
    {
     "data": {
      "image/png": "[encoded data removed]",
      "text/plain": [
       "<Figure size 432x288 with 1 Axes>"
      ]
     },
     "metadata": {
      "needs_background": "light"
     },
     "output_type": "display_data"
    }
   ],
   "source": [
    "fig = plt.figure()\n",
    "ax = fig.add_subplot(1, 1, 1)\n",
    "\n",
    "#plt.xlim(0.1, 100)\n",
    "#plt.xlim(0.000001, 1.0)\n",
    "#plt.ylim(10**(-27), 10**(-18))\n",
    "#plt.ylim(0.001, 0.1)\n",
    "plt.ylim(10.000000, 1000000.0)\n",
    "#plt.ylim(0.01, 150)\n",
    "plt.xlim(0.1, 1)\n",
    "ax.set_yscale('log')\n",
    "ax.set_xscale('log')\n",
    "\n",
    "data01,data02 ,data03,data04 = np.loadtxt(dir+'runge4BE.dat', delimiter=',', unpack=True)\n",
    "#plt.scatter(10.0**data01, 10.0**data03/20000.0, s=3.0,c='red')\n",
    "#plt.scatter(data01, data02, s=3.0,c='red')\n",
    "#plt.scatter(data02, data01, s=3.0,c='red')\n",
    "plt.scatter(data01, data04/20, s=3.0,c='red')\n",
    "#plt.scatter(data01, data03*2*10**(-26), s=3.0,c='Blue')\n",
    "#plt.scatter(data01, data03, s=3.0,c='red')\n",
    "\n",
    "#plt.gca().set_aspect('equal')\n",
    "\n",
    "\n",
    "plt.show()\n",
    "\n",
    "pp = PdfPages('/Users/maeda/Desktop/runge4BE.pdf')\n",
    "pp.savefig(fig)\n",
    "pp.close()"
   ]
  },
  {
   "cell_type": "code",
   "execution_count": null,
   "metadata": {},
   "outputs": [],
   "source": []
  },
  {
   "cell_type": "code",
   "execution_count": null,
   "metadata": {},
   "outputs": [],
   "source": []
  }
 ],
 "metadata": {
  "kernelspec": {
   "display_name": "Python 3",
   "language": "python",
   "name": "python3"
  },
  "language_info": {
   "codemirror_mode": {
    "name": "ipython",
    "version": 3
   },
   "file_extension": ".py",
   "mimetype": "text/x-python",
   "name": "python",
   "nbconvert_exporter": "python",
   "pygments_lexer": "ipython3",
   "version": "3.7.4"
  }
 },
 "nbformat": 4,
 "nbformat_minor": 2
}
