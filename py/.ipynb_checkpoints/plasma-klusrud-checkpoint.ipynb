{
 "cells": [
  {
   "cell_type": "code",
   "execution_count": 6,
   "metadata": {},
   "outputs": [],
   "source": [
    "#import sympy as sym"
   ]
  },
  {
   "cell_type": "code",
   "execution_count": 7,
   "metadata": {},
   "outputs": [
    {
     "data": {
      "image/png": "[encoded data removed]",
      "text/latex": [
       "$\\displaystyle y{\\left(x \\right)} = C_{1} e^{- a x}$"
      ],
      "text/plain": [
       "           -a⋅x\n",
       "y(x) = C₁⋅ℯ    "
      ]
     },
     "execution_count": 7,
     "metadata": {},
     "output_type": "execute_result"
    }
   ],
   "source": [
    "import sympy as sp\n",
    "sp.init_printing()\n",
    "sp.var('a, x')\n",
    "y = sp.Function('y')(x)\n",
    "eq = sp.Eq( sp.diff(y, x),  -a*y )\n",
    "sp.dsolve(eq)"
   ]
  },
  {
   "cell_type": "code",
   "execution_count": 31,
   "metadata": {},
   "outputs": [
    {
     "data": {
      "image/png": "[encoded data removed]",
      "text/latex": [
       "$\\displaystyle \\left( t, \\  ux, \\  uy, \\  uz, \\  gc, \\  \\Omega, \\  c\\right)$"
      ],
      "text/plain": [
       "(t, ux, uy, uz, gc, Ω, c)"
      ]
     },
     "execution_count": 31,
     "metadata": {},
     "output_type": "execute_result"
    }
   ],
   "source": [
    "sp.var('t, ux, uy, uz, gc, Omega, c')"
   ]
  },
  {
   "cell_type": "code",
   "execution_count": 32,
   "metadata": {},
   "outputs": [],
   "source": [
    "ux = sp.Function('ux')(t)\n",
    "uy = sp.Function('uy')(t)\n",
    "uz = sp.Function('uz')(t)\n",
    "gc = sp.Function('gc')(t)"
   ]
  },
  {
   "cell_type": "code",
   "execution_count": 33,
   "metadata": {},
   "outputs": [
    {
     "data": {
      "image/png": "[encoded data removed]",
      "text/latex": [
       "$\\displaystyle \\left( \\frac{d}{d t} \\operatorname{ux}{\\left(t \\right)} = \\Omega \\operatorname{uy}{\\left(t \\right)}, \\  \\frac{d}{d t} \\operatorname{uy}{\\left(t \\right)} = \\Omega \\left(\\operatorname{gc}{\\left(t \\right)} - \\operatorname{ux}{\\left(t \\right)}\\right), \\  \\frac{d}{d t} \\operatorname{uz}{\\left(t \\right)} = 0, \\  \\frac{d}{d t} \\operatorname{gc}{\\left(t \\right)} = \\Omega \\operatorname{uy}{\\left(t \\right)}\\right)$"
      ],
      "text/plain": [
       "⎛d                    d                              d              d         \n",
       "⎜──(ux(t)) = Ω⋅uy(t), ──(uy(t)) = Ω⋅(gc(t) - ux(t)), ──(uz(t)) = 0, ──(gc(t)) \n",
       "⎝dt                   dt                             dt             dt        \n",
       "\n",
       "         ⎞\n",
       "= Ω⋅uy(t)⎟\n",
       "         ⎠"
      ]
     },
     "execution_count": 33,
     "metadata": {},
     "output_type": "execute_result"
    }
   ],
   "source": [
    "eq1 = sp.Eq( sp.diff(ux, t), Omega* uy )\n",
    "eq2 = sp.Eq( sp.diff(uy, t), Omega*(gc-ux) )\n",
    "eq3 = sp.Eq( sp.diff(uz, t),    0 )\n",
    "eq4 = sp.Eq( sp.diff(gc, t),  Omega*uy )\n",
    "\n",
    "eq1,eq2,eq3,eq4"
   ]
  },
  {
   "cell_type": "code",
   "execution_count": 35,
   "metadata": {},
   "outputs": [
    {
     "data": {
      "image/png": "[encoded data removed]",
      "text/latex": [
       "$\\displaystyle \\left[ \\operatorname{ux}{\\left(t \\right)} = \\frac{\\Omega^{2} c t^{2}}{2}, \\  \\operatorname{uy}{\\left(t \\right)} = \\Omega c t, \\  \\operatorname{gc}{\\left(t \\right)} = \\frac{\\Omega^{2} c t^{2}}{2} + \\Omega^{2} c \\left(1 + \\frac{1}{\\Omega^{2}}\\right) - \\Omega^{2} c\\right]$"
      ],
      "text/plain": [
       "⎡         2    2                          2    2                       ⎤\n",
       "⎢        Ω ⋅c⋅t                          Ω ⋅c⋅t     2   ⎛    1 ⎞    2  ⎥\n",
       "⎢ux(t) = ───────, uy(t) = Ω⋅c⋅t, gc(t) = ─────── + Ω ⋅c⋅⎜1 + ──⎟ - Ω ⋅c⎥\n",
       "⎢           2                               2           ⎜     2⎟       ⎥\n",
       "⎣                                                       ⎝    Ω ⎠       ⎦"
      ]
     },
     "execution_count": 35,
     "metadata": {},
     "output_type": "execute_result"
    }
   ],
   "source": [
    "sp.dsolve([eq1, eq2, eq4], ics={ux.subs(t,0):0, uy.subs(t,0):0 ,gc.subs(t,0):c})"
   ]
  },
  {
   "cell_type": "code",
   "execution_count": null,
   "metadata": {},
   "outputs": [],
   "source": []
  },
  {
   "cell_type": "code",
   "execution_count": null,
   "metadata": {},
   "outputs": [],
   "source": []
  },
  {
   "cell_type": "code",
   "execution_count": null,
   "metadata": {},
   "outputs": [],
   "source": []
  }
 ],
 "metadata": {
  "kernelspec": {
   "display_name": "Python 3",
   "language": "python",
   "name": "python3"
  },
  "language_info": {
   "codemirror_mode": {
    "name": "ipython",
    "version": 3
   },
   "file_extension": ".py",
   "mimetype": "text/x-python",
   "name": "python",
   "nbconvert_exporter": "python",
   "pygments_lexer": "ipython3",
   "version": "3.7.4"
  }
 },
 "nbformat": 4,
 "nbformat_minor": 2
}
