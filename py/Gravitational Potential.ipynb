{
 "cells": [
  {
   "cell_type": "code",
   "execution_count": 6,
   "metadata": {},
   "outputs": [],
   "source": [
    "#import sympy as sym\n",
    "import sympy as sp\n",
    "from sympy import *"
   ]
  },
  {
   "cell_type": "code",
   "execution_count": 7,
   "metadata": {},
   "outputs": [
    {
     "data": {
      "text/plain": [
       "(Phi, r, rho, rho0, pi, G, r_0)"
      ]
     },
     "execution_count": 7,
     "metadata": {},
     "output_type": "execute_result"
    }
   ],
   "source": [
    "sp.var('Phi, r, rho,rho0, pi, G, r_0')"
   ]
  },
  {
   "cell_type": "code",
   "execution_count": 8,
   "metadata": {},
   "outputs": [],
   "source": [
    "Phi = sp.Function('Phi')(r)"
   ]
  },
  {
   "cell_type": "code",
   "execution_count": 9,
   "metadata": {},
   "outputs": [
    {
     "data": {
      "text/latex": [
       "$\\displaystyle \\frac{r^{2} \\frac{d^{2}}{d r^{2}} \\Phi{\\left(r \\right)} + 2 r \\frac{d}{d r} \\Phi{\\left(r \\right)}}{r^{2}} = 4 G \\pi \\rho_{0} e^{- \\frac{r^{2}}{r_{0}^{2}}}$"
      ],
      "text/plain": [
       "Eq((r**2*Derivative(Phi(r), (r, 2)) + 2*r*Derivative(Phi(r), r))/r**2, 4*G*pi*rho0*exp(-r**2/r_0**2))"
      ]
     },
     "execution_count": 9,
     "metadata": {},
     "output_type": "execute_result"
    }
   ],
   "source": [
    "#eq1 = sp.Eq( 1/r**2 * sp.diff(r**2 * sp.diff(Phi , r) , r), 4* pi* G*rho )\n",
    "#eq1 = sp.Eq( 1/r**2 * sp.diff(r**2 * sp.diff(Phi , r) , r), 4* pi* G*rho )\n",
    "eq1 = sp.Eq( 1/r**2 * sp.diff(r**2 * sp.diff(Phi , r) , r), 4* pi* G*rho0*sp.exp(-r*r/r_0/r_0) )\n",
    "eq1"
   ]
  },
  {
   "cell_type": "code",
   "execution_count": 16,
   "metadata": {},
   "outputs": [
    {
     "data": {
      "text/latex": [
       "$\\displaystyle \\Phi{\\left(r \\right)} = C_{1} + \\frac{C_{2}}{r} - \\frac{\\sqrt{\\pi} G \\pi r_{0}^{2} \\rho_{0} \\operatorname{erf}{\\left(r \\sqrt{\\frac{1}{r_{0}^{2}}} \\right)}}{r \\sqrt{\\frac{1}{r_{0}^{2}}}}$"
      ],
      "text/plain": [
       "Eq(Phi(r), C1 + C2/r - sqrt(pi)*G*pi*r_0**2*rho0*erf(r*sqrt(r_0**(-2)))/(r*sqrt(r_0**(-2))))"
      ]
     },
     "execution_count": 16,
     "metadata": {},
     "output_type": "execute_result"
    }
   ],
   "source": [
    "#sp.dsolve(eq1, ics={sp.diff(Phi,r,1).subs(r,0):0})\n",
    "sp.dsolve(eq1)\n",
    "#sp.dsolve(eq2, ics={Phi.subs(r,0):0})\n"
   ]
  },
  {
   "cell_type": "code",
   "execution_count": 41,
   "metadata": {},
   "outputs": [
    {
     "data": {
      "text/latex": [
       "$\\displaystyle \\frac{r^{2} \\frac{d^{2}}{d r^{2}} \\Phi{\\left(r \\right)} + 2 r \\frac{d}{d r} \\Phi{\\left(r \\right)}}{r^{2}} = 0$"
      ],
      "text/plain": [
       "Eq((r**2*Derivative(Phi(r), (r, 2)) + 2*r*Derivative(Phi(r), r))/r**2, 0)"
      ]
     },
     "execution_count": 41,
     "metadata": {},
     "output_type": "execute_result"
    }
   ],
   "source": [
    "eq2 = sp.Eq( 1/r**2 * sp.diff(r**2 * sp.diff(Phi , r) , r), 0 )\n",
    "eq2"
   ]
  },
  {
   "cell_type": "code",
   "execution_count": 49,
   "metadata": {},
   "outputs": [
    {
     "data": {
      "text/latex": [
       "$\\displaystyle \\Phi{\\left(r \\right)} = 2 G \\pi r_{0}^{2} \\rho - \\frac{4 G \\pi r_{0}^{3} \\rho}{3 r}$"
      ],
      "text/plain": [
       "Eq(Phi(r), 2*G*pi*r_0**2*rho - 4*G*pi*r_0**3*rho/(3*r))"
      ]
     },
     "execution_count": 49,
     "metadata": {},
     "output_type": "execute_result"
    }
   ],
   "source": [
    "sp.dsolve(eq2, ics={Phi.subs(r,r_0):2*G*pi*r_0**2*rho/3, sp.diff(Phi,r,1).subs(r,r_0):4*G*pi*r_0*rho/3})"
   ]
  },
  {
   "cell_type": "code",
   "execution_count": 54,
   "metadata": {},
   "outputs": [
    {
     "data": {
      "text/plain": [
       "(x, y, z, dx, M)"
      ]
     },
     "execution_count": 54,
     "metadata": {},
     "output_type": "execute_result"
    }
   ],
   "source": [
    "sp.var('x, y ,z, dx, M')"
   ]
  },
  {
   "cell_type": "code",
   "execution_count": 63,
   "metadata": {},
   "outputs": [
    {
     "data": {
      "text/latex": [
       "$\\displaystyle - \\frac{G M}{\\sqrt{x^{2}}} + \\frac{G M dx}{x \\sqrt{x^{2}}} + O\\left(dx^{2}\\right)$"
      ],
      "text/plain": [
       "-G*M/sqrt(x**2) + G*M*dx/(x*sqrt(x**2)) + O(dx**2)"
      ]
     },
     "execution_count": 63,
     "metadata": {},
     "output_type": "execute_result"
    }
   ],
   "source": [
    "expr= -M*G/sp.sqrt((x+dx)**2)\n",
    "expr\n",
    "expr.series(dx,0,2)"
   ]
  },
  {
   "cell_type": "code",
   "execution_count": 58,
   "metadata": {},
   "outputs": [
    {
     "data": {
      "text/latex": [
       "$\\displaystyle - \\frac{G M}{\\sqrt{x^{2}}} + \\frac{G M dx}{x \\sqrt{x^{2}}} + O\\left(dx^{2}\\right)$"
      ],
      "text/plain": [
       "-G*M/sqrt(x**2) + G*M*dx/(x*sqrt(x**2)) + O(dx**2)"
      ]
     },
     "execution_count": 58,
     "metadata": {},
     "output_type": "execute_result"
    }
   ],
   "source": [
    "expr= -M*G/sp.sqrt((x+dx)**2)\n",
    "expr.series(dx,0,2)"
   ]
  },
  {
   "cell_type": "code",
   "execution_count": 59,
   "metadata": {},
   "outputs": [
    {
     "data": {
      "text/latex": [
       "$\\displaystyle \\frac{2 G \\pi \\rho z^{2}}{3} + \\frac{2 G \\pi \\rho y^{2}}{3} + \\frac{2 G \\pi \\rho x^{2}}{3} + \\frac{4 G dx \\pi \\rho x}{3} + O\\left(dx^{2}\\right)$"
      ],
      "text/plain": [
       "2*G*pi*rho*z**2/3 + 2*G*pi*rho*y**2/3 + 2*G*pi*rho*x**2/3 + 4*G*dx*pi*rho*x/3 + O(dx**2)"
      ]
     },
     "execution_count": 59,
     "metadata": {},
     "output_type": "execute_result"
    }
   ],
   "source": [
    "expr= 2*pi*G*rho/3*((x+dx)**2+y**2+z**2)\n",
    "expr.series(dx,0,2)"
   ]
  },
  {
   "cell_type": "code",
   "execution_count": null,
   "metadata": {},
   "outputs": [],
   "source": []
  }
 ],
 "metadata": {
  "kernelspec": {
   "display_name": "Python 3",
   "language": "python",
   "name": "python3"
  },
  "language_info": {
   "codemirror_mode": {
    "name": "ipython",
    "version": 3
   },
   "file_extension": ".py",
   "mimetype": "text/x-python",
   "name": "python",
   "nbconvert_exporter": "python",
   "pygments_lexer": "ipython3",
   "version": "3.7.4"
  }
 },
 "nbformat": 4,
 "nbformat_minor": 2
}
