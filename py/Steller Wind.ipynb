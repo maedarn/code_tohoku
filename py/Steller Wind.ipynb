{
 "cells": [
  {
   "cell_type": "code",
   "execution_count": 53,
   "metadata": {},
   "outputs": [
    {
     "data": {
      "image/png": "[encoded data removed]",
      "text/latex": [
       "$\\displaystyle y{\\left(x \\right)} = C_{1} e^{- a x}$"
      ],
      "text/plain": [
       "           -a⋅x\n",
       "y(x) = C₁⋅ℯ    "
      ]
     },
     "execution_count": 53,
     "metadata": {},
     "output_type": "execute_result"
    }
   ],
   "source": [
    "import sympy as sp\n",
    "from sympy import *\n",
    "import numpy as np\n",
    "from scipy.integrate import odeint\n",
    "import matplotlib.pyplot as plt\n",
    "from mpl_toolkits.mplot3d import Axes3D\n",
    "\n",
    "sp.init_printing()\n",
    "sp.var('a, x')\n",
    "sp.var('b1, b2')\n",
    "y = sp.Function('y')(x)\n",
    "eq = sp.Eq( sp.diff(y, x),  -a*y )\n",
    "sp.dsolve(eq) "
   ]
  },
  {
   "cell_type": "code",
   "execution_count": 64,
   "metadata": {},
   "outputs": [
    {
     "data": {
      "image/png": "[encoded data removed]",
      "text/latex": [
       "$\\displaystyle \\left( t, \\  r, \\  \\rho, \\  vr, \\  p, \\  V_{2}, \\  \\rho_{0}, \\  U, \\  G, \\  P, \\  \\xi, \\  R_{2}, \\  \\alpha, \\  L_{w}, \\  \\gamma\\right)$"
      ],
      "text/plain": [
       "(t, r, ρ, vr, p, V₂, ρ₀, U, G, P, ξ, R₂, α, L_w, γ)"
      ]
     },
     "execution_count": 64,
     "metadata": {},
     "output_type": "execute_result"
    }
   ],
   "source": [
    "sp.var('t, r, rho, vr, p, V2, rho_0, U, G, P, xi, R2, alpha, L_w, gamma')"
   ]
  },
  {
   "cell_type": "code",
   "execution_count": null,
   "metadata": {},
   "outputs": [],
   "source": []
  },
  {
   "cell_type": "code",
   "execution_count": 66,
   "metadata": {},
   "outputs": [],
   "source": [
    "rho = sp.Function('rho')(t,r)\n",
    "p = sp.Function('p')(t,r)\n",
    "v = sp.Function('v')(t,r)"
   ]
  },
  {
   "cell_type": "code",
   "execution_count": 67,
   "metadata": {},
   "outputs": [
    {
     "data": {
      "image/png": "[encoded data removed]",
      "text/latex": [
       "$\\displaystyle \\left( v{\\left(t,r \\right)} \\frac{\\partial}{\\partial r} v{\\left(t,r \\right)} + \\frac{\\partial}{\\partial t} v{\\left(t,r \\right)} + \\frac{\\frac{\\partial}{\\partial r} p{\\left(t,r \\right)}}{\\rho{\\left(t,r \\right)}} = 0, \\  \\rho{\\left(t,r \\right)} \\frac{\\partial}{\\partial r} v{\\left(t,r \\right)} + v{\\left(t,r \\right)} \\frac{\\partial}{\\partial r} \\rho{\\left(t,r \\right)} + \\frac{\\partial}{\\partial t} \\rho{\\left(t,r \\right)} + \\frac{2 \\rho{\\left(t,r \\right)} v{\\left(t,r \\right)}}{r} = 0, \\  - \\frac{\\gamma p{\\left(t,r \\right)} \\rho^{- \\gamma}{\\left(t,r \\right)} \\frac{\\partial}{\\partial t} \\rho{\\left(t,r \\right)}}{\\rho{\\left(t,r \\right)}} + \\left(- \\frac{\\gamma p{\\left(t,r \\right)} \\rho^{- \\gamma}{\\left(t,r \\right)} \\frac{\\partial}{\\partial r} \\rho{\\left(t,r \\right)}}{\\rho{\\left(t,r \\right)}} + \\rho^{- \\gamma}{\\left(t,r \\right)} \\frac{\\partial}{\\partial r} p{\\left(t,r \\right)}\\right) v{\\left(t,r \\right)} + \\rho^{- \\gamma}{\\left(t,r \\right)} \\frac{\\partial}{\\partial t} p{\\left(t,r \\right)} = 0\\right)$"
      ],
      "text/plain": [
       "⎛                                    ∂                                        \n",
       "⎜                                    ──(p(t, r))                              \n",
       "⎜        ∂             ∂             ∂r                       ∂               \n",
       "⎜v(t, r)⋅──(v(t, r)) + ──(v(t, r)) + ─────────── = 0, ρ(t, r)⋅──(v(t, r)) + v(\n",
       "⎝        ∂r            ∂t              ρ(t, r)                ∂r              \n",
       "\n",
       "                                                                      -γ      \n",
       "                                                           γ⋅p(t, r)⋅ρ  (t, r)\n",
       "      ∂             ∂             2⋅ρ(t, r)⋅v(t, r)                           \n",
       "t, r)⋅──(ρ(t, r)) + ──(ρ(t, r)) + ───────────────── = 0, - ───────────────────\n",
       "      ∂r            ∂t                    r                            ρ(t, r)\n",
       "\n",
       " ∂             ⎛             -γ       ∂                                  ⎞    \n",
       "⋅──(ρ(t, r))   ⎜  γ⋅p(t, r)⋅ρ  (t, r)⋅──(ρ(t, r))                        ⎟    \n",
       " ∂t            ⎜                      ∂r             -γ       ∂          ⎟    \n",
       "──────────── + ⎜- ─────────────────────────────── + ρ  (t, r)⋅──(p(t, r))⎟⋅v(t\n",
       "               ⎝              ρ(t, r)                         ∂r         ⎠    \n",
       "\n",
       "                                ⎞\n",
       "                                ⎟\n",
       "        -γ       ∂              ⎟\n",
       ", r) + ρ  (t, r)⋅──(p(t, r)) = 0⎟\n",
       "                 ∂t             ⎠"
      ]
     },
     "execution_count": 67,
     "metadata": {},
     "output_type": "execute_result"
    }
   ],
   "source": [
    "eq1 = sp.Eq( sp.diff(v, t)+v*sp.diff(v, r)+sp.diff(p, r)/rho, 0 )\n",
    "eq2 = sp.Eq( sp.diff(rho, t)+v*sp.diff(rho, r)+rho*sp.diff(v, r)+2*rho*v/r, 0)\n",
    "eq3 = sp.Eq( sp.diff(p*rho**(-gamma), t)+v*sp.diff(p*rho**(-gamma), r),    0 )\n",
    "\n",
    "eq1,eq2,eq3"
   ]
  },
  {
   "cell_type": "code",
   "execution_count": null,
   "metadata": {},
   "outputs": [],
   "source": []
  },
  {
   "cell_type": "code",
   "execution_count": 68,
   "metadata": {},
   "outputs": [],
   "source": [
    "#from sympy import *\n",
    "#r, t = symbols('r t') # r (radius), t (angle theta)\n",
    "#f = symbols('f', cls=Function)\n",
    "#x = r* cos(t)\n",
    "#y = r* sin(t)\n",
    "#g = f(x,y)\n",
    "#Derivative(g,r, 2).doit()"
   ]
  },
  {
   "cell_type": "code",
   "execution_count": 69,
   "metadata": {},
   "outputs": [
    {
     "data": {
      "image/png": "[encoded data removed]",
      "text/latex": [
       "$\\displaystyle \\left( \\left(- 3 \\xi + 3 U{\\left(\\xi \\right)}\\right) \\frac{d}{d \\xi} U{\\left(\\xi \\right)} - 2 U{\\left(\\xi \\right)} + \\frac{3 \\frac{d}{d \\xi} P{\\left(\\xi \\right)}}{G{\\left(\\xi \\right)}} = 0, \\  \\frac{\\left(- \\xi + U{\\left(\\xi \\right)}\\right) \\frac{d}{d \\xi} G{\\left(\\xi \\right)}}{G{\\left(\\xi \\right)}} + \\frac{d}{d \\xi} U{\\left(\\xi \\right)} + \\frac{2 U{\\left(\\xi \\right)}}{\\xi} = 0, \\  - \\frac{3 \\gamma \\left(- \\xi + U{\\left(\\xi \\right)}\\right) P{\\left(\\xi \\right)} \\frac{d}{d \\xi} G{\\left(\\xi \\right)}}{G{\\left(\\xi \\right)}} + \\left(- 3 \\xi + 3 U{\\left(\\xi \\right)}\\right) \\frac{d}{d \\xi} P{\\left(\\xi \\right)} - 4 P{\\left(\\xi \\right)} = 0\\right)$"
      ],
      "text/plain": [
       "⎛                                      d                         d            \n",
       "⎜                                    3⋅──(P(ξ))      (-ξ + U(ξ))⋅──(G(ξ))     \n",
       "⎜                d                     dξ                        dξ         d \n",
       "⎜(-3⋅ξ + 3⋅U(ξ))⋅──(U(ξ)) - 2⋅U(ξ) + ────────── = 0, ──────────────────── + ──\n",
       "⎝                dξ                     G(ξ)                 G(ξ)           dξ\n",
       "\n",
       "                                            d                                 \n",
       "                       3⋅γ⋅(-ξ + U(ξ))⋅P(ξ)⋅──(G(ξ))                          \n",
       "         2⋅U(ξ)                             dξ                         d      \n",
       "(U(ξ)) + ────── = 0, - ───────────────────────────── + (-3⋅ξ + 3⋅U(ξ))⋅──(P(ξ)\n",
       "           ξ                        G(ξ)                               dξ     \n",
       "\n",
       "              ⎞\n",
       "              ⎟\n",
       "              ⎟\n",
       ") - 4⋅P(ξ) = 0⎟\n",
       "              ⎠"
      ]
     },
     "execution_count": 69,
     "metadata": {},
     "output_type": "execute_result"
    }
   ],
   "source": [
    "U = sp.Function('U')(xi)\n",
    "G = sp.Function('G')(xi)\n",
    "P = sp.Function('P')(xi)\n",
    "\n",
    "eq4 = sp.Eq(3*(U-xi) * sp.diff(U, xi) -2*U+3*sp.diff(P, xi)/G, 0)\n",
    "eq5 = sp.Eq((U-xi)*sp.diff(G, xi)/G +sp.diff(U, xi)+2*U/xi, 0)\n",
    "eq6 = sp.Eq(3*(U-xi)*sp.diff(P, xi)-3*gamma*P*(U-xi)*sp.diff(G, xi)/G-4*P,0)\n",
    "\n",
    "eq4,eq5,eq6"
   ]
  },
  {
   "cell_type": "code",
   "execution_count": 75,
   "metadata": {},
   "outputs": [
    {
     "data": {
      "image/png": "[encoded data removed]",
      "text/latex": [
       "$\\displaystyle \\left\\{ dG : \\frac{2 \\left(\\xi \\left(\\xi - U{\\left(\\xi \\right)}\\right) G{\\left(\\xi \\right)} U{\\left(\\xi \\right)} + 2 \\xi P{\\left(\\xi \\right)} - 3 \\left(\\xi - U{\\left(\\xi \\right)}\\right)^{2} G{\\left(\\xi \\right)} U{\\left(\\xi \\right)}\\right) G{\\left(\\xi \\right)}}{3 \\xi \\left(\\xi - U{\\left(\\xi \\right)}\\right) \\left(\\gamma P{\\left(\\xi \\right)} - \\left(\\xi - U{\\left(\\xi \\right)}\\right)^{2} G{\\left(\\xi \\right)}\\right)}, \\  dP : \\frac{2 \\left(\\gamma \\xi U{\\left(\\xi \\right)} - 3 \\gamma \\left(\\xi - U{\\left(\\xi \\right)}\\right) U{\\left(\\xi \\right)} + 2 \\xi \\left(\\xi - U{\\left(\\xi \\right)}\\right)\\right) G{\\left(\\xi \\right)} P{\\left(\\xi \\right)}}{3 \\xi \\left(\\gamma P{\\left(\\xi \\right)} - \\left(\\xi - U{\\left(\\xi \\right)}\\right)^{2} G{\\left(\\xi \\right)}\\right)}, \\  dU : \\frac{2 \\left(- 3 \\gamma P{\\left(\\xi \\right)} U{\\left(\\xi \\right)} + \\xi \\left(\\xi - U{\\left(\\xi \\right)}\\right) G{\\left(\\xi \\right)} U{\\left(\\xi \\right)} + 2 \\xi P{\\left(\\xi \\right)}\\right)}{3 \\xi \\left(\\gamma P{\\left(\\xi \\right)} - \\left(\\xi - U{\\left(\\xi \\right)}\\right)^{2} G{\\left(\\xi \\right)}\\right)}\\right\\}$"
      ],
      "text/plain": [
       "⎧      ⎛                                                2          ⎞          \n",
       "⎪    2⋅⎝ξ⋅(ξ - U(ξ))⋅G(ξ)⋅U(ξ) + 2⋅ξ⋅P(ξ) - 3⋅(ξ - U(ξ)) ⋅G(ξ)⋅U(ξ)⎠⋅G(ξ)     \n",
       "⎨dG: ────────────────────────────────────────────────────────────────────, dP:\n",
       "⎪                                ⎛                   2     ⎞                  \n",
       "⎩                 3⋅ξ⋅(ξ - U(ξ))⋅⎝γ⋅P(ξ) - (ξ - U(ξ)) ⋅G(ξ)⎠                  \n",
       "\n",
       "                                                                              \n",
       " 2⋅(γ⋅ξ⋅U(ξ) - 3⋅γ⋅(ξ - U(ξ))⋅U(ξ) + 2⋅ξ⋅(ξ - U(ξ)))⋅G(ξ)⋅P(ξ)      2⋅(-3⋅γ⋅P(\n",
       " ─────────────────────────────────────────────────────────────, dU: ──────────\n",
       "                    ⎛                   2     ⎞                               \n",
       "                3⋅ξ⋅⎝γ⋅P(ξ) - (ξ - U(ξ)) ⋅G(ξ)⎠                               \n",
       "\n",
       "                                            ⎫\n",
       "ξ)⋅U(ξ) + ξ⋅(ξ - U(ξ))⋅G(ξ)⋅U(ξ) + 2⋅ξ⋅P(ξ))⎪\n",
       "────────────────────────────────────────────⎬\n",
       "     ⎛                   2     ⎞            ⎪\n",
       " 3⋅ξ⋅⎝γ⋅P(ξ) - (ξ - U(ξ)) ⋅G(ξ)⎠            ⎭"
      ]
     },
     "execution_count": 75,
     "metadata": {},
     "output_type": "execute_result"
    }
   ],
   "source": [
    "sp.var('dU,dG,dP')\n",
    "\n",
    "eq7 = sp.Eq(3*(U-xi) * dU -2*U+3*dP/G, 0)\n",
    "eq8 = sp.Eq((U-xi)*dG/G +dU+2*U/xi, 0)\n",
    "eq9 = sp.Eq(3*(U-xi)*dP-3*gamma*P*(U-xi)*dG/G-4*P, 0)\n",
    "\n",
    "eq7,eq8,eq9\n",
    "\n",
    "dif1=sp.solve ([eq7, eq8, eq9], [dU,dG,dP]) \n",
    "dif1"
   ]
  },
  {
   "cell_type": "code",
   "execution_count": 52,
   "metadata": {},
   "outputs": [
    {
     "ename": "AttributeError",
     "evalue": "'list' object has no attribute 'func'",
     "output_type": "error",
     "traceback": [
      "\u001b[0;31m---------------------------------------------------------------------------\u001b[0m",
      "\u001b[0;31mAttributeError\u001b[0m                            Traceback (most recent call last)",
      "\u001b[0;32m<ipython-input-52-958441301494>\u001b[0m in \u001b[0;36m<module>\u001b[0;34m\u001b[0m\n\u001b[0;32m----> 1\u001b[0;31m \u001b[0mgcsubs\u001b[0m\u001b[0;34m=\u001b[0m\u001b[0msp\u001b[0m\u001b[0;34m.\u001b[0m\u001b[0mdsolve\u001b[0m\u001b[0;34m(\u001b[0m\u001b[0;34m[\u001b[0m\u001b[0meq4\u001b[0m\u001b[0;34m,\u001b[0m \u001b[0meq5\u001b[0m\u001b[0;34m,\u001b[0m \u001b[0meq6\u001b[0m\u001b[0;34m]\u001b[0m\u001b[0;34m,\u001b[0m \u001b[0mics\u001b[0m\u001b[0;34m=\u001b[0m\u001b[0;34m{\u001b[0m\u001b[0mG\u001b[0m\u001b[0;34m.\u001b[0m\u001b[0msubs\u001b[0m\u001b[0;34m(\u001b[0m\u001b[0mxi\u001b[0m\u001b[0;34m,\u001b[0m\u001b[0;36m1\u001b[0m\u001b[0;34m)\u001b[0m\u001b[0;34m:\u001b[0m\u001b[0;36m4\u001b[0m\u001b[0;34m,\u001b[0m \u001b[0mU\u001b[0m\u001b[0;34m.\u001b[0m\u001b[0msubs\u001b[0m\u001b[0;34m(\u001b[0m\u001b[0mxi\u001b[0m\u001b[0;34m,\u001b[0m\u001b[0;36m1\u001b[0m\u001b[0;34m)\u001b[0m\u001b[0;34m:\u001b[0m\u001b[0;36m3\u001b[0m\u001b[0;34m/\u001b[0m\u001b[0;36m4\u001b[0m \u001b[0;34m,\u001b[0m\u001b[0mP\u001b[0m\u001b[0;34m.\u001b[0m\u001b[0msubs\u001b[0m\u001b[0;34m(\u001b[0m\u001b[0mxi\u001b[0m\u001b[0;34m,\u001b[0m\u001b[0;36m1\u001b[0m\u001b[0;34m)\u001b[0m\u001b[0;34m:\u001b[0m\u001b[0;36m3\u001b[0m\u001b[0;34m/\u001b[0m\u001b[0;36m4\u001b[0m\u001b[0;34m}\u001b[0m\u001b[0;34m)\u001b[0m\u001b[0;34m\u001b[0m\u001b[0;34m\u001b[0m\u001b[0m\n\u001b[0m",
      "\u001b[0;32m~/.pyenv/versions/anaconda3-2019.10/lib/python3.7/site-packages/sympy/solvers/ode.py\u001b[0m in \u001b[0;36mdsolve\u001b[0;34m(eq, func, hint, simplify, ics, xi, eta, x0, n, **kwargs)\u001b[0m\n\u001b[1;32m    594\u001b[0m     \"\"\"\n\u001b[1;32m    595\u001b[0m     \u001b[0;32mif\u001b[0m \u001b[0miterable\u001b[0m\u001b[0;34m(\u001b[0m\u001b[0meq\u001b[0m\u001b[0;34m)\u001b[0m\u001b[0;34m:\u001b[0m\u001b[0;34m\u001b[0m\u001b[0;34m\u001b[0m\u001b[0m\n\u001b[0;32m--> 596\u001b[0;31m         \u001b[0mmatch\u001b[0m \u001b[0;34m=\u001b[0m \u001b[0mclassify_sysode\u001b[0m\u001b[0;34m(\u001b[0m\u001b[0meq\u001b[0m\u001b[0;34m,\u001b[0m \u001b[0mfunc\u001b[0m\u001b[0;34m)\u001b[0m\u001b[0;34m\u001b[0m\u001b[0;34m\u001b[0m\u001b[0m\n\u001b[0m\u001b[1;32m    597\u001b[0m         \u001b[0meq\u001b[0m \u001b[0;34m=\u001b[0m \u001b[0mmatch\u001b[0m\u001b[0;34m[\u001b[0m\u001b[0;34m'eq'\u001b[0m\u001b[0;34m]\u001b[0m\u001b[0;34m\u001b[0m\u001b[0;34m\u001b[0m\u001b[0m\n\u001b[1;32m    598\u001b[0m         \u001b[0morder\u001b[0m \u001b[0;34m=\u001b[0m \u001b[0mmatch\u001b[0m\u001b[0;34m[\u001b[0m\u001b[0;34m'order'\u001b[0m\u001b[0;34m]\u001b[0m\u001b[0;34m\u001b[0m\u001b[0;34m\u001b[0m\u001b[0m\n",
      "\u001b[0;32m~/.pyenv/versions/anaconda3-2019.10/lib/python3.7/site-packages/sympy/solvers/ode.py\u001b[0m in \u001b[0;36mclassify_sysode\u001b[0;34m(eq, funcs, **kwargs)\u001b[0m\n\u001b[1;32m   1656\u001b[0m             \u001b[0;32melif\u001b[0m \u001b[0mmatching_hints\u001b[0m\u001b[0;34m[\u001b[0m\u001b[0;34m'no_of_equation'\u001b[0m\u001b[0;34m]\u001b[0m \u001b[0;34m==\u001b[0m \u001b[0;36m3\u001b[0m\u001b[0;34m:\u001b[0m\u001b[0;34m\u001b[0m\u001b[0;34m\u001b[0m\u001b[0m\n\u001b[1;32m   1657\u001b[0m                 \u001b[0;32mif\u001b[0m \u001b[0morder_eq\u001b[0m \u001b[0;34m==\u001b[0m \u001b[0;36m1\u001b[0m\u001b[0;34m:\u001b[0m\u001b[0;34m\u001b[0m\u001b[0;34m\u001b[0m\u001b[0m\n\u001b[0;32m-> 1658\u001b[0;31m                     \u001b[0mtype_of_equation\u001b[0m \u001b[0;34m=\u001b[0m \u001b[0mcheck_nonlinear_3eq_order1\u001b[0m\u001b[0;34m(\u001b[0m\u001b[0meq\u001b[0m\u001b[0;34m,\u001b[0m \u001b[0mfuncs\u001b[0m\u001b[0;34m,\u001b[0m \u001b[0mfunc_coef\u001b[0m\u001b[0;34m)\u001b[0m\u001b[0;34m\u001b[0m\u001b[0;34m\u001b[0m\u001b[0m\n\u001b[0m\u001b[1;32m   1659\u001b[0m                 \u001b[0;32melse\u001b[0m\u001b[0;34m:\u001b[0m\u001b[0;34m\u001b[0m\u001b[0;34m\u001b[0m\u001b[0m\n\u001b[1;32m   1660\u001b[0m                     \u001b[0mtype_of_equation\u001b[0m \u001b[0;34m=\u001b[0m \u001b[0;32mNone\u001b[0m\u001b[0;34m\u001b[0m\u001b[0;34m\u001b[0m\u001b[0m\n",
      "\u001b[0;32m~/.pyenv/versions/anaconda3-2019.10/lib/python3.7/site-packages/sympy/solvers/ode.py\u001b[0m in \u001b[0;36mcheck_nonlinear_3eq_order1\u001b[0;34m(eq, func, func_coef)\u001b[0m\n\u001b[1;32m   1975\u001b[0m \u001b[0;34m\u001b[0m\u001b[0m\n\u001b[1;32m   1976\u001b[0m \u001b[0;32mdef\u001b[0m \u001b[0mcheck_nonlinear_3eq_order1\u001b[0m\u001b[0;34m(\u001b[0m\u001b[0meq\u001b[0m\u001b[0;34m,\u001b[0m \u001b[0mfunc\u001b[0m\u001b[0;34m,\u001b[0m \u001b[0mfunc_coef\u001b[0m\u001b[0;34m)\u001b[0m\u001b[0;34m:\u001b[0m\u001b[0;34m\u001b[0m\u001b[0;34m\u001b[0m\u001b[0m\n\u001b[0;32m-> 1977\u001b[0;31m     \u001b[0mx\u001b[0m \u001b[0;34m=\u001b[0m \u001b[0mfunc\u001b[0m\u001b[0;34m[\u001b[0m\u001b[0;36m0\u001b[0m\u001b[0;34m]\u001b[0m\u001b[0;34m.\u001b[0m\u001b[0mfunc\u001b[0m\u001b[0;34m\u001b[0m\u001b[0;34m\u001b[0m\u001b[0m\n\u001b[0m\u001b[1;32m   1978\u001b[0m     \u001b[0my\u001b[0m \u001b[0;34m=\u001b[0m \u001b[0mfunc\u001b[0m\u001b[0;34m[\u001b[0m\u001b[0;36m1\u001b[0m\u001b[0;34m]\u001b[0m\u001b[0;34m.\u001b[0m\u001b[0mfunc\u001b[0m\u001b[0;34m\u001b[0m\u001b[0;34m\u001b[0m\u001b[0m\n\u001b[1;32m   1979\u001b[0m     \u001b[0mz\u001b[0m \u001b[0;34m=\u001b[0m \u001b[0mfunc\u001b[0m\u001b[0;34m[\u001b[0m\u001b[0;36m2\u001b[0m\u001b[0;34m]\u001b[0m\u001b[0;34m.\u001b[0m\u001b[0mfunc\u001b[0m\u001b[0;34m\u001b[0m\u001b[0;34m\u001b[0m\u001b[0m\n",
      "\u001b[0;31mAttributeError\u001b[0m: 'list' object has no attribute 'func'"
     ]
    }
   ],
   "source": [
    "#1階連立常微分方程式（Lorenz方程式）\n",
    "def func_lorenz(var, t, p, r, b):\n",
    "    dUdt = -p*var[0] +p*var[1]\n",
    "    dPdt = -var[0]*var[2] +r*var[0] -var[1]\n",
    "    dGdt = var[0]*var[1] -b*var[2]\n",
    "\n",
    "    return [dxdt, dydt, dzdt]\n",
    "\n",
    "\n",
    "#3d可視化\n",
    "def plot3d(t_list, var_list):\n",
    "    fig = plt.figure()\n",
    "    ax = fig.gca(projection='3d')\n",
    "\n",
    "    ax.set_xlabel(\"$x$\")  #x軸の名前\n",
    "    ax.set_ylabel(\"$y$\")  #y軸の名前\n",
    "    ax.set_zlabel(\"$z$\")  #z軸の名前\n",
    "    ax.plot(var_list[:, 0], var_list[:, 1], var_list[:, 2])\n",
    "\n",
    "    plt.show()\n",
    "\n",
    "\n",
    "#メイン実行部\n",
    "if (__name__ == '__main__'):\n",
    "    #1階連立常微分方程式（Lorenz方程式）\n",
    "    t_list = np.linspace(0.0, 100.0, 10000)\n",
    "    p = 10\n",
    "    r = 28\n",
    "    b = 8/3\n",
    "    var_init = [0.1, 0.1, 0.1]  #3次元座標上での初期値\n",
    "    var_list = odeint(func_lorenz, var_init, t_list, args=(p, r, b))\n",
    "    print(var_list)\n",
    "\n",
    "    #可視化\n",
    "    plot3d(t_list, var_list)"
   ]
  },
  {
   "cell_type": "code",
   "execution_count": null,
   "metadata": {},
   "outputs": [],
   "source": [
    "'''\n",
    "#1階連立常微分方程式（Lorenz方程式）\n",
    "def func_lorenz(var, t, p, r, b):\n",
    "    dxdt = -p*var[0] +p*var[1]\n",
    "    dydt = -var[0]*var[2] +r*var[0] -var[1]\n",
    "    dzdt = var[0]*var[1] -b*var[2]\n",
    "\n",
    "    return [dxdt, dydt, dzdt]\n",
    "\n",
    "\n",
    "#3d可視化\n",
    "def plot3d(t_list, var_list):\n",
    "    fig = plt.figure()\n",
    "    ax = fig.gca(projection='3d')\n",
    "\n",
    "    ax.set_xlabel(\"$x$\")  #x軸の名前\n",
    "    ax.set_ylabel(\"$y$\")  #y軸の名前\n",
    "    ax.set_zlabel(\"$z$\")  #z軸の名前\n",
    "    ax.plot(var_list[:, 0], var_list[:, 1], var_list[:, 2])\n",
    "\n",
    "    plt.show()\n",
    "\n",
    "\n",
    "#メイン実行部\n",
    "if (__name__ == '__main__'):\n",
    "    #1階連立常微分方程式（Lorenz方程式）\n",
    "    t_list = np.linspace(0.0, 100.0, 10000)\n",
    "    p = 10\n",
    "    r = 28\n",
    "    b = 8/3\n",
    "    var_init = [0.1, 0.1, 0.1]  #3次元座標上での初期値\n",
    "    var_list = odeint(func_lorenz, var_init, t_list, args=(p, r, b))\n",
    "    print(var_list)\n",
    "\n",
    "    #可視化\n",
    "    plot3d(t_list, var_list)\n",
    "'''"
   ]
  },
  {
   "cell_type": "code",
   "execution_count": null,
   "metadata": {},
   "outputs": [],
   "source": []
  }
 ],
 "metadata": {
  "kernelspec": {
   "display_name": "Python 3",
   "language": "python",
   "name": "python3"
  },
  "language_info": {
   "codemirror_mode": {
    "name": "ipython",
    "version": 3
   },
   "file_extension": ".py",
   "mimetype": "text/x-python",
   "name": "python",
   "nbconvert_exporter": "python",
   "pygments_lexer": "ipython3",
   "version": "3.7.4"
  }
 },
 "nbformat": 4,
 "nbformat_minor": 2
}
