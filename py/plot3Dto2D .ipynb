{
 "cells": [
  {
   "cell_type": "code",
   "execution_count": 1,
   "metadata": {},
   "outputs": [],
   "source": [
    "from PIL import Image\n",
    "import numpy as np\n",
    "import matplotlib.pyplot as plt\n",
    "import h5py\n",
    "import csv\n",
    "import math\n",
    "import pandas as pd\n",
    "from matplotlib.backends.backend_pdf import PdfPages\n",
    "import matplotlib.animation as animation\n",
    "from matplotlib.animation import ArtistAnimation"
   ]
  },
  {
   "cell_type": "code",
   "execution_count": 4,
   "metadata": {},
   "outputs": [
    {
     "ename": "NameError",
     "evalue": "name 'h5py' is not defined",
     "output_type": "error",
     "traceback": [
      "\u001b[0;31m---------------------------------------------------------------------------\u001b[0m",
      "\u001b[0;31mNameError\u001b[0m                                 Traceback (most recent call last)",
      "\u001b[0;32m<ipython-input-4-a3e8e2986ea7>\u001b[0m in \u001b[0;36m<module>\u001b[0;34m\u001b[0m\n\u001b[1;32m      5\u001b[0m \u001b[0mfolder2\u001b[0m\u001b[0;34m=\u001b[0m\u001b[0;34m\"Phiexa\"\u001b[0m  \u001b[0;31m#+ str(np.int(sample_frequency))\u001b[0m\u001b[0;34m\u001b[0m\u001b[0;34m\u001b[0m\u001b[0m\n\u001b[1;32m      6\u001b[0m \u001b[0;34m\u001b[0m\u001b[0m\n\u001b[0;32m----> 7\u001b[0;31m \u001b[0mh5file1\u001b[0m \u001b[0;34m=\u001b[0m \u001b[0mh5py\u001b[0m\u001b[0;34m.\u001b[0m\u001b[0mFile\u001b[0m\u001b[0;34m(\u001b[0m\u001b[0mdir1\u001b[0m\u001b[0;34m+\u001b[0m\u001b[0;34m'NAllHDF'\u001b[0m\u001b[0;34m+\u001b[0m\u001b[0;34m\"%03.f\"\u001b[0m\u001b[0;34m%\u001b[0m\u001b[0;34m(\u001b[0m\u001b[0mi\u001b[0m\u001b[0;34m)\u001b[0m\u001b[0;34m+\u001b[0m\u001b[0;34m'.h5'\u001b[0m\u001b[0;34m,\u001b[0m\u001b[0;34m\"r\"\u001b[0m\u001b[0;34m)\u001b[0m\u001b[0;34m\u001b[0m\u001b[0;34m\u001b[0m\u001b[0m\n\u001b[0m\u001b[1;32m      8\u001b[0m \u001b[0;34m\u001b[0m\u001b[0m\n\u001b[1;32m      9\u001b[0m \u001b[0;31m#データ読み込み\u001b[0m\u001b[0;34m\u001b[0m\u001b[0;34m\u001b[0m\u001b[0;34m\u001b[0m\u001b[0m\n",
      "\u001b[0;31mNameError\u001b[0m: name 'h5py' is not defined"
     ]
    }
   ],
   "source": [
    "i = 3\n",
    "dir1  = '/Users/maeda/Desktop/Dropbox/analysis/telegraph-test-3D-shusoku/tel-mesh128-kp-cnt/PHICG1ITR10T020nr/'\n",
    "\n",
    "folder1=\"Phiwv\"  #+ str(np.int(sample_frequency)) \n",
    "folder2=\"Phiexa\"  #+ str(np.int(sample_frequency)) \n",
    "\n",
    "h5file1 = h5py.File(dir1+'NAllHDF'+\"%03.f\"%(i)+'.h5',\"r\")\n",
    "\n",
    "#データ読み込み\n",
    "Phiwv1to1  = h5file1[folder1+\"/Phiwv1\"].value \n",
    "Phiexa1 = h5file1[folder2+\"/Phiexa\"].value \n",
    "\n",
    "data01=Phiwv1to1[:,:,64]\n",
    "data02=Phiexa1[:,:,64]\n",
    "\n",
    "fig = plt.figure()\n",
    "ax = fig.add_subplot(111)\n",
    "#fig.subplots_adjust(bottom=0, left=0, top=1, right=1)\n",
    "\n",
    "plt.rcParams[\"font.family\"] = \"Times New Roman\"      #全体のフォントを設定\n",
    "plt.rcParams[\"xtick.direction\"] = \"in\"               #x軸の目盛線が内向き('in')か外向き('out')か双方向か('inout')\n",
    "plt.rcParams[\"ytick.direction\"] = \"in\"               #y軸の目盛線が内向き('in')か外向き('out')か双方向か('inout')\n",
    "#plt.rcParams[\"xtick.minor.visible\"] = True          #x軸補助目盛りの追加\n",
    "#plt.rcParams[\"ytick.minor.visible\"] = True          #y軸補助目盛りの追加\n",
    "#plt.rcParams[\"xtick.major.width\"] = 1.5              #x軸主目盛り線の線幅\n",
    "#plt.rcParams[\"ytick.major.width\"] = 1.5              #y軸主目盛り線の線幅\n",
    "#plt.rcParams[\"xtick.minor.width\"] = 1.0              #x軸補助目盛り線の線幅\n",
    "#plt.rcParams[\"ytick.minor.width\"] = 1.0              #y軸補助目盛り線の線幅\n",
    "plt.rcParams[\"xtick.major.size\"] = 5                #x軸主目盛り線の長さ\n",
    "plt.rcParams[\"ytick.major.size\"] = 5                #y軸主目盛り線の長さ\n",
    "#plt.rcParams[\"xtick.minor.size\"] = 5                #x軸補助目盛り線の長さ\n",
    "#plt.rcParams[\"ytick.minor.size\"] = 5                #y軸補助目盛り線の長さ\n",
    "plt.rcParams[\"font.size\"] = 20                       #フォントの大きさ\n",
    "#plt.rcParams[\"axes.linewidth\"] = 1.5                 #囲みの太さ\n",
    "\n",
    "\n",
    "x = np.arange(0.0, 100.1, 100.0/128.0)\n",
    "y = np.arange(0.0, 100.1, 100.0/128.0)\n",
    "plt.pcolormesh(x,y,data02, cmap='jet') # 等高線図の生成。cmapで色付けの規則を指定する。\n",
    "\n",
    "\n",
    "plt.clim(-5.0, 1200.0)\n",
    "pp=plt.colorbar (orientation=\"vertical\") # カラーバーの表示 \"vertical\"\n",
    "pp.set_label(\"$\\Phi$\", fontsize=24) #カラーバーのラベル\n",
    "plt.xlim([-0.0, 100.0]) # x方向の描画範囲を指定\n",
    "plt.ylim([-0.0, 100.0]) # y方向の描画範囲を指定\n",
    "plt.xlabel('X', fontsize=24)\n",
    "plt.ylabel('Y', fontsize=24)\n",
    "plt.xticks(np.arange(0, 101, step=20))\n",
    "plt.yticks(np.arange(0, 101, step=20))\n",
    "#fig = plt.figure(figsize=(5, 5))\n",
    "#ax.set_aspect('equal', adjustable='box')\n",
    "#quadmesh.set_clim(vmin=0, vmax=15)\n",
    "#plt.axes().set_aspect('equal', 'datalim')\n",
    "plt.gca().set_aspect('equal')\n",
    "\n",
    "#pp = PdfPages('/Users/maeda/Desktop/phi'+\"%03.f\"%(i)+'.pdf')\n",
    "pp = PdfPages('/Users/maeda/Desktop/phiexa.pdf')\n",
    "# 画像をPDFとして保存する\n",
    "pp.savefig(fig, bbox_inches='tight')\n",
    "# PDFの保存終了\n",
    "pp.close()\n",
    "\n",
    "\n",
    "plt.show()"
   ]
  },
  {
   "cell_type": "code",
   "execution_count": 9,
   "metadata": {},
   "outputs": [
    {
     "data": {
      "image/png": "[encoded data removed]",
      "text/plain": [
       "<Figure size 432x288 with 1 Axes>"
      ]
     },
     "metadata": {
      "needs_background": "light"
     },
     "output_type": "display_data"
    }
   ],
   "source": [
    "\n",
    "fig = plt.figure()\n",
    "ax = fig.add_subplot(1, 1, 1)\n",
    "\n",
    "data01=Phiwv1to1[:,63,63]\n",
    "data02=Phiexa1[:,64,64]\n",
    "\n",
    "plt.plot(data01,marker=\"o\",color='red', linewidth = 1) \n",
    "\n",
    "\n",
    "plt.show()"
   ]
  },
  {
   "cell_type": "code",
   "execution_count": null,
   "metadata": {},
   "outputs": [],
   "source": []
  }
 ],
 "metadata": {
  "kernelspec": {
   "display_name": "Python 3",
   "language": "python",
   "name": "python3"
  },
  "language_info": {
   "codemirror_mode": {
    "name": "ipython",
    "version": 3
   },
   "file_extension": ".py",
   "mimetype": "text/x-python",
   "name": "python",
   "nbconvert_exporter": "python",
   "pygments_lexer": "ipython3",
   "version": "3.7.4"
  }
 },
 "nbformat": 4,
 "nbformat_minor": 2
}
