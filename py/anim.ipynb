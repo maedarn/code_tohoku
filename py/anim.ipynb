{
 "cells": [
  {
   "cell_type": "code",
   "execution_count": 3,
   "metadata": {},
   "outputs": [],
   "source": [
    "# coding: UTF-8\n",
    "from PIL import Image\n",
    "import numpy as np\n",
    "import matplotlib.pyplot as plt\n",
    "import h5py\n",
    "import csv\n",
    "import math\n",
    "import pandas as pd\n",
    "from matplotlib.backends.backend_pdf import PdfPages\n",
    "import matplotlib.animation as animation\n",
    "from matplotlib.animation import ArtistAnimation\n",
    "\n",
    "dir = '/Users/maeda/Desktop/Dropbox/analysis/telegraph-test-1D-1/2th/mesh256/'\n",
    "dirn = '/Users/maeda/Desktop/Dropbox/analysis/telegraph-test-1D-1/exa/'\n",
    "#dirm='/Users/maeda/Desktop/Dropbox/analysis/telegraph-test-1D-1/cg1-T01-rho1-cen-128-1000st/'\n",
    "dirm='/Users/maeda/Desktop/Dropbox/analysis/telegraph-test-1D-1/prdc/'\n",
    "\n",
    "\n",
    "#data01,data02,data03,data04,data05,data06,data07,data08 = np.loadtxt(dir+'phi00002.dat', delimiter=',', unpack=True)\n",
    "#plt.plot(data01,data06,marker=\"o\",color='red', linewidth = 1)  \n",
    "#plt.show()\n",
    "\n",
    "#data = pd.read_csv(dir+'phi00100.csv')\n",
    "#lux = data['LUX'].astype('int64')\n",
    "#data = data.sort_values(by=\"LUX\", ascending=True)\n",
    "#log_data = np.log(data)\n",
    "#data"
   ]
  },
  {
   "cell_type": "code",
   "execution_count": 2,
   "metadata": {},
   "outputs": [
    {
     "ename": "FileNotFoundError",
     "evalue": "/Users/maeda/Desktop/Dropbox/analysis/telegraph-test-1D-1/2th/mesh256/phi00000.dat not found.",
     "output_type": "error",
     "traceback": [
      "\u001b[0;31m---------------------------------------------------------------------------\u001b[0m",
      "\u001b[0;31mFileNotFoundError\u001b[0m                         Traceback (most recent call last)",
      "Cell \u001b[0;32mIn[2], line 28\u001b[0m\n\u001b[1;32m     24\u001b[0m plt\u001b[38;5;241m.\u001b[39mylim(\u001b[38;5;241m-\u001b[39m\u001b[38;5;241m0.005\u001b[39m, \u001b[38;5;241m0.005\u001b[39m)\n\u001b[1;32m     26\u001b[0m \u001b[38;5;66;03m#data01,data02,data03,data04,data05,data06 = np.loadtxt(dir+'phi'+\"%05.f\"%(i)+'.dat', delimiter=',', unpack=True)\u001b[39;00m\n\u001b[1;32m     27\u001b[0m \u001b[38;5;66;03m#data01,data02,data03 = np.loadtxt(dir+'phi'+\"%05.f\"%(i)+'.dat', delimiter=',', unpack=True)\u001b[39;00m\n\u001b[0;32m---> 28\u001b[0m data01,data02,data03,data04,data05 \u001b[38;5;241m=\u001b[39m \u001b[43mnp\u001b[49m\u001b[38;5;241;43m.\u001b[39;49m\u001b[43mloadtxt\u001b[49m\u001b[43m(\u001b[49m\u001b[38;5;28;43mdir\u001b[39;49m\u001b[38;5;241;43m+\u001b[39;49m\u001b[38;5;124;43m'\u001b[39;49m\u001b[38;5;124;43mphi\u001b[39;49m\u001b[38;5;124;43m'\u001b[39;49m\u001b[38;5;241;43m+\u001b[39;49m\u001b[38;5;124;43m\"\u001b[39;49m\u001b[38;5;124;43m%\u001b[39;49m\u001b[38;5;124;43m05.f\u001b[39;49m\u001b[38;5;124;43m\"\u001b[39;49m\u001b[38;5;241;43m%\u001b[39;49m\u001b[43m(\u001b[49m\u001b[43mi\u001b[49m\u001b[43m)\u001b[49m\u001b[38;5;241;43m+\u001b[39;49m\u001b[38;5;124;43m'\u001b[39;49m\u001b[38;5;124;43m.dat\u001b[39;49m\u001b[38;5;124;43m'\u001b[39;49m\u001b[43m,\u001b[49m\u001b[43m \u001b[49m\u001b[43mdelimiter\u001b[49m\u001b[38;5;241;43m=\u001b[39;49m\u001b[38;5;124;43m'\u001b[39;49m\u001b[38;5;124;43m,\u001b[39;49m\u001b[38;5;124;43m'\u001b[39;49m\u001b[43m,\u001b[49m\u001b[43m \u001b[49m\u001b[43munpack\u001b[49m\u001b[38;5;241;43m=\u001b[39;49m\u001b[38;5;28;43;01mTrue\u001b[39;49;00m\u001b[43m)\u001b[49m\n\u001b[1;32m     29\u001b[0m \u001b[38;5;66;03m#data01,data02,data03,data04,data05,data06,data07,data08,data09 = np.loadtxt(dirm+'phi'+\"%05.f\"%(i)+'.dat', delimiter=',', unpack=True)\u001b[39;00m\n\u001b[1;32m     30\u001b[0m \u001b[38;5;66;03m#fata01,fata02,fata03,fata04,fata05 = np.loadtxt(dirn+'phiexa'+\"%03.f\"%(i)+'.dat', delimiter=',', unpack=True)\u001b[39;00m\n\u001b[1;32m     31\u001b[0m \u001b[38;5;66;03m#image1 = plt.plot(data01,data02,marker=\"o\",color='blue', linewidth = 1) \u001b[39;00m\n\u001b[1;32m     32\u001b[0m \u001b[38;5;66;03m#image1 = plt.plot(data01,(data02+data03)*0.5,marker=\"o\",color='blue', linewidth = 1) \u001b[39;00m\n\u001b[1;32m     33\u001b[0m image2 \u001b[38;5;241m=\u001b[39m plt\u001b[38;5;241m.\u001b[39mplot(data01,data02,marker\u001b[38;5;241m=\u001b[39m\u001b[38;5;124m\"\u001b[39m\u001b[38;5;124mo\u001b[39m\u001b[38;5;124m\"\u001b[39m,color\u001b[38;5;241m=\u001b[39m\u001b[38;5;124m'\u001b[39m\u001b[38;5;124mred\u001b[39m\u001b[38;5;124m'\u001b[39m, linewidth \u001b[38;5;241m=\u001b[39m \u001b[38;5;241m1\u001b[39m) \n",
      "File \u001b[0;32m~/.pyenv/versions/anaconda3-2023.03/lib/python3.10/site-packages/numpy/lib/npyio.py:1338\u001b[0m, in \u001b[0;36mloadtxt\u001b[0;34m(fname, dtype, comments, delimiter, converters, skiprows, usecols, unpack, ndmin, encoding, max_rows, quotechar, like)\u001b[0m\n\u001b[1;32m   1335\u001b[0m \u001b[38;5;28;01mif\u001b[39;00m \u001b[38;5;28misinstance\u001b[39m(delimiter, \u001b[38;5;28mbytes\u001b[39m):\n\u001b[1;32m   1336\u001b[0m     delimiter \u001b[38;5;241m=\u001b[39m delimiter\u001b[38;5;241m.\u001b[39mdecode(\u001b[38;5;124m'\u001b[39m\u001b[38;5;124mlatin1\u001b[39m\u001b[38;5;124m'\u001b[39m)\n\u001b[0;32m-> 1338\u001b[0m arr \u001b[38;5;241m=\u001b[39m \u001b[43m_read\u001b[49m\u001b[43m(\u001b[49m\u001b[43mfname\u001b[49m\u001b[43m,\u001b[49m\u001b[43m \u001b[49m\u001b[43mdtype\u001b[49m\u001b[38;5;241;43m=\u001b[39;49m\u001b[43mdtype\u001b[49m\u001b[43m,\u001b[49m\u001b[43m \u001b[49m\u001b[43mcomment\u001b[49m\u001b[38;5;241;43m=\u001b[39;49m\u001b[43mcomment\u001b[49m\u001b[43m,\u001b[49m\u001b[43m \u001b[49m\u001b[43mdelimiter\u001b[49m\u001b[38;5;241;43m=\u001b[39;49m\u001b[43mdelimiter\u001b[49m\u001b[43m,\u001b[49m\n\u001b[1;32m   1339\u001b[0m \u001b[43m            \u001b[49m\u001b[43mconverters\u001b[49m\u001b[38;5;241;43m=\u001b[39;49m\u001b[43mconverters\u001b[49m\u001b[43m,\u001b[49m\u001b[43m \u001b[49m\u001b[43mskiplines\u001b[49m\u001b[38;5;241;43m=\u001b[39;49m\u001b[43mskiprows\u001b[49m\u001b[43m,\u001b[49m\u001b[43m \u001b[49m\u001b[43musecols\u001b[49m\u001b[38;5;241;43m=\u001b[39;49m\u001b[43musecols\u001b[49m\u001b[43m,\u001b[49m\n\u001b[1;32m   1340\u001b[0m \u001b[43m            \u001b[49m\u001b[43munpack\u001b[49m\u001b[38;5;241;43m=\u001b[39;49m\u001b[43munpack\u001b[49m\u001b[43m,\u001b[49m\u001b[43m \u001b[49m\u001b[43mndmin\u001b[49m\u001b[38;5;241;43m=\u001b[39;49m\u001b[43mndmin\u001b[49m\u001b[43m,\u001b[49m\u001b[43m \u001b[49m\u001b[43mencoding\u001b[49m\u001b[38;5;241;43m=\u001b[39;49m\u001b[43mencoding\u001b[49m\u001b[43m,\u001b[49m\n\u001b[1;32m   1341\u001b[0m \u001b[43m            \u001b[49m\u001b[43mmax_rows\u001b[49m\u001b[38;5;241;43m=\u001b[39;49m\u001b[43mmax_rows\u001b[49m\u001b[43m,\u001b[49m\u001b[43m \u001b[49m\u001b[43mquote\u001b[49m\u001b[38;5;241;43m=\u001b[39;49m\u001b[43mquotechar\u001b[49m\u001b[43m)\u001b[49m\n\u001b[1;32m   1343\u001b[0m \u001b[38;5;28;01mreturn\u001b[39;00m arr\n",
      "File \u001b[0;32m~/.pyenv/versions/anaconda3-2023.03/lib/python3.10/site-packages/numpy/lib/npyio.py:975\u001b[0m, in \u001b[0;36m_read\u001b[0;34m(fname, delimiter, comment, quote, imaginary_unit, usecols, skiplines, max_rows, converters, ndmin, unpack, dtype, encoding)\u001b[0m\n\u001b[1;32m    973\u001b[0m     fname \u001b[38;5;241m=\u001b[39m os\u001b[38;5;241m.\u001b[39mfspath(fname)\n\u001b[1;32m    974\u001b[0m \u001b[38;5;28;01mif\u001b[39;00m \u001b[38;5;28misinstance\u001b[39m(fname, \u001b[38;5;28mstr\u001b[39m):\n\u001b[0;32m--> 975\u001b[0m     fh \u001b[38;5;241m=\u001b[39m \u001b[43mnp\u001b[49m\u001b[38;5;241;43m.\u001b[39;49m\u001b[43mlib\u001b[49m\u001b[38;5;241;43m.\u001b[39;49m\u001b[43m_datasource\u001b[49m\u001b[38;5;241;43m.\u001b[39;49m\u001b[43mopen\u001b[49m\u001b[43m(\u001b[49m\u001b[43mfname\u001b[49m\u001b[43m,\u001b[49m\u001b[43m \u001b[49m\u001b[38;5;124;43m'\u001b[39;49m\u001b[38;5;124;43mrt\u001b[39;49m\u001b[38;5;124;43m'\u001b[39;49m\u001b[43m,\u001b[49m\u001b[43m \u001b[49m\u001b[43mencoding\u001b[49m\u001b[38;5;241;43m=\u001b[39;49m\u001b[43mencoding\u001b[49m\u001b[43m)\u001b[49m\n\u001b[1;32m    976\u001b[0m     \u001b[38;5;28;01mif\u001b[39;00m encoding \u001b[38;5;129;01mis\u001b[39;00m \u001b[38;5;28;01mNone\u001b[39;00m:\n\u001b[1;32m    977\u001b[0m         encoding \u001b[38;5;241m=\u001b[39m \u001b[38;5;28mgetattr\u001b[39m(fh, \u001b[38;5;124m'\u001b[39m\u001b[38;5;124mencoding\u001b[39m\u001b[38;5;124m'\u001b[39m, \u001b[38;5;124m'\u001b[39m\u001b[38;5;124mlatin1\u001b[39m\u001b[38;5;124m'\u001b[39m)\n",
      "File \u001b[0;32m~/.pyenv/versions/anaconda3-2023.03/lib/python3.10/site-packages/numpy/lib/_datasource.py:193\u001b[0m, in \u001b[0;36mopen\u001b[0;34m(path, mode, destpath, encoding, newline)\u001b[0m\n\u001b[1;32m    156\u001b[0m \u001b[38;5;124;03m\"\"\"\u001b[39;00m\n\u001b[1;32m    157\u001b[0m \u001b[38;5;124;03mOpen `path` with `mode` and return the file object.\u001b[39;00m\n\u001b[1;32m    158\u001b[0m \n\u001b[0;32m   (...)\u001b[0m\n\u001b[1;32m    189\u001b[0m \n\u001b[1;32m    190\u001b[0m \u001b[38;5;124;03m\"\"\"\u001b[39;00m\n\u001b[1;32m    192\u001b[0m ds \u001b[38;5;241m=\u001b[39m DataSource(destpath)\n\u001b[0;32m--> 193\u001b[0m \u001b[38;5;28;01mreturn\u001b[39;00m \u001b[43mds\u001b[49m\u001b[38;5;241;43m.\u001b[39;49m\u001b[43mopen\u001b[49m\u001b[43m(\u001b[49m\u001b[43mpath\u001b[49m\u001b[43m,\u001b[49m\u001b[43m \u001b[49m\u001b[43mmode\u001b[49m\u001b[43m,\u001b[49m\u001b[43m \u001b[49m\u001b[43mencoding\u001b[49m\u001b[38;5;241;43m=\u001b[39;49m\u001b[43mencoding\u001b[49m\u001b[43m,\u001b[49m\u001b[43m \u001b[49m\u001b[43mnewline\u001b[49m\u001b[38;5;241;43m=\u001b[39;49m\u001b[43mnewline\u001b[49m\u001b[43m)\u001b[49m\n",
      "File \u001b[0;32m~/.pyenv/versions/anaconda3-2023.03/lib/python3.10/site-packages/numpy/lib/_datasource.py:533\u001b[0m, in \u001b[0;36mDataSource.open\u001b[0;34m(self, path, mode, encoding, newline)\u001b[0m\n\u001b[1;32m    530\u001b[0m     \u001b[38;5;28;01mreturn\u001b[39;00m _file_openers[ext](found, mode\u001b[38;5;241m=\u001b[39mmode,\n\u001b[1;32m    531\u001b[0m                               encoding\u001b[38;5;241m=\u001b[39mencoding, newline\u001b[38;5;241m=\u001b[39mnewline)\n\u001b[1;32m    532\u001b[0m \u001b[38;5;28;01melse\u001b[39;00m:\n\u001b[0;32m--> 533\u001b[0m     \u001b[38;5;28;01mraise\u001b[39;00m \u001b[38;5;167;01mFileNotFoundError\u001b[39;00m(\u001b[38;5;124mf\u001b[39m\u001b[38;5;124m\"\u001b[39m\u001b[38;5;132;01m{\u001b[39;00mpath\u001b[38;5;132;01m}\u001b[39;00m\u001b[38;5;124m not found.\u001b[39m\u001b[38;5;124m\"\u001b[39m)\n",
      "\u001b[0;31mFileNotFoundError\u001b[0m: /Users/maeda/Desktop/Dropbox/analysis/telegraph-test-1D-1/2th/mesh256/phi00000.dat not found."
     ]
    },
    {
     "data": {
      "image/png": "[encoded data removed]",
      "text/plain": [
       "<Figure size 640x480 with 1 Axes>"
      ]
     },
     "metadata": {},
     "output_type": "display_data"
    }
   ],
   "source": [
    "#data_col = data.columns\n",
    "\n",
    "fig = plt.figure()\n",
    "ax = fig.add_subplot(1, 1, 1)\n",
    "\n",
    "# 0 <=x < 2pi の範囲の点列を作成。\n",
    "# 各コマの画像を格納する配列\n",
    "image_list = []\n",
    "\n",
    "for i in range(100):\n",
    "    # ずらしながらsinカーブを描写し、配列に格納\n",
    "    #y = np.sin(np.roll(x, -i))\n",
    "    #image = ax.plot(x, y)\n",
    "    \n",
    "    #simu\n",
    "    #data01,data02,data03,data04,data05,data06 = np.loadtxt(dir+'phi'+\"%05.f\"%(i)+'.dat', delimiter=',', unpack=True)\n",
    "    #image = plt.plot(data01,data02,marker=\"o\",color='blue', linewidth = 1)    \n",
    "    #image_list.append(image)\n",
    "    \n",
    "    #exa\n",
    "    #data01,data02,data03 = np.loadtxt(dir+'phiexa'+\"%03.f\"%(i)+'.dat', delimiter=',', unpack=True)\n",
    "    #image = plt.plot(data01,data02,marker=\"o\",color='blue', linewidth = 1)    \n",
    "    #image_list.append(image)\n",
    "    plt.ylim(-0.005, 0.005)\n",
    "    \n",
    "    #data01,data02,data03,data04,data05,data06 = np.loadtxt(dir+'phi'+\"%05.f\"%(i)+'.dat', delimiter=',', unpack=True)\n",
    "    #data01,data02,data03 = np.loadtxt(dir+'phi'+\"%05.f\"%(i)+'.dat', delimiter=',', unpack=True)\n",
    "    data01,data02,data03,data04,data05 = np.loadtxt(dir+'phi'+\"%05.f\"%(i)+'.dat', delimiter=',', unpack=True)\n",
    "    #data01,data02,data03,data04,data05,data06,data07,data08,data09 = np.loadtxt(dirm+'phi'+\"%05.f\"%(i)+'.dat', delimiter=',', unpack=True)\n",
    "    #fata01,fata02,fata03,fata04,fata05 = np.loadtxt(dirn+'phiexa'+\"%03.f\"%(i)+'.dat', delimiter=',', unpack=True)\n",
    "    #image1 = plt.plot(data01,data02,marker=\"o\",color='blue', linewidth = 1) \n",
    "    #image1 = plt.plot(data01,(data02+data03)*0.5,marker=\"o\",color='blue', linewidth = 1) \n",
    "    image2 = plt.plot(data01,data02,marker=\"o\",color='red', linewidth = 1) \n",
    "    #image3 = plt.plot(data01,data04,marker=\"o\",color='green', linewidth = 1) \n",
    "    #image2 = plt.plot(fata01,fata05*2.0,marker=\"o\",color='red', linewidth = 1)  \n",
    "    #image4 = plt.plot(fata01,fata02,marker=\"o\",color='red', linewidth = 1) \n",
    "    #image2 = plt.plot(fata01,fata02,marker=\"o\",color='red', linewidth = 1) \n",
    "    #image2 = plt.plot(fata01,fata02,marker=\"o\",color='red', linewidth = 1) \n",
    "    #image2 = plt.plot(data01,data02,marker=\"o\",color='red', linewidth = 1) \n",
    "    #image3 = plt.plot(fata01,fata05,marker=\"o\",color='green', linewidth = 1) \n",
    "    #image3 = plt.plot(data01,data04,marker=\"o\",color='green', linewidth = 1) \n",
    "    image4 = plt.plot(data01,data04,marker=\"o\",color='black', linewidth = 1) \n",
    "    #image_list.append(image1+image2+image3+image4)\n",
    "    image_list.append(image4+image2)\n",
    "    #image_list.append(image2)\n",
    "    \n",
    "    \n",
    "\n",
    "\n",
    "\n",
    "# アニメーションを作成\n",
    "ani = ArtistAnimation(fig, image_list, interval=50,repeat_delay=1000)\n",
    "# gifに保存\n",
    "#ani.save('/Users/maeda/Desktop/anim.gif', writer='pillow')\n",
    "ani.save('/Users/maeda/Desktop/anim256.mp4', writer=\"ffmpeg\")\n",
    "plt.show()\n",
    "\n"
   ]
  },
  {
   "cell_type": "code",
   "execution_count": 74,
   "metadata": {},
   "outputs": [],
   "source": [
    "dir1  = '/Users/maeda/Desktop/Dropbox/analysis/telegraph-test-1D-1/2th/mesh064/'\n",
    "dir2  = '/Users/maeda/Desktop/Dropbox/analysis/telegraph-test-1D-1/2th/mesh128/'\n",
    "dir3  = '/Users/maeda/Desktop/Dropbox/analysis/telegraph-test-1D-1/2th/mesh256/'\n",
    "dir4  = '/Users/maeda/Desktop/Dropbox/analysis/telegraph-test-1D-1/2th/mesh512/'\n",
    "\n",
    "i=100\n",
    "aata01,aata02,aata03,aata04,aata05 = np.loadtxt(dir1+'phi'+\"%05.f\"%(i)+'.dat', delimiter=',', unpack=True)\n",
    "eata01,eata02,eata03,eata04,eata05 = np.loadtxt(dir2+'phi'+\"%05.f\"%(i)+'.dat', delimiter=',', unpack=True)\n",
    "fata01,fata02,fata03,fata04,fata05 = np.loadtxt(dir3+'phi'+\"%05.f\"%(i)+'.dat', delimiter=',', unpack=True)\n",
    "gata01,gata02,gata03,gata04,gata05 = np.loadtxt(dir4+'phi'+\"%05.f\"%(i)+'.dat', delimiter=',', unpack=True)"
   ]
  },
  {
   "cell_type": "code",
   "execution_count": 78,
   "metadata": {},
   "outputs": [
    {
     "data": {
      "text/plain": [
       "array([-2.74485867,  0.68564861])"
      ]
     },
     "execution_count": 78,
     "metadata": {},
     "output_type": "execute_result"
    },
    {
     "data": {
      "image/png": "[encoded data removed]",
      "text/plain": [
       "<Figure size 432x288 with 1 Axes>"
      ]
     },
     "metadata": {
      "needs_background": "light"
     },
     "output_type": "display_data"
    }
   ],
   "source": [
    "err1=aata02-aata04\n",
    "err2=eata02-eata04\n",
    "err3=fata02 -fata04\n",
    "err4=gata02-gata04\n",
    "\n",
    "err1=np.sqrt(np.mean(err1*err1))\n",
    "err2=np.sqrt(np.mean(err2*err2))\n",
    "err3=np.sqrt(np.mean(err3*err3))\n",
    "err4=np.sqrt(np.mean(err4*err4))\n",
    "\n",
    "\n",
    "musclerr=[0] * 4\n",
    "msh=[0] * 4\n",
    "\n",
    "musclerr[0]=err1\n",
    "musclerr[1]=err2\n",
    "musclerr[2]=err3\n",
    "musclerr[3]=err4\n",
    "\n",
    "\n",
    "msh[0]=64.0\n",
    "msh[1]=128.0\n",
    "msh[2]=256.0\n",
    "msh[3]=512.0\n",
    "\n",
    "fig = plt.figure()\n",
    "ax = fig.add_subplot(111)\n",
    "\n",
    "plt.rcParams[\"font.family\"] = \"Times New Roman\"      #全体のフォントを設定\n",
    "plt.rcParams[\"xtick.direction\"] = \"in\"               #x軸の目盛線が内向き('in')か外向き('out')か双方向か('inout')\n",
    "plt.rcParams[\"ytick.direction\"] = \"in\"               #y軸の目盛線が内向き('in')か外向き('out')か双方向か('inout')\n",
    "#plt.rcParams[\"xtick.minor.visible\"] = True          #x軸補助目盛りの追加\n",
    "#plt.rcParams[\"ytick.minor.visible\"] = True          #y軸補助目盛りの追加\n",
    "#plt.rcParams[\"xtick.major.width\"] = 1.5              #x軸主目盛り線の線幅\n",
    "#plt.rcParams[\"ytick.major.width\"] = 1.5              #y軸主目盛り線の線幅\n",
    "#plt.rcParams[\"xtick.minor.width\"] = 1.0              #x軸補助目盛り線の線幅\n",
    "#plt.rcParams[\"ytick.minor.width\"] = 1.0              #y軸補助目盛り線の線幅\n",
    "plt.rcParams[\"xtick.major.size\"] = 5                #x軸主目盛り線の長さ\n",
    "plt.rcParams[\"ytick.major.size\"] = 5                #y軸主目盛り線の長さ\n",
    "#plt.rcParams[\"xtick.minor.size\"] = 5                #x軸補助目盛り線の長さ\n",
    "#plt.rcParams[\"ytick.minor.size\"] = 5                #y軸補助目盛り線の長さ\n",
    "plt.rcParams[\"font.size\"] = 20                       #フォントの大きさ\n",
    "#plt.rcParams[\"axes.linewidth\"] = 1.5                 #囲みの太さ\n",
    "\n",
    "lgmusclerr=np.log10(musclerr)\n",
    "lgmsh=np.log10(msh)\n",
    "\n",
    "plt.scatter(lgmsh, lgmusclerr, s=3.0,c='red')\n",
    "lgmsh[0]\n",
    "\n",
    "coef_20 = np.polyfit(lgmsh,lgmusclerr,1) #係数\n",
    "y_pred_20 = coef_20[0]*lgmsh+ coef_20[1] #フィッティング関数\n",
    "plt.plot(lgmsh,y_pred_20,label=\"d=1\") #1次式\n",
    "\n",
    "\n",
    "ax.set_xlabel('Cell')\n",
    "\n",
    "x = np.arange(60, 1000, 0.1)\n",
    "x=np.log10(x)\n",
    "y = -(x) * 3.0 + 0.65726\n",
    "plt.plot(x, y)\n",
    "\n",
    "\n",
    "# 保存するPDFファイル名\n",
    "pp = PdfPages('/Users/maeda/Desktop/err2.pdf')\n",
    "# 画像をPDFとして保存する\n",
    "pp.savefig(fig)\n",
    "# PDFの保存終了\n",
    "pp.close()\n",
    "#plt.savefig(\"R-Vesc.png\")\n",
    "                    \n",
    "#plt.savefig(\"R-Vesc.png\")\n",
    "\n",
    "coef_20\n",
    "\n",
    "\n"
   ]
  },
  {
   "cell_type": "code",
   "execution_count": 8,
   "metadata": {},
   "outputs": [
    {
     "ename": "ValueError",
     "evalue": "not enough values to unpack (expected 7, got 5)",
     "output_type": "error",
     "traceback": [
      "\u001b[0;31m---------------------------------------------------------------------------\u001b[0m",
      "\u001b[0;31mValueError\u001b[0m                                Traceback (most recent call last)",
      "Cell \u001b[0;32mIn[8], line 9\u001b[0m\n\u001b[1;32m      7\u001b[0m \u001b[38;5;28;01mfor\u001b[39;00m i \u001b[38;5;129;01min\u001b[39;00m \u001b[38;5;28mrange\u001b[39m(\u001b[38;5;241m6\u001b[39m):\n\u001b[1;32m      8\u001b[0m     plt\u001b[38;5;241m.\u001b[39mylim(\u001b[38;5;241m-\u001b[39m\u001b[38;5;241m0.005\u001b[39m, \u001b[38;5;241m0.005\u001b[39m)\n\u001b[0;32m----> 9\u001b[0m     data01,data02,data03,data04,data05,data06,data07 \u001b[38;5;241m=\u001b[39m np\u001b[38;5;241m.\u001b[39mloadtxt(\u001b[38;5;28mdir\u001b[39m\u001b[38;5;241m+\u001b[39m\u001b[38;5;124m'\u001b[39m\u001b[38;5;124mriemanndata\u001b[39m\u001b[38;5;124m'\u001b[39m\u001b[38;5;241m+\u001b[39m\u001b[38;5;124m\"\u001b[39m\u001b[38;5;124m%\u001b[39m\u001b[38;5;124m04.f\u001b[39m\u001b[38;5;124m\"\u001b[39m\u001b[38;5;241m%\u001b[39m(i)\u001b[38;5;241m+\u001b[39m\u001b[38;5;124m'\u001b[39m\u001b[38;5;124m.dat\u001b[39m\u001b[38;5;124m'\u001b[39m, unpack\u001b[38;5;241m=\u001b[39m\u001b[38;5;28;01mTrue\u001b[39;00m)\n\u001b[1;32m     10\u001b[0m     image2 \u001b[38;5;241m=\u001b[39m plt\u001b[38;5;241m.\u001b[39mplot(data01,data04,marker\u001b[38;5;241m=\u001b[39m\u001b[38;5;124m\"\u001b[39m\u001b[38;5;124mo\u001b[39m\u001b[38;5;124m\"\u001b[39m,color\u001b[38;5;241m=\u001b[39m\u001b[38;5;124m'\u001b[39m\u001b[38;5;124mred\u001b[39m\u001b[38;5;124m'\u001b[39m, linewidth \u001b[38;5;241m=\u001b[39m \u001b[38;5;241m1\u001b[39m) \n\u001b[1;32m     11\u001b[0m     \u001b[38;5;66;03m#image4 = plt.plot(data01,data04,marker=\"o\",color='black', linewidth = 1) \u001b[39;00m\n\u001b[1;32m     12\u001b[0m     \u001b[38;5;66;03m#image_list.append(image4+image2)\u001b[39;00m\n\u001b[1;32m     13\u001b[0m     \n\u001b[0;32m   (...)\u001b[0m\n\u001b[1;32m     17\u001b[0m \n\u001b[1;32m     18\u001b[0m \u001b[38;5;66;03m# アニメーションを作成\u001b[39;00m\n",
      "\u001b[0;31mValueError\u001b[0m: not enough values to unpack (expected 7, got 5)"
     ]
    },
    {
     "data": {
      "image/png": "[encoded data removed]",
      "text/plain": [
       "<Figure size 640x480 with 1 Axes>"
      ]
     },
     "metadata": {},
     "output_type": "display_data"
    }
   ],
   "source": [
    "dir = '/Users/maedarn/Dropbox/code/code/riemann/'\n",
    "\n",
    "fig = plt.figure()\n",
    "ax = fig.add_subplot(1, 1, 1)\n",
    "image_list = []\n",
    "\n",
    "for i in range(6):\n",
    "    plt.ylim(-0.005, 0.005)\n",
    "    data01,data02,data03,data04,data05,data06,data07 = np.loadtxt(dir+'riemanndata'+\"%04.f\"%(i)+'.dat', unpack=True)\n",
    "    image2 = plt.plot(data01,data04,marker=\"o\",color='red', linewidth = 1) \n",
    "    #image4 = plt.plot(data01,data04,marker=\"o\",color='black', linewidth = 1) \n",
    "    #image_list.append(image4+image2)\n",
    "    \n",
    "    \n",
    "\n",
    "\n",
    "\n",
    "# アニメーションを作成\n",
    "ani = ArtistAnimation(fig, image_list, interval=50,repeat_delay=1000)\n",
    "# gifに保存\n",
    "#ani.save('/Users/maeda/Desktop/anim.gif', writer='pillow')\n",
    "ani.save('/Users/maeda/Desktop/riemanntest.mp4', writer=\"ffmpeg\")\n",
    "plt.show()\n",
    "\n"
   ]
  },
  {
   "cell_type": "code",
   "execution_count": 51,
   "metadata": {},
   "outputs": [
    {
     "name": "stdout",
     "output_type": "stream",
     "text": [
      "[0.00936857 0.00936857 0.00936857 ... 0.001083   0.001083   0.001083  ] [0.00185657 0.00185657 0.00185657 ... 0.005465   0.005465   0.005465  ]\n"
     ]
    },
    {
     "data": {
      "text/plain": [
       "[<matplotlib.lines.Line2D at 0x14292e8c0>]"
      ]
     },
     "execution_count": 51,
     "metadata": {},
     "output_type": "execute_result"
    },
    {
     "data": {
      "image/png": "[encoded data removed]",
      "text/plain": [
       "<Figure size 640x480 with 1 Axes>"
      ]
     },
     "metadata": {},
     "output_type": "display_data"
    }
   ],
   "source": [
    "dir = '/Users/maedarn/Dropbox/code/code/riemann/'\n",
    "\n",
    "fig = plt.figure()\n",
    "ax = fig.add_subplot(1, 1, 1)\n",
    "data01,data02,data03,data04,data05,data06,data07 = np.loadtxt(dir+'riemanndata0003.dat', unpack=True)\n",
    "adata01,adata02,adata03,adata04,adata05,adata06,adata07 = np.loadtxt(dir+'ariemanndata0003.dat', unpack=True)\n",
    "rho0=np.max(data02)\n",
    "v0=np.max(data03)\n",
    "p0=np.max(data04)\n",
    "\n",
    "arho0=np.max(adata02)\n",
    "av0=np.max(adata03)\n",
    "ap0=np.max(adata04)\n",
    "\n",
    "#plt.plot(data01,data02,marker=\"o\",color='red', linewidth = 1) \n",
    "plt.plot(data01,data03,marker=\"o\",color='blue', linewidth = 1) \n",
    "#plt.plot(data01,data04/p0*1.2,marker=\"o\",color='green', linewidth = 1) \n",
    "print(data02,adata02)\n",
    "\n",
    "#plt.plot(data01,adata02,marker=\"o\",color='black', linewidth = 1) \n",
    "plt.plot(data01,adata03,marker=\"o\",color='cyan', linewidth = 1) \n",
    "#plt.plot(data01,adata04/ap0*1.2,marker=\"o\",color='orange', linewidth = 1) "
   ]
  },
  {
   "cell_type": "code",
   "execution_count": null,
   "metadata": {},
   "outputs": [],
   "source": []
  }
 ],
 "metadata": {
  "kernelspec": {
   "display_name": "Python 3 (ipykernel)",
   "language": "python",
   "name": "python3"
  },
  "language_info": {
   "codemirror_mode": {
    "name": "ipython",
    "version": 3
   },
   "file_extension": ".py",
   "mimetype": "text/x-python",
   "name": "python",
   "nbconvert_exporter": "python",
   "pygments_lexer": "ipython3",
   "version": "3.10.9"
  }
 },
 "nbformat": 4,
 "nbformat_minor": 2
}
