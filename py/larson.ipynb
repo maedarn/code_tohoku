{
 "cells": [
  {
   "cell_type": "code",
   "execution_count": 1,
   "metadata": {},
   "outputs": [],
   "source": [
    "# coding: UTF-8\n",
    "from PIL import Image\n",
    "import numpy as np\n",
    "import matplotlib.pyplot as plt\n",
    "import h5py\n",
    "import csv\n",
    "import math\n",
    "import pandas as pd\n",
    "from matplotlib.backends.backend_pdf import PdfPages\n",
    "import matplotlib.animation as animation\n",
    "from matplotlib.animation import ArtistAnimation\n",
    "from sympy import *\n",
    "from sympy.codegen.cfunctions import log10\n",
    "    \n",
    "#dir='/Users/maeda/Desktop/Dropbox/analysis/test-feedback/VDF-test10/'\n",
    "dir='/Users/maeda/Desktop/'\n",
    "\n",
    "i=1\n",
    "ist=1\n",
    "nloop=100\n",
    "nx=128\n",
    "ny=128\n",
    "nz=128\n",
    "nstar=5000"
   ]
  },
  {
   "cell_type": "code",
   "execution_count": 2,
   "metadata": {},
   "outputs": [
    {
     "name": "stderr",
     "output_type": "stream",
     "text": [
      "/Users/maeda/.pyenv/versions/anaconda3-2019.10/lib/python3.7/site-packages/h5py/_hl/dataset.py:313: H5pyDeprecationWarning: dataset.value has been deprecated. Use dataset[()] instead.\n",
      "  \"Use dataset[()] instead.\", H5pyDeprecationWarning)\n"
     ]
    }
   ],
   "source": [
    "h5file1 = h5py.File(dir+'HAllV001.h5',\"r\")\n",
    "\n",
    "folder1=\"V\"  #+ str(np.int(sample_frequency)) \n",
    "#folder2=\"PHI\"  #+ str(np.int(sample_frequency)) \n",
    "    \n",
    "#データ読み込み\n",
    "VX  = h5file1[folder1+\"/VX\"].value \n",
    "VY  = h5file1[folder1+\"/VY\"].value \n",
    "VZ  = h5file1[folder1+\"/VZ\"].value \n"
   ]
  },
  {
   "cell_type": "code",
   "execution_count": 3,
   "metadata": {},
   "outputs": [
    {
     "name": "stdout",
     "output_type": "stream",
     "text": [
      "3.2517564e-36 3.2426457e-36 3.3028446e-36\n"
     ]
    }
   ],
   "source": [
    "disvx=np.var(VX)\n",
    "disvy=np.var(VY)\n",
    "disvz=np.var(VZ)\n",
    "print(disvx,disvy,disvz)"
   ]
  },
  {
   "cell_type": "code",
   "execution_count": 61,
   "metadata": {},
   "outputs": [
    {
     "name": "stdout",
     "output_type": "stream",
     "text": [
      "6.4 12.8 19.2 25.6 32.0 1045.0 8733.0 29423.0 70319.0 137065.0\n"
     ]
    }
   ],
   "source": [
    "L1= np.zeros((nx, ny, nz))\n",
    "L2= np.zeros((nx, ny, nz))\n",
    "L3= np.zeros((nx, ny, nz))\n",
    "L4= np.zeros((nx, ny, nz))\n",
    "L5= np.zeros((nx, ny, nz))\n",
    "\n",
    "r1=nx/2.0*0.1\n",
    "r2=nx/2.0*0.2\n",
    "r3=nx/2.0*0.3\n",
    "r4=nx/2.0*0.4\n",
    "r5=nx/2.0*0.5\n",
    "\n",
    "nb1=0.0\n",
    "nb2=0.0\n",
    "nb3=0.0\n",
    "nb4=0.0\n",
    "nb5=0.0\n",
    "\n",
    "for i in range(1,nx):\n",
    "    for j in range(1,ny):\n",
    "        for k in range(1,nz):\n",
    "            r=np.sqrt((i-nx/2)**2 + (j-ny/2)**2 + (k-nz/2)**2)\n",
    "            #print(i,j,k,r)\n",
    "            if r<= r1:\n",
    "                L1[i,j,k]=1.0\n",
    "                nb1=nb1+1.0\n",
    "            if r<= r2:\n",
    "                L2[i,j,k]=1.0\n",
    "                nb2=nb2+1.0\n",
    "            if r<= r3:\n",
    "                L3[i,j,k]=1.0\n",
    "                nb3=nb3+1.0\n",
    "            if r<= r4:\n",
    "                L4[i,j,k]=1.0\n",
    "                nb4=nb4+1.0\n",
    "            if r<= r5:\n",
    "                L5[i,j,k]=1.0\n",
    "                nb5=nb5+1.0\n",
    "                \n",
    "print(r1,r2,r3,r4,r5,nb1,nb2,nb3,nb4,nb5)"
   ]
  },
  {
   "cell_type": "code",
   "execution_count": 62,
   "metadata": {},
   "outputs": [
    {
     "data": {
      "text/plain": [
       "array([[[-0., -0., -0., ..., -0., -0., -0.],\n",
       "        [-0., -0., -0., ..., -0., -0., -0.],\n",
       "        [-0., -0., -0., ..., -0., -0., -0.],\n",
       "        ...,\n",
       "        [-0., -0., -0., ...,  0.,  0.,  0.],\n",
       "        [-0., -0., -0., ...,  0.,  0.,  0.],\n",
       "        [-0., -0., -0., ..., -0., -0., -0.]],\n",
       "\n",
       "       [[-0., -0., -0., ..., -0., -0., -0.],\n",
       "        [-0., -0., -0., ..., -0., -0., -0.],\n",
       "        [-0., -0., -0., ..., -0., -0., -0.],\n",
       "        ...,\n",
       "        [-0., -0., -0., ...,  0.,  0., -0.],\n",
       "        [-0., -0., -0., ..., -0., -0., -0.],\n",
       "        [-0., -0., -0., ..., -0., -0., -0.]],\n",
       "\n",
       "       [[-0., -0., -0., ..., -0., -0., -0.],\n",
       "        [-0., -0.,  0., ..., -0., -0., -0.],\n",
       "        [-0., -0., -0., ..., -0., -0., -0.],\n",
       "        ...,\n",
       "        [-0., -0., -0., ...,  0., -0., -0.],\n",
       "        [-0., -0., -0., ..., -0., -0., -0.],\n",
       "        [-0., -0., -0., ..., -0., -0., -0.]],\n",
       "\n",
       "       ...,\n",
       "\n",
       "       [[-0., -0., -0., ..., -0., -0., -0.],\n",
       "        [-0., -0., -0., ..., -0., -0., -0.],\n",
       "        [-0., -0., -0., ..., -0., -0., -0.],\n",
       "        ...,\n",
       "        [ 0., -0., -0., ...,  0.,  0., -0.],\n",
       "        [-0., -0., -0., ...,  0.,  0.,  0.],\n",
       "        [-0., -0., -0., ...,  0.,  0., -0.]],\n",
       "\n",
       "       [[-0., -0., -0., ..., -0., -0., -0.],\n",
       "        [-0., -0., -0., ..., -0., -0., -0.],\n",
       "        [-0., -0., -0., ..., -0., -0., -0.],\n",
       "        ...,\n",
       "        [ 0., -0., -0., ...,  0.,  0.,  0.],\n",
       "        [-0., -0., -0., ...,  0.,  0.,  0.],\n",
       "        [-0., -0., -0., ...,  0., -0., -0.]],\n",
       "\n",
       "       [[-0., -0., -0., ..., -0., -0., -0.],\n",
       "        [-0., -0., -0., ..., -0., -0., -0.],\n",
       "        [-0., -0., -0., ..., -0., -0., -0.],\n",
       "        ...,\n",
       "        [-0., -0., -0., ...,  0.,  0.,  0.],\n",
       "        [-0., -0., -0., ...,  0.,  0.,  0.],\n",
       "        [-0., -0., -0., ...,  0., -0., -0.]]])"
      ]
     },
     "execution_count": 62,
     "metadata": {},
     "output_type": "execute_result"
    }
   ],
   "source": [
    "VX1=VX*L1\n",
    "VY1=VY*L1\n",
    "VZ1=VZ*L1\n",
    "\n",
    "VX2=VX*L2\n",
    "VY2=VY*L2\n",
    "VZ2=VZ*L2\n",
    "\n",
    "VX3=VX*L3\n",
    "VY3=VY*L3\n",
    "VZ3=VZ*L3\n",
    "\n",
    "VX4=VX*L4\n",
    "VY4=VY*L4\n",
    "VZ4=VZ*L4\n",
    "\n",
    "VX5=VX*L5\n",
    "VY5=VY*L5\n",
    "VZ5=VZ*L5\n",
    "\n",
    "VX1"
   ]
  },
  {
   "cell_type": "code",
   "execution_count": 66,
   "metadata": {},
   "outputs": [
    {
     "name": "stdout",
     "output_type": "stream",
     "text": [
      "0.07320420289628025 0.009376137812594597 -0.08357685024579711 -0.06931211603348673\n",
      "0.08589610834568341 0.01922490613311992 -0.051961906771060946 -0.05463866518623391\n",
      "0.09569721120394711 0.012290309117393771 -0.020049983032008452 -0.032355184033178865\n",
      "0.1034414742128072 0.0036608532646146335 0.0001136656206019081 -0.014130778866825087\n",
      "0.10592802511101869 -0.002445295074474972 0.008465769878510464 -0.003115496679603644\n",
      "0.01723602660800846 0.013433161933378455 0.010757867683818652 0.010913232265200312 0.011308101551118372\n"
     ]
    }
   ],
   "source": [
    "Disp1=VX1*VX1+VY1*VY1+VZ1*VZ1\n",
    "Disp1x=VX1*VX1\n",
    "Disp1y=VY1*VY1\n",
    "Disp1z=VZ1*VZ1\n",
    "\n",
    "sDisp1=np.sum(Disp1)\n",
    "sDisp1x=np.sum(Disp1x)\n",
    "#sDisp1y=np.sum(Disp1y)\n",
    "#sDisp1z=np.sum(Disp1z)\n",
    "svx1=np.sum(VX1)/nb1\n",
    "svy1=np.sum(VY1)/nb1\n",
    "svz1=np.sum(VZ1)/nb1\n",
    "fDisp1=np.sqrt(sDisp1/ nb1 -svx1*svx1-svy1*svy1-svz1*svz1)\n",
    "fDisp1x=np.sqrt(sDisp1x/ nb1 -svx1*svx1)\n",
    "\n",
    "\n",
    "print(fDisp1,svx1,svy1,svz1)\n",
    "#sDisp1/ nb1 -svx*svx-svy*svy-svz*svz\n",
    "\n",
    "Disp2=VX2*VX2+VY2*VY2+VZ2*VZ2\n",
    "Disp2x=VX2*VX2\n",
    "Disp2y=VY2*VY2\n",
    "Disp2z=VZ2*VZ2\n",
    "\n",
    "sDisp2=np.sum(Disp2)\n",
    "sDisp2x=np.sum(Disp2x)\n",
    "svx2=np.sum(VX2)/nb2\n",
    "svy2=np.sum(VY2)/nb2\n",
    "svz2=np.sum(VZ2)/nb2\n",
    "fDisp2=np.sqrt(sDisp2/ nb2 -svx2*svx2-svy2*svy2-svz2*svz2)\n",
    "fDisp2x=np.sqrt(sDisp2x/ nb2 -svx2*svx2)\n",
    "\n",
    "print(fDisp2,svx2,svy2,svz2)\n",
    "\n",
    "#3\n",
    "Disp3 =VX3*VX3+VY3*VY3+VZ3*VZ3\n",
    "Disp3x=VX3*VX3\n",
    "Disp3y=VY3*VY3\n",
    "Disp3z=VZ3*VZ3\n",
    "\n",
    "sDisp3=np.sum(Disp3)\n",
    "sDisp3x=np.sum(Disp3x)\n",
    "svx3=np.sum(VX3)/nb3\n",
    "svy3=np.sum(VY3)/nb3\n",
    "svz3=np.sum(VZ3)/nb3\n",
    "fDisp3=np.sqrt(sDisp3/ nb3 -svx3*svx3-svy3*svy3-svz3*svz3)\n",
    "fDisp3x=np.sqrt(sDisp3x/ nb3 -svx3*svx3)\n",
    "\n",
    "print(fDisp3,svx3,svy3,svz3)\n",
    "\n",
    "Disp4 =VX4*VX4+VY4*VY4+VZ4*VZ4\n",
    "Disp4x=VX4*VX4\n",
    "Disp4y=VY4*VY4\n",
    "Disp4z=VZ4*VZ4\n",
    "\n",
    "sDisp4=np.sum(Disp4)\n",
    "sDisp4x=np.sum(Disp4x)\n",
    "svx4=np.sum(VX4)/nb4\n",
    "svy4=np.sum(VY4)/nb4\n",
    "svz4=np.sum(VZ4)/nb4\n",
    "fDisp4=np.sqrt(sDisp4/ nb4 -svx4*svx4-svy4*svy4-svz4*svz4)\n",
    "fDisp4x=np.sqrt(sDisp4x/ nb4 -svx4*svx4)\n",
    "\n",
    "print(fDisp4,svx4,svy4,svz4)\n",
    "\n",
    "\n",
    "Disp5 =VX5*VX5+VY5*VY5+VZ5*VZ5\n",
    "Disp5x=VX5*VX5\n",
    "Disp5y=VY5*VY5\n",
    "Disp5z=VZ5*VZ5\n",
    "\n",
    "sDisp5=np.sum(Disp5)\n",
    "sDisp5x=np.sum(Disp5x)\n",
    "svx5=np.sum(VX5)/nb5\n",
    "svy5=np.sum(VY5)/nb5\n",
    "svz5=np.sum(VZ5)/nb5\n",
    "fDisp5=np.sqrt(sDisp5/ nb5 -svx5*svx5-svy5*svy5-svz5*svz5)\n",
    "fDisp5x=np.sqrt(sDisp5x/ nb5 -svx5*svx5)\n",
    "\n",
    "print(fDisp5,svx5,svy5,svz5)\n",
    "print(sDisp1/nb1,sDisp2/nb2,sDisp3/nb3,sDisp4/nb4,sDisp5/nb5)"
   ]
  },
  {
   "cell_type": "code",
   "execution_count": 67,
   "metadata": {},
   "outputs": [
    {
     "name": "stdout",
     "output_type": "stream",
     "text": [
      "2.5298221281347035 3.5777087639996634 4.381780460041329 5.059644256269407 5.656854249492381\n"
     ]
    }
   ],
   "source": [
    "ls1 = np.sqrt(r1)\n",
    "ls2 = np.sqrt(r2)\n",
    "ls3 = np.sqrt(r3)\n",
    "ls4 = np.sqrt(r4)\n",
    "ls5 = np.sqrt(r5)\n",
    "print(ls1,ls2,ls3,ls4,ls5)"
   ]
  },
  {
   "cell_type": "code",
   "execution_count": 69,
   "metadata": {},
   "outputs": [
    {
     "name": "stdout",
     "output_type": "stream",
     "text": [
      "1.0 1.414213562373095 1.7320508075688772 2.0 2.23606797749979\n",
      "1.0 1.1733767317620512 1.3072638922048805 1.4130537608526217 1.447021085129543\n",
      "1.0 1.3101321075110837 1.4128773352101005 1.4683044993140606 1.4818918921926634\n"
     ]
    }
   ],
   "source": [
    "print(ls1/ls1,ls2/ls1,ls3/ls1,ls4/ls1,ls5/ls1)\n",
    "print(fDisp1/fDisp1,fDisp2/fDisp1,fDisp3/fDisp1,fDisp4/fDisp1,fDisp5/fDisp1)\n",
    "print(fDisp1x/fDisp1x,fDisp2x/fDisp1x,fDisp3x/fDisp1x,fDisp4x/fDisp1x,fDisp5x/fDisp1x)"
   ]
  },
  {
   "cell_type": "code",
   "execution_count": 72,
   "metadata": {},
   "outputs": [
    {
     "data": {
      "text/plain": [
       "0.0400055596136337"
      ]
     },
     "execution_count": 72,
     "metadata": {},
     "output_type": "execute_result"
    }
   ],
   "source": [
    "np.sqrt(2.0*3.0/5.0*0.000111142*10000*0.024/20)"
   ]
  },
  {
   "cell_type": "code",
   "execution_count": 73,
   "metadata": {},
   "outputs": [
    {
     "name": "stdout",
     "output_type": "stream",
     "text": [
      "5.100001208992858 -0.11773095762992171 0.40759219828943594 -0.14999842408030534\n",
      "0.01723602660800846 0.013433161933378455 0.010757867683818652 0.010913232265200312 26.212503837446064\n"
     ]
    }
   ],
   "source": [
    "vrto=5.1/0.1059280\n",
    "VX5=vrto*VX5\n",
    "VY5=vrto*VY5\n",
    "VZ5=vrto*VZ5\n",
    "Disp5 =VX5*VX5+VY5*VY5+VZ5*VZ5\n",
    "Disp5x=VX5*VX5\n",
    "Disp5y=VY5*VY5\n",
    "Disp5z=VZ5*VZ5\n",
    "\n",
    "sDisp5=np.sum(Disp5)\n",
    "sDisp5x=np.sum(Disp5x)\n",
    "svx5=np.sum(VX5)/nb5\n",
    "svy5=np.sum(VY5)/nb5\n",
    "svz5=np.sum(VZ5)/nb5\n",
    "fDisp5=np.sqrt(sDisp5/ nb5 -svx5*svx5-svy5*svy5-svz5*svz5)\n",
    "fDisp5x=np.sqrt(sDisp5x/ nb5 -svx5*svx5)\n",
    "\n",
    "print(fDisp5,svx5,svy5,svz5)\n",
    "print(sDisp1/nb1,sDisp2/nb2,sDisp3/nb3,sDisp4/nb4,sDisp5/nb5)"
   ]
  },
  {
   "cell_type": "code",
   "execution_count": null,
   "metadata": {},
   "outputs": [],
   "source": []
  }
 ],
 "metadata": {
  "kernelspec": {
   "display_name": "Python 3",
   "language": "python",
   "name": "python3"
  },
  "language_info": {
   "codemirror_mode": {
    "name": "ipython",
    "version": 3
   },
   "file_extension": ".py",
   "mimetype": "text/x-python",
   "name": "python",
   "nbconvert_exporter": "python",
   "pygments_lexer": "ipython3",
   "version": "3.7.4"
  }
 },
 "nbformat": 4,
 "nbformat_minor": 2
}
