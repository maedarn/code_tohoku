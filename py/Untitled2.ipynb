{
 "cells": [
  {
   "cell_type": "code",
   "execution_count": 1,
   "metadata": {},
   "outputs": [],
   "source": [
    "from PIL import Image\n",
    "import numpy as np\n",
    "import matplotlib.pyplot as plt\n",
    "import h5py\n",
    "import csv\n",
    "import math\n",
    "import pandas as pd\n",
    "from matplotlib.backends.backend_pdf import PdfPages\n",
    "import matplotlib.animation as animation\n",
    "from matplotlib.animation import ArtistAnimation\n",
    "\n",
    "nloop=63\n",
    "nst=1\n",
    "njmp=2\n",
    "dir1  = '/Users/maeda/Desktop/Dropbox/analysis/test-feedback/turb-cloud-ad24/'"
   ]
  },
  {
   "cell_type": "code",
   "execution_count": null,
   "metadata": {},
   "outputs": [],
   "source": [
    "rms = [0] * (nloop/njmp +1)\n",
    "for i in range(nst,nloop,njmp):\n",
    "    folder1=\"RHO-h2\"  #+ str(np.int(sample_frequency)) \n",
    "    folder2=\"Phiexa\"  #+ str(np.int(sample_frequency)) \n",
    "\n",
    "    h5file1 = h5py.File(dir1+'NAllHDF'+\"%03.f\"%(i)+'.h5',\"r\")\n",
    "    \n",
    "    #データ読み込み\n",
    "    Phiwv1to1  = h5file1[folder1+\"/Phiwv1\"].value \n",
    "    Phiexa1 = h5file1[folder2+\"/Phiexa\"].value \n",
    "    \n",
    "    "
   ]
  }
 ],
 "metadata": {
  "kernelspec": {
   "display_name": "Python 3",
   "language": "python",
   "name": "python3"
  },
  "language_info": {
   "codemirror_mode": {
    "name": "ipython",
    "version": 3
   },
   "file_extension": ".py",
   "mimetype": "text/x-python",
   "name": "python",
   "nbconvert_exporter": "python",
   "pygments_lexer": "ipython3",
   "version": "3.7.4"
  }
 },
 "nbformat": 4,
 "nbformat_minor": 2
}
