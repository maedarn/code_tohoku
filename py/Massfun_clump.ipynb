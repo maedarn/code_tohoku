{
 "cells": [
  {
   "cell_type": "code",
   "execution_count": 117,
   "id": "9503e51c",
   "metadata": {},
   "outputs": [
    {
     "name": "stdout",
     "output_type": "stream",
     "text": [
      "30 [6. 7. 6. 3. 6. 5. 7. 4. 5. 4. 2. 1. 0. 0. 0. 0. 0. 0. 0. 0. 0. 0. 0. 0.\n",
      " 0. 0. 0. 0. 0. 0.]\n",
      "[162.7093863381523, 408.7074998220552, 1026.6268232592245, 2578.7699875686303, 6477.577341757769, 16270.938633815245, 40870.749982205525, 102662.68232592242, 257876.99875686312, 647757.7341757773, 1627093.8633815246, 4087074.9982205573, 10266268.232592242, 25787699.87568631, 64775773.41757779]\n"
     ]
    }
   ],
   "source": [
    "# encoding: utf-8\n",
    "\n",
    "from PIL import Image\n",
    "import numpy as np\n",
    "import matplotlib.pyplot as plt\n",
    "import h5py\n",
    "import csv\n",
    "import math\n",
    "import pandas as pd\n",
    "from matplotlib.backends.backend_pdf import PdfPages\n",
    "import matplotlib.animation as animation\n",
    "from matplotlib.animation import ArtistAnimation\n",
    "import scipy\n",
    "import seaborn as sns\n",
    "\n",
    "#dir = '/Users/maedarn/Dropbox/analysis/cluster_formation_by_HI_collision/cnv100-wb-wg-sm-hiden10/'\n",
    "#dir = '/Users/maedarn/Dropbox/analysis/cluster_formation_by_HI_collision/cnv100-wb-wg-sm-optthick/'\n",
    "#dir = '/Users/maedarn/Dropbox/analysis/cluster_formation_by_HI_collision/cnv100-wsb-wg-sm_Allmv/'\n",
    "#dir = '/Users/maedarn/Dropbox/analysis/cluster_formation_by_HI_collision/cnv15-wb-wg-sm-optthick/'\n",
    "dir = '/Users/maedarn/Dropbox/analysis/cluster_formation_by_HI_collision_with_feedback/lowmass/sampletstF/'\n",
    "\n",
    "im=512\n",
    "jm=512\n",
    "km=512\n",
    "nmesh = 512\n",
    "\n",
    "\n",
    "#data01,data02= np.loadtxt(dir+'N100kms-Masfuncrrnew033001.DAT', unpack=True)\n",
    "#eata01,eata02= np.loadtxt(dir+'N100kms-Masfuncrrnew045001.DAT', unpack=True)\n",
    "#fata01 ,fata02= np.loadtxt(dir+'N100kms-Masfuncrrnew053001.DAT', unpack=True)\n",
    "\n",
    "data01,data02= np.loadtxt(dir+'N100kms-Masfuncrrnew033001.DAT', unpack=True)\n",
    "eata01,eata02= np.loadtxt(dir+'N100kms-Masfuncrrnew045001.DAT', unpack=True)\n",
    "fata01 ,fata02= np.loadtxt(dir+'N100kms-Masfuncrrnew053001.DAT', unpack=True)\n",
    "\n",
    "data03=np.log10(data01)\n",
    "eata03=np.log10(eata01)\n",
    "fata03=np.log10(fata01)\n",
    "\n",
    "\n",
    "\n",
    "print(len(data01),data02)\n",
    "hdata01 = [0] * 15\n",
    "hdata02 = [0] * 15\n",
    "hdata03 = [0] * 15\n",
    "heata01 = [0] * 15\n",
    "heata02 = [0] * 15\n",
    "heata03 = [0] * 15\n",
    "hfata01 = [0] * 15\n",
    "hfata02 = [0] * 15\n",
    "hfata03 = [0] * 15\n",
    "for i in range(0, 30, 2):\n",
    "    ii=int(i/2)\n",
    "    hdata01[ii]=(data01[i]+data01[i+1])/2.0\n",
    "    hdata02[ii]=(data02[i]+data02[i+1])\n",
    "    hdata03[ii]=(data03[i]+data03[i+1])/2.0\n",
    "    heata01[ii]=(eata01[i]+eata01[i+1])/2.0\n",
    "    heata02[ii]=(eata02[i]+eata02[i+1])\n",
    "    heata03[ii]=(eata03[i]+eata03[i+1])/2.0\n",
    "    hfata01[ii]=(fata01[i]+fata01[i+1])/2.0\n",
    "    hfata02[ii]=(fata02[i]+fata02[i+1])\n",
    "    hfata03[ii]=(fata03[i]+fata03[i+1])/2.0\n",
    "    \n",
    "print(hdata01)"
   ]
  },
  {
   "cell_type": "code",
   "execution_count": 118,
   "id": "0ed37b83",
   "metadata": {},
   "outputs": [
    {
     "data": {
      "image/png": "[encoded data removed]",
      "text/plain": [
       "<Figure size 640x480 with 1 Axes>"
      ]
     },
     "metadata": {},
     "output_type": "display_data"
    }
   ],
   "source": [
    "fig = plt.figure()\n",
    "ax = fig.add_subplot(111)\n",
    "\n",
    "plt.rcParams[\"font.family\"] = \"Times New Roman\"      #全体のフォントを設定\n",
    "plt.rcParams[\"mathtext.fontset\"] = \"cm\"\n",
    "plt.rcParams['mathtext.default'] = 'it'\n",
    "plt.rcParams[\"xtick.direction\"] = \"in\"               #x軸の目盛線が内向き('in')か外向き('out')か双方向か('inout')\n",
    "plt.rcParams[\"ytick.direction\"] = \"in\"               #y軸の目盛線が内向き('in')か外向き('out')か双方向か('inout')\n",
    "plt.rcParams[\"xtick.major.size\"] = 5                #x軸主目盛り線の長さ\n",
    "plt.rcParams[\"ytick.major.size\"] = 5                #y軸主目盛り線の長さ\n",
    "plt.rcParams[\"font.size\"] = 20                       #フォントの大きさ\n",
    "plt.xlim([2.0, 6.0]) # x方向の描画範囲を指定\n",
    "plt.ylim([0.0, 15.0]) # y方向の描画範囲を指定\n",
    "plt.rcParams[\"legend.markerscale\"] = 2\n",
    "plt.rcParams[\"legend.fancybox\"] = False\n",
    "plt.rcParams[\"legend.framealpha\"] = 1\n",
    "plt.rcParams[\"legend.edgecolor\"] = 'black'\n",
    "\n",
    "\n",
    "#plt.plot(data01,data02, color='red' , linestyle = \"solid\", markersize=2.5, linewidth = 1)\n",
    "plt.bar(hdata03, hdata02, color='red' , alpha=0.5, width=0.4, bottom=None,log=False,edgecolor='black')\n",
    "plt.bar(heata03, heata02, color='blue' , alpha=0.5, width=0.4, bottom=None,log=False,edgecolor='black')\n",
    "plt.bar(hfata03, hfata02, color='green' , alpha=0.5, width=0.4, bottom=None,log=False,edgecolor='black')\n",
    "\n",
    "\n",
    "ax.set_ylabel('Hist')\n",
    "ax.set_xlabel('Mass')\n",
    "#plt.xscale('log')\n",
    "\n",
    "#plt.legend(bbox_to_anchor=(1, 1), loc='upper right', borderaxespad=0, fontsize=9,frameon=False)\n",
    "fig.tight_layout()\n",
    "\n",
    "#グラフ表示\n",
    "plt.show()\n",
    "\n",
    "# 保存するPDFファイル名\n",
    "pp = PdfPages('/Users/maedarn/Desktop/test_hist.pdf')\n",
    "# 画像をPDFとして保存する\n",
    "pp.savefig(fig)\n",
    "# PDFの保存終了\n",
    "pp.close()\n",
    "#plt.savefig(\"R-Vesc.png\")\n"
   ]
  },
  {
   "cell_type": "code",
   "execution_count": null,
   "id": "7b1c7212",
   "metadata": {},
   "outputs": [],
   "source": []
  },
  {
   "cell_type": "code",
   "execution_count": null,
   "id": "d8336cd6",
   "metadata": {},
   "outputs": [],
   "source": []
  },
  {
   "cell_type": "code",
   "execution_count": null,
   "id": "d4ba9453",
   "metadata": {},
   "outputs": [],
   "source": []
  },
  {
   "cell_type": "code",
   "execution_count": null,
   "id": "39b96327",
   "metadata": {},
   "outputs": [],
   "source": []
  }
 ],
 "metadata": {
  "kernelspec": {
   "display_name": "Python 3 (ipykernel)",
   "language": "python",
   "name": "python3"
  },
  "language_info": {
   "codemirror_mode": {
    "name": "ipython",
    "version": 3
   },
   "file_extension": ".py",
   "mimetype": "text/x-python",
   "name": "python",
   "nbconvert_exporter": "python",
   "pygments_lexer": "ipython3",
   "version": "3.10.9"
  }
 },
 "nbformat": 4,
 "nbformat_minor": 5
}
