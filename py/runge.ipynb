{
 "cells": [
  {
   "cell_type": "code",
   "execution_count": 63,
   "metadata": {},
   "outputs": [],
   "source": [
    "# coding: UTF-8\n",
    "from PIL import Image\n",
    "import numpy as np\n",
    "import matplotlib.pyplot as plt\n",
    "import h5py\n",
    "import csv\n",
    "import math\n",
    "import pandas as pd\n",
    "from matplotlib.backends.backend_pdf import PdfPages\n",
    "import matplotlib.animation as animation\n",
    "from matplotlib.animation import ArtistAnimation\n",
    "from sympy import *\n",
    "from sympy.codegen.cfunctions import log10\n",
    "    \n",
    "dir='/Users/maeda/Desktop/'"
   ]
  },
  {
   "cell_type": "code",
   "execution_count": 69,
   "metadata": {
    "scrolled": true
   },
   "outputs": [
    {
     "data": {
      "image/png": "[encoded data removed]",
      "text/plain": [
       "<Figure size 432x288 with 1 Axes>"
      ]
     },
     "metadata": {
      "needs_background": "light"
     },
     "output_type": "display_data"
    }
   ],
   "source": [
    "fig = plt.figure()\n",
    "ax = fig.add_subplot(1, 1, 1)\n",
    "\n",
    "#plt.xlim(0.0, 10)\n",
    "#plt.xlim(0.000001, 1.0)\n",
    "#plt.ylim(0.000001, 1.0)\n",
    "#plt.ylim(0.001, 0.1)\n",
    "#plt.ylim(0.000000, 1.0)\n",
    "#plt.ylim(0.01, 150)\n",
    "#plt.xlim(0.01, 150)\n",
    "#ax.set_yscale('log')\n",
    "#ax.set_xscale('log')\n",
    "\n",
    "data01,data02 ,data03,data04 ,data05,data06 ,data07,data08 ,data09 ,data10 = np.loadtxt(dir+'runge4.dat', delimiter=',', unpack=True)\n",
    "#plt.scatter(10.0**data01, 10.0**data03/20000.0, s=3.0,c='red')\n",
    "#plt.scatter(data01, data02, s=3.0,c='red')\n",
    "#plt.scatter(data02, data01, s=3.0,c='red')\n",
    "\n",
    "\n",
    "#plt.plot(data01,data02,color='red', linewidth = 1) \n",
    "plt.plot(data02,data06,color='blue', linewidth = 1) \n",
    "#plt.plot(data01,data10,color='blue', linewidth = 1) \n",
    "#plt.plot(data04,data08,color='blue', linewidth = 1) \n",
    "#plt.plot(data01,data02-data04,color='blue', linewidth = 1) \n",
    "\n",
    "#plt.scatter(data01, data03, s=3.0,c='red')\n",
    "\n",
    "plt.gca().set_aspect('equal')\n",
    "\n",
    "\n",
    "plt.show()\n",
    "\n",
    "#pp = PdfPages('/Users/maeda/Desktop/IMF-cum.pdf')\n",
    "#pp.savefig(fig)\n",
    "#pp.close()\n"
   ]
  },
  {
   "cell_type": "code",
   "execution_count": null,
   "metadata": {},
   "outputs": [],
   "source": []
  },
  {
   "cell_type": "code",
   "execution_count": 25,
   "metadata": {},
   "outputs": [],
   "source": [
    "import sympy as sp\n",
    "from sympy import *"
   ]
  },
  {
   "cell_type": "code",
   "execution_count": 31,
   "metadata": {},
   "outputs": [
    {
     "data": {
      "text/plain": [
       "(t, x, v, a, v0)"
      ]
     },
     "execution_count": 31,
     "metadata": {},
     "output_type": "execute_result"
    }
   ],
   "source": [
    "sp.var('t,x,v,a,v0')"
   ]
  },
  {
   "cell_type": "code",
   "execution_count": 39,
   "metadata": {},
   "outputs": [],
   "source": [
    "x= sp.Function('x')(t)\n",
    "v= sp.Function('v')(t)\n",
    "a = sp.Symbol(\"a\", positive=True)"
   ]
  },
  {
   "cell_type": "code",
   "execution_count": 40,
   "metadata": {},
   "outputs": [
    {
     "data": {
      "text/latex": [
       "$\\displaystyle \\frac{d^{2}}{d t^{2}} x{\\left(t \\right)} = - a x{\\left(t \\right)}$"
      ],
      "text/plain": [
       "Eq(Derivative(x(t), (t, 2)), -a*x(t))"
      ]
     },
     "execution_count": 40,
     "metadata": {},
     "output_type": "execute_result"
    }
   ],
   "source": [
    "eq1 = sp.Eq( sp.diff(x,t,2), -a*x )\n",
    "eq1"
   ]
  },
  {
   "cell_type": "code",
   "execution_count": 41,
   "metadata": {},
   "outputs": [],
   "source": [
    "an1=sp.dsolve(eq1,ics={sp.diff(x,t,1).subs(t,0):v0, sp.diff(x,t,0).subs(t,0):0})"
   ]
  },
  {
   "cell_type": "code",
   "execution_count": 44,
   "metadata": {},
   "outputs": [
    {
     "data": {
      "text/latex": [
       "$\\displaystyle x{\\left(t \\right)} = \\frac{v_{0} \\sin{\\left(\\sqrt{a} t \\right)}}{\\sqrt{a}}$"
      ],
      "text/plain": [
       "Eq(x(t), v0*sin(sqrt(a)*t)/sqrt(a))"
      ]
     },
     "execution_count": 44,
     "metadata": {},
     "output_type": "execute_result"
    }
   ],
   "source": [
    "an1.rewrite(exp, sin, cos)\n",
    "an1"
   ]
  },
  {
   "cell_type": "code",
   "execution_count": 45,
   "metadata": {},
   "outputs": [
    {
     "data": {
      "text/latex": [
       "$\\displaystyle \\frac{d}{d t} x{\\left(t \\right)}$"
      ],
      "text/plain": [
       "Derivative(x(t), t)"
      ]
     },
     "execution_count": 45,
     "metadata": {},
     "output_type": "execute_result"
    }
   ],
   "source": [
    "an2=sp.diff(x,t,1)\n",
    "an2"
   ]
  },
  {
   "cell_type": "code",
   "execution_count": null,
   "metadata": {},
   "outputs": [],
   "source": []
  }
 ],
 "metadata": {
  "kernelspec": {
   "display_name": "Python 3",
   "language": "python",
   "name": "python3"
  },
  "language_info": {
   "codemirror_mode": {
    "name": "ipython",
    "version": 3
   },
   "file_extension": ".py",
   "mimetype": "text/x-python",
   "name": "python",
   "nbconvert_exporter": "python",
   "pygments_lexer": "ipython3",
   "version": "3.7.4"
  }
 },
 "nbformat": 4,
 "nbformat_minor": 2
}
