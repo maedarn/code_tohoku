{
 "cells": [
  {
   "cell_type": "code",
   "execution_count": 13,
   "metadata": {},
   "outputs": [
    {
     "data": {
      "image/png": "[encoded data removed]",
      "text/latex": [
       "$\\displaystyle \\left( \\frac{d}{d t} a{\\left(t \\right)} = - k a{\\left(t \\right)} + b{\\left(t \\right)}, \\  \\frac{d}{d t} b{\\left(t \\right)} = k^{2} a{\\left(t \\right)} - k b{\\left(t \\right)}, \\  \\frac{d}{d t} a{\\left(t \\right)} = k \\left(f - a{\\left(t \\right)}\\right), \\  \\frac{d}{d t} b{\\left(t \\right)} = c + k \\left(f - b{\\left(t \\right)}\\right)\\right)$"
      ],
      "text/plain": [
       "⎛d                          d           2                d                    \n",
       "⎜──(a(t)) = -k⋅a(t) + b(t), ──(b(t)) = k ⋅a(t) - k⋅b(t), ──(a(t)) = k⋅(f - a(t\n",
       "⎝dt                         dt                           dt                   \n",
       "\n",
       "    d                          ⎞\n",
       ")), ──(b(t)) = c + k⋅(f - b(t))⎟\n",
       "    dt                         ⎠"
      ]
     },
     "execution_count": 13,
     "metadata": {},
     "output_type": "execute_result"
    }
   ],
   "source": [
    "import sympy as sym\n",
    "from sympy import var, init_printing\n",
    "\n",
    "sym.init_printing()\n",
    "#t = sym.Symbol('t')\n",
    "sym.var('t, c, d, e, f, pi, c_g, G, rho,a_0,b_0, T_k')\n",
    "#t, k, c = sym.symbols(\"t k c\", real=True)\n",
    "k = sym.Symbol('k',positive=True)\n",
    "#c = sym.Symbol('c')\n",
    "a = sym.Function('a')(t)\n",
    "b = sym.Function('b')(t)\n",
    "#h = sym.Function('h')\n",
    "\n",
    "#eq1 = sym.Eq(sym.diff(a,t),k*b)\n",
    "#eq2 = sym.Eq(sym.diff(b,t),k*a)\n",
    "#eq1 = sym.Eq(sym.diff(a,t),k*(b-a))\n",
    "#eq2 = sym.Eq(sym.diff(b,t),k*(a-b)+c)\n",
    "#eq1 = sym.Eq(sym.diff(a,t),1/2/T_k*b-1/2/T_k*a)\n",
    "#eq2 = sym.Eq(sym.diff(b,t),1/2/T_k*a-1/2/T_k*b-4*pi*G*c_g**2 *2*T_k *rho)\n",
    "#eq1 = sym.Eq(sym.diff(a,t),k*b-k*a)\n",
    "#eq2 = sym.Eq(sym.diff(b,t),k*a-k*b-4*pi*G*c_g**2 /k *rho)\n",
    "eq1 = sym.Eq(sym.diff(a,t),b-k*a)\n",
    "eq2 = sym.Eq(sym.diff(b,t),k*k*a-k*b)\n",
    "#eq1 = sym.Eq(a(t).diff(t,1),4*(b(t)-a(t)))\n",
    "#eq2 = sym.Eq(b(t).diff(t,1),4*(a(t)-b(t)) + 9)\n",
    "#eq3 = sym.Eq(h(x).diff(x,1),f(x)+g(x))\n",
    "#eq1 = sym.Eq(f(x).diff(x,1),g(x)+h(x))\n",
    "#eq2 = sym.Eq(g(x).diff(x,1),h(x)+f(x))\n",
    "eq3 = sym.Eq(sym.diff(a,t),k*(f-a))\n",
    "eq4 = sym.Eq(sym.diff(b,t),k*(f-b)+c)\n",
    "\n",
    "eq1,eq2,eq3,eq4"
   ]
  },
  {
   "cell_type": "code",
   "execution_count": 14,
   "metadata": {},
   "outputs": [
    {
     "data": {
      "image/png": "[encoded data removed]",
      "text/latex": [
       "$\\displaystyle \\left[ a{\\left(t \\right)} = \\frac{\\left(a_{0} k - b_{0}\\right) e^{- 2 k t}}{2 k} + \\frac{a_{0} k + b_{0}}{2 k}, \\  b{\\left(t \\right)} = \\frac{a_{0} k}{2} + \\frac{b_{0}}{2} - \\frac{\\left(a_{0} k - b_{0}\\right) e^{- 2 k t}}{2}\\right]$"
      ],
      "text/plain": [
       "⎡                    -2⋅k⋅t                                              -2⋅k⋅\n",
       "⎢       (a₀⋅k - b₀)⋅ℯ         a₀⋅k + b₀         a₀⋅k   b₀   (a₀⋅k - b₀)⋅ℯ     \n",
       "⎢a(t) = ─────────────────── + ─────────, b(t) = ──── + ── - ──────────────────\n",
       "⎣               2⋅k              2⋅k             2     2             2        \n",
       "\n",
       "t⎤\n",
       " ⎥\n",
       "─⎥\n",
       " ⎦"
      ]
     },
     "execution_count": 14,
     "metadata": {},
     "output_type": "execute_result"
    }
   ],
   "source": [
    "#sym.dsolve(eq1)\n",
    "eq11=sym.dsolve([eq1, eq2], ics={a.subs(t,0):a_0, b.subs(t,0):b_0})\n",
    "#sym.dsolve([eq1, eq2])\n",
    "#eq11[0].subs(k,1/2/T_k),eq11[1].subs(k,1/2/T_k)\n",
    "eq11"
   ]
  },
  {
   "cell_type": "code",
   "execution_count": 6,
   "metadata": {},
   "outputs": [
    {
     "data": {
      "image/png": "[encoded data removed]",
      "text/latex": [
       "$\\displaystyle a{\\left(t \\right)} = f + \\left(d - f\\right) e^{- k t}$"
      ],
      "text/plain": [
       "                    -k⋅t\n",
       "a(t) = f + (d - f)⋅ℯ    "
      ]
     },
     "execution_count": 6,
     "metadata": {},
     "output_type": "execute_result"
    }
   ],
   "source": [
    "sym.dsolve(eq3, ics={a.subs(t,0):d})"
   ]
  },
  {
   "cell_type": "code",
   "execution_count": 7,
   "metadata": {},
   "outputs": [
    {
     "data": {
      "image/png": "[encoded data removed]",
      "text/latex": [
       "$\\displaystyle b{\\left(t \\right)} = \\frac{c}{k} + f + \\frac{e^{k \\left(- t + \\frac{\\log{\\left(- c + d k - f k \\right)}}{k}\\right)}}{k}$"
      ],
      "text/plain": [
       "                  ⎛     log(-c + d⋅k - f⋅k)⎞\n",
       "                k⋅⎜-t + ───────────────────⎟\n",
       "                  ⎝              k         ⎠\n",
       "       c       ℯ                            \n",
       "b(t) = ─ + f + ─────────────────────────────\n",
       "       k                     k              "
      ]
     },
     "execution_count": 7,
     "metadata": {},
     "output_type": "execute_result"
    }
   ],
   "source": [
    "sym.dsolve(eq4, ics={b.subs(t,0):d})"
   ]
  },
  {
   "cell_type": "code",
   "execution_count": null,
   "metadata": {},
   "outputs": [],
   "source": [
    "\n",
    "\n"
   ]
  }
 ],
 "metadata": {
  "kernelspec": {
   "display_name": "Python 3",
   "language": "python",
   "name": "python3"
  },
  "language_info": {
   "codemirror_mode": {
    "name": "ipython",
    "version": 3
   },
   "file_extension": ".py",
   "mimetype": "text/x-python",
   "name": "python",
   "nbconvert_exporter": "python",
   "pygments_lexer": "ipython3",
   "version": "3.7.4"
  }
 },
 "nbformat": 4,
 "nbformat_minor": 2
}
