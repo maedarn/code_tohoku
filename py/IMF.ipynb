{
 "cells": [
  {
   "cell_type": "code",
   "execution_count": 116,
   "metadata": {},
   "outputs": [],
   "source": [
    "# coding: UTF-8\n",
    "from PIL import Image\n",
    "import numpy as np\n",
    "import matplotlib.pyplot as plt\n",
    "import h5py\n",
    "import csv\n",
    "import math\n",
    "import pandas as pd\n",
    "from matplotlib.backends.backend_pdf import PdfPages\n",
    "import matplotlib.animation as animation\n",
    "from matplotlib.animation import ArtistAnimation\n",
    "from sympy import *\n",
    "from sympy.codegen.cfunctions import log10\n",
    "    \n",
    "\n",
    "dir = '/Users/maeda/Desktop/Feedback/'"
   ]
  },
  {
   "cell_type": "code",
   "execution_count": 182,
   "metadata": {},
   "outputs": [
    {
     "data": {
      "image/png": "[encoded data removed]",
      "text/plain": [
       "<Figure size 432x288 with 1 Axes>"
      ]
     },
     "metadata": {
      "needs_background": "light"
     },
     "output_type": "display_data"
    }
   ],
   "source": [
    "fig = plt.figure()\n",
    "ax = fig.add_subplot(1, 1, 1)\n",
    "\n",
    "#plt.xlim(0.1, 100)\n",
    "#plt.xlim(0.000001, 1.0)\n",
    "plt.ylim(0.000001, 1.0)\n",
    "#plt.ylim(0.001, 0.1)\n",
    "#plt.ylim(0.000000, 1.0)\n",
    "#plt.ylim(0.01, 150)\n",
    "plt.xlim(0.01, 150)\n",
    "#ax.set_yscale('log')\n",
    "ax.set_xscale('log')\n",
    "\n",
    "data01,data02 ,data03 = np.loadtxt(dir+'IMF-K.dat', delimiter=',', unpack=True)\n",
    "#plt.scatter(10.0**data01, 10.0**data03/20000.0, s=3.0,c='red')\n",
    "#plt.scatter(data01, data02, s=3.0,c='red')\n",
    "#plt.scatter(data02, data01, s=3.0,c='red')\n",
    "plt.scatter(data01, data02, s=3.0,c='red')\n",
    "#plt.scatter(data01, data03, s=3.0,c='red')\n",
    "\n",
    "#plt.gca().set_aspect('equal')\n",
    "\n",
    "\n",
    "plt.show()\n",
    "\n",
    "pp = PdfPages('/Users/maeda/Desktop/IMF-cum.pdf')\n",
    "pp.savefig(fig)\n",
    "pp.close()\n",
    "\n"
   ]
  },
  {
   "cell_type": "code",
   "execution_count": 128,
   "metadata": {},
   "outputs": [],
   "source": [
    "#def nonlinear_fit(x,a,b):\n",
    "#    return  b * np.exp(x / (a+x)  )\n",
    "\n",
    "#param, cov = curve_fit(nonlinear_fit, array_x, array_y)\n",
    "\n",
    "\n",
    "\n"
   ]
  },
  {
   "cell_type": "code",
   "execution_count": 5,
   "metadata": {},
   "outputs": [
    {
     "data": {
      "image/png": "[encoded data removed]",
      "text/plain": [
       "<Figure size 432x288 with 1 Axes>"
      ]
     },
     "metadata": {
      "needs_background": "light"
     },
     "output_type": "display_data"
    }
   ],
   "source": [
    "fig = plt.figure()\n",
    "ax = fig.add_subplot(1, 1, 1)\n",
    "\n",
    "p1 = np.logspace( -1, 1, 100)   # linspace(min, max, N) で範囲 min から max を N 分割します\n",
    "#q1 = 0.158*np.exp(-(np.log10(p1/0.079))**2.0 / 2.0/0.69/0.69) /p1/np.log(10.0)#* (1.0**(-2.3)/np.log(10.0)) / (np.exp(-(np.log10(1.0/0.079))**2.0 / 2.0/0.69/0.69) /1.0/np.log(10.0))\n",
    "#q1 = 0.158*np.exp(-(np.log10(p1/0.079))**2.0 / 2.0/0.69/0.69)# /np.log(1.0)\n",
    "q1 = 0.158*np.exp(-0.5*(np.log10(p1/0.079) /0.69)**2.0)\n",
    "p2 = np.logspace( 1, 3, 100)   # linspace(min, max, N) で範囲 min から max を N 分割します\n",
    "#q2=p2**(-2.3)/np.log(10.0) \n",
    "q2=0.0443*(p2)**(-1.3)\n",
    "\n",
    "\n",
    "plt.plot(p1, q1)\n",
    "plt.plot(p2, q2)\n",
    "\n",
    "ax.set_yscale('log')\n",
    "ax.set_xscale('log')\n",
    "plt.show()"
   ]
  },
  {
   "cell_type": "code",
   "execution_count": 6,
   "metadata": {},
   "outputs": [
    {
     "data": {
      "text/plain": [
       "(0.01915057560284106, 1.0)"
      ]
     },
     "execution_count": 6,
     "metadata": {},
     "output_type": "execute_result"
    }
   ],
   "source": [
    "a=0.158*np.exp(-0.5*((np.log10(1.0/0.079) )/ 0.69 )**2.0) /1.0/np.log(10.0)\n",
    "b=(1.0)**(-2.3)\n",
    "\n",
    "a,b"
   ]
  },
  {
   "cell_type": "code",
   "execution_count": 7,
   "metadata": {},
   "outputs": [
    {
     "data": {
      "image/png": "[encoded data removed]",
      "text/plain": [
       "<Figure size 432x288 with 1 Axes>"
      ]
     },
     "metadata": {
      "needs_background": "light"
     },
     "output_type": "display_data"
    }
   ],
   "source": [
    "fig = plt.figure()\n",
    "ax = fig.add_subplot(1, 1, 1)\n",
    "\n",
    "\n",
    "r1=np.linspace( 1, 100, 100)\n",
    "r2=-((r1)**(-1.3) - (100.0)**(-1.3))/np.log(10)/(-1.3)\n",
    "\n",
    "int1=-((1.0)**(-1.3) - (100.0)**(-1.3))/np.log(10)/(-1.3)\n",
    "\n",
    "\n",
    "\n",
    "\n",
    "plt.plot(r1, r2)\n",
    "\n",
    "ax.set_yscale('log')\n",
    "ax.set_xscale('log')\n",
    "plt.show()\n"
   ]
  },
  {
   "cell_type": "code",
   "execution_count": 8,
   "metadata": {},
   "outputs": [
    {
     "data": {
      "text/latex": [
       "$\\displaystyle \\frac{\\int \\frac{e^{- 1.0501995379122 \\operatorname{log_{10}}^{2}{\\left(12.6582278481013 x \\right)}}}{x}\\, dx}{\\log{\\left(10 \\right)}}$"
      ],
      "text/plain": [
       "Integral(exp(-1.0501995379122*log10(12.6582278481013*x)**2)/x, x)/log(10)"
      ]
     },
     "execution_count": 8,
     "metadata": {},
     "output_type": "execute_result"
    }
   ],
   "source": [
    "x = Symbol('x')\n",
    "y = Symbol('y')\n",
    "\n",
    "y = (exp( -(log10(x/0.079))**2 /2.0/0.69/0.69))/x/ln(10)\n",
    "integrate(y, x)\n",
    "\n"
   ]
  },
  {
   "cell_type": "code",
   "execution_count": 9,
   "metadata": {},
   "outputs": [
    {
     "data": {
      "text/latex": [
       "$\\displaystyle x^{6}$"
      ],
      "text/plain": [
       "x**6"
      ]
     },
     "execution_count": 9,
     "metadata": {},
     "output_type": "execute_result"
    }
   ],
   "source": [
    "integrate(6*x**5, x)"
   ]
  },
  {
   "cell_type": "code",
   "execution_count": 227,
   "metadata": {},
   "outputs": [
    {
     "data": {
      "image/png": "[encoded data removed]",
      "text/plain": [
       "<Figure size 432x288 with 1 Axes>"
      ]
     },
     "metadata": {
      "needs_background": "light"
     },
     "output_type": "display_data"
    }
   ],
   "source": [
    "#Kroupa 2001\n",
    "fig = plt.figure()\n",
    "ax = fig.add_subplot(1, 1, 1)\n",
    "\n",
    "mmax=150\n",
    "\n",
    "coef5 = 60000.0\n",
    "coef4 = (coef5*(0.5 )**(-2.3+1.0))/((0.5)**(-1.3+1.0))\n",
    "coef3 = (coef4*(0.08)**(-1.3+1.0))/((0.08)**(-0.3+1.0))\n",
    "\n",
    "coef3\n",
    "\n",
    "\n",
    "p3 = np.logspace( np.log10(0.01), np.log10(0.08), 10)   # linspace(min, max, N) で範囲 min から max を N 分割します\n",
    "q3 = coef3*(p3)**(-0.3+1.0)\n",
    "\n",
    "p4 = np.logspace( np.log10(0.08), np.log10(0.5), 20)   # linspace(min, max, N) で範囲 min から max を N 分割します\n",
    "q4 = coef4*(p4)**(-1.3+1.0)\n",
    "\n",
    "p5 = np.logspace( np.log10(0.5), np.log10(mmax), 100)   # linspace(min, max, N) で範囲 min から max を N 分割します\n",
    "q5 = coef5*(p5)**(-2.3+1.0)\n",
    "\n",
    "#p2 = np.logspace( 1, 3, 100)   # linspace(min, max, N) で範囲 min から max を N 分割します\n",
    "#q2=0.0443*(p2)**(-1.3)\n",
    "\n",
    "\n",
    "plt.plot(p3, q3)\n",
    "plt.plot(p4, q4)\n",
    "plt.plot(p5, q5)\n",
    "\n",
    "plt.xlim(0.02, 30)\n",
    "plt.ylim(1, 600000)\n",
    "\n",
    "ax.set_yscale('log')\n",
    "ax.set_xscale('log')\n",
    "plt.show()\n",
    "\n",
    "pp = PdfPages('/Users/maeda/Desktop/IMF-kroupa.pdf')\n",
    "pp.savefig(fig)\n",
    "pp.close()\n"
   ]
  },
  {
   "cell_type": "code",
   "execution_count": null,
   "metadata": {},
   "outputs": [],
   "source": []
  },
  {
   "cell_type": "code",
   "execution_count": 219,
   "metadata": {},
   "outputs": [
    {
     "data": {
      "image/png": "[encoded data removed]",
      "text/plain": [
       "<Figure size 432x288 with 1 Axes>"
      ]
     },
     "metadata": {
      "needs_background": "light"
     },
     "output_type": "display_data"
    }
   ],
   "source": [
    "#https://ja.wikipedia.org/wiki/%E5%88%9D%E6%9C%9F%E8%B3%AA%E9%87%8F%E9%96%A2%E6%95%B0\n",
    "fig = plt.figure()\n",
    "ax = fig.add_subplot(1, 1, 1)\n",
    "\n",
    "coef5 = 1.0\n",
    "coef4 = (coef5*(0.5 )**(-2.3))/((0.5)**(-1.3))\n",
    "coef3 = (coef4*(0.08)**(-1.3))/((0.08)**(-0.3))\n",
    "\n",
    "coef3\n",
    "\n",
    "\n",
    "p3 = np.linspace( 0.01, 0.08, 100)  \n",
    "q3 = coef3*(p3)**(-0.3)\n",
    "\n",
    "p4 = np.linspace( 0.08, 0.5, 200)\n",
    "q4 = coef4*(p4)**(-1.3)\n",
    "\n",
    "p5 = np.linspace( 0.5, mmax, 100)   \n",
    "q5 = coef5*(p5)**(-2.3)\n",
    "\n",
    "\n",
    "\n",
    "\n",
    "plt.plot(p3, q3)\n",
    "plt.plot(p4, q4)\n",
    "plt.plot(p5, q5)\n",
    "\n",
    "\n",
    "#plt.plot(p5, q5)\n",
    "\n",
    "\n",
    "plt.xlim(0.01, 100)\n",
    "plt.ylim(0.001, 1000)\n",
    "\n",
    "ax.set_yscale('log')\n",
    "ax.set_xscale('log')\n",
    "plt.show()\n",
    "\n",
    "pp = PdfPages('/Users/maeda/Desktop/IMF-kroupa-dndm.pdf')\n",
    "pp.savefig(fig)\n",
    "pp.close()"
   ]
  },
  {
   "cell_type": "code",
   "execution_count": 220,
   "metadata": {},
   "outputs": [
    {
     "data": {
      "image/png": "[encoded data removed]",
      "text/plain": [
       "<Figure size 432x288 with 1 Axes>"
      ]
     },
     "metadata": {
      "needs_background": "light"
     },
     "output_type": "display_data"
    }
   ],
   "source": [
    "fig = plt.figure()\n",
    "ax = fig.add_subplot(1, 1, 1)\n",
    "\n",
    "coef5 = 1.0\n",
    "coef4 = (coef5*(0.5 )**(-2.3))/((0.5)**(-1.3))\n",
    "coef3 = (coef4*(0.08)**(-1.3))/((0.08)**(-0.3))\n",
    "\n",
    "'''\n",
    "p5 = np.linspace( 0.5, mmax, 100)   \n",
    "q5 = coef5*(-(mmax)**(-1.3)/1.3+(p5)**(-1.3)/1.3)\n",
    "\n",
    "p4 = np.linspace( 0.08, 0.5, 200)\n",
    "q4 = coef4*(-(0.5)**(-0.3)/0.3+(p4)**(-0.3)/0.3)+coef5*(-(mmax)**(-1.3)/1.3+(0.5)**(-1.3)/1.3)\n",
    "\n",
    "p3 = np.linspace( 0.01, 0.08, 100)  \n",
    "q3 = coef3*((0.08)**(+0.7)/0.7-(p3)**(+0.7)/0.7)+coef4*(-(0.5)**(-0.3)/0.3+(0.08)**(-0.3)/0.3)+coef5*(-(mmax)**(-1.3)/1.3+(0.5)**(-1.3)/1.3)\n",
    "'''\n",
    "\n",
    "'''\n",
    "p3 = np.linspace( 0.01, 0.08, 100)  \n",
    "q3 = coef3*((p3)**(+0.7)/0.7-(0.01)**(+0.7)/0.7)\n",
    "\n",
    "p4 = np.linspace( 0.08, 0.5, 200)\n",
    "q4 = coef4*(-(p4)**(-0.3)/0.3+(0.08)**(-0.3)/0.3)+coef3*((0.08)**(+0.7)/0.7-(0.01)**(+0.7)/0.7)\n",
    "\n",
    "p5 = np.linspace( 0.5, mmax, 300)   \n",
    "q5 = coef5*(-(p5)**(-1.3)/1.3+(0.5)**(-1.3)/1.3)+coef4*(-(0.5)**(-0.3)/0.3+(0.08)**(-0.3)/0.3)+coef3*((0.08)**(+0.7)/0.7-(0.01)**(+0.7)/0.7)\n",
    "'''\n",
    "\n",
    "p3 = np.linspace( 0.01, 0.08, 100)  \n",
    "q3 = coef3*((p3)**(+0.7)/0.7-(0.01)**(+0.7)/0.7)\n",
    "\n",
    "p4 = np.linspace( 0.08, 0.5, 200)\n",
    "q4 = coef4*(-(p4)**(-0.3)/0.3+(0.08)**(-0.3)/0.3)+coef3*((0.08)**(+0.7)/0.7-(0.01)**(+0.7)/0.7)\n",
    "\n",
    "p5 = np.linspace( 0.5, mmax, 300)   \n",
    "q5 = coef5*(-(p5)**(-1.3)/1.3+(0.5)**(-1.3)/1.3)+coef4*(-(0.5)**(-0.3)/0.3+(0.08)**(-0.3)/0.3)+coef3*((0.08)**(+0.7)/0.7-(0.01)**(+0.7)/0.7)\n",
    "\n",
    "\n",
    "\n",
    "ntot=coef3*((0.08)**(+0.7)/0.7-(0.01)**(+0.7)/0.7)+coef4*(-(0.5)**(-0.3)/0.3+(0.08)**(-0.3)/0.3)+coef5*(-(mmax)**(-1.3)/1.3+(0.5)**(-1.3)/1.3)\n",
    "\n",
    "q3=q3/ntot\n",
    "q4=q4/ntot\n",
    "q5=q5/ntot\n",
    "\n",
    "\n",
    "plt.plot(p3, q3)\n",
    "plt.plot(p4, q4)\n",
    "plt.plot(p5, q5)\n",
    "\n",
    "#plt.plot(p5, q5)\n",
    "\n",
    "\n",
    "#plt.xlim(0.01, 150)\n",
    "plt.xlim(0.01, 150)\n",
    "plt.ylim(0.0000, 1)\n",
    "\n",
    "#ax.set_yscale('log')\n",
    "ax.set_xscale('log')\n",
    "plt.show()\n",
    "\n",
    "pp = PdfPages('/Users/maeda/Desktop/IMF-kroupa-cum.pdf')\n",
    "pp.savefig(fig)\n",
    "pp.close()"
   ]
  },
  {
   "cell_type": "code",
   "execution_count": 214,
   "metadata": {},
   "outputs": [
    {
     "data": {
      "image/png": "[encoded data removed]",
      "text/plain": [
       "<Figure size 432x288 with 1 Axes>"
      ]
     },
     "metadata": {
      "needs_background": "light"
     },
     "output_type": "display_data"
    }
   ],
   "source": [
    "fig = plt.figure()\n",
    "ax = fig.add_subplot(1, 1, 1)\n",
    "\n",
    "mmin=0.07\n",
    "\n",
    "coef3 = 1.0\n",
    "coef4 = (coef3*(0.08 )**(-0.3))/((0.08)**(-1.3))\n",
    "coef5 = (coef4*(0.5 )**(-1.3))/((0.5)**(-2.3))\n",
    "\n",
    "\n",
    "p3 = np.linspace( mmin, 0.08, 100)  \n",
    "q3 = coef3*((p3)**(+0.7)/0.7-(mmin)**(+0.7)/0.7)\n",
    "\n",
    "p4 = np.linspace( 0.08, 0.5, 200)\n",
    "q4 = coef4*(-(p4)**(-0.3)/0.3+(0.08)**(-0.3)/0.3)+coef3*((0.08)**(+0.7)/0.7-(mmin)**(+0.7)/0.7)\n",
    "\n",
    "p5 = np.linspace( 0.5, mmax, 300)   \n",
    "q5 = coef5*(-(p5)**(-1.3)/1.3+(0.5)**(-1.3)/1.3)+coef4*(-(0.5)**(-0.3)/0.3+(0.08)**(-0.3)/0.3)+coef3*((0.08)**(+0.7)/0.7-(mmin)**(+0.7)/0.7)\n",
    "\n",
    "\n",
    "\n",
    "ntot=coef3*((0.08)**(+0.7)/0.7-(mmin)**(+0.7)/0.7)+coef4*(-(0.5)**(-0.3)/0.3+(0.08)**(-0.3)/0.3)+coef5*(-(mmax)**(-1.3)/1.3+(0.5)**(-1.3)/1.3)\n",
    "\n",
    "q3=q3/ntot\n",
    "q4=q4/ntot\n",
    "q5=q5/ntot\n",
    "\n",
    "\n",
    "plt.plot(p3, q3)\n",
    "plt.plot(p4, q4)\n",
    "plt.plot(p5, q5)\n",
    "\n",
    "#plt.plot(p5, q5)\n",
    "\n",
    "\n",
    "#plt.xlim(0.01, 150)\n",
    "plt.xlim(0.07, 10)\n",
    "plt.ylim(0.0000, 1)\n",
    "\n",
    "#ax.set_yscale('log')\n",
    "ax.set_xscale('log')\n",
    "plt.show()\n",
    "\n",
    "pp = PdfPages('/Users/maeda/Desktop/IMF-kroupa-cum.pdf')\n",
    "pp.savefig(fig)\n",
    "pp.close()\n",
    "\n",
    "#coef3*((0.08)**(+0.7)/0.7-(0.07)**(+0.7)/0.7)\n",
    "#(coef4*(-(0.1)**(-0.3)/0.3+(0.08)**(-0.3)/0.3)+coef3*((0.08)**(+0.7)/0.7-(0.07)**(+0.7)/0.7))/ntot"
   ]
  },
  {
   "cell_type": "code",
   "execution_count": 229,
   "metadata": {},
   "outputs": [
    {
     "data": {
      "image/png": "[encoded data removed]",
      "text/plain": [
       "<Figure size 432x288 with 1 Axes>"
      ]
     },
     "metadata": {
      "needs_background": "light"
     },
     "output_type": "display_data"
    },
    {
     "ename": "AttributeError",
     "evalue": "'Figure' object has no attribute 'save'",
     "output_type": "error",
     "traceback": [
      "\u001b[0;31m---------------------------------------------------------------------------\u001b[0m",
      "\u001b[0;31mAttributeError\u001b[0m                            Traceback (most recent call last)",
      "\u001b[0;32m<ipython-input-229-7c6150f3ad01>\u001b[0m in \u001b[0;36m<module>\u001b[0;34m\u001b[0m\n\u001b[1;32m     18\u001b[0m \u001b[0mpp\u001b[0m\u001b[0;34m.\u001b[0m\u001b[0msavefig\u001b[0m\u001b[0;34m(\u001b[0m\u001b[0mfig\u001b[0m\u001b[0;34m)\u001b[0m\u001b[0;34m\u001b[0m\u001b[0;34m\u001b[0m\u001b[0m\n\u001b[1;32m     19\u001b[0m \u001b[0mpp\u001b[0m\u001b[0;34m.\u001b[0m\u001b[0mclose\u001b[0m\u001b[0;34m(\u001b[0m\u001b[0;34m)\u001b[0m\u001b[0;34m\u001b[0m\u001b[0;34m\u001b[0m\u001b[0m\n\u001b[0;32m---> 20\u001b[0;31m \u001b[0mfig\u001b[0m\u001b[0;34m.\u001b[0m\u001b[0msave\u001b[0m\u001b[0;34m(\u001b[0m\u001b[0;34m'/Users/maeda/Desktop/IMF-k-ran.pdf'\u001b[0m\u001b[0;34m)\u001b[0m\u001b[0;34m\u001b[0m\u001b[0;34m\u001b[0m\u001b[0m\n\u001b[0m",
      "\u001b[0;31mAttributeError\u001b[0m: 'Figure' object has no attribute 'save'"
     ]
    },
    {
     "data": {
      "image/png": "[encoded data removed]",
      "text/plain": [
       "<Figure size 432x288 with 1 Axes>"
      ]
     },
     "metadata": {
      "needs_background": "light"
     },
     "output_type": "display_data"
    }
   ],
   "source": [
    "fig = plt.figure()\n",
    "ax = fig.add_subplot(1, 1, 1)\n",
    "\n",
    "eata01,eata02 = np.loadtxt(dir+'Mran-K.dat', delimiter=',', unpack=True)\n",
    "lgms = np.logspace( np.log10(0.01), np.log10(150), 100)  \n",
    "plt.hist(eata01, bins=lgms)#, cumulative=True, density=True)\n",
    "plt.xscale(\"log\")\n",
    "plt.yscale(\"log\")\n",
    "\n",
    "plt.plot(p3, q3)\n",
    "plt.plot(p4, q4)\n",
    "plt.plot(p5, q5)\n",
    "plt.show()\n",
    "\n",
    "plt.ylim(0.90000, 1000)\n",
    "\n",
    "pp = PdfPages('/Users/maeda/Desktop/IMF-k-ran.pdf')\n",
    "pp.savefig(fig)\n",
    "pp.close()\n",
    "fig.save('/Users/maeda/Desktop/IMF-k-ran.pdf')"
   ]
  },
  {
   "cell_type": "code",
   "execution_count": null,
   "metadata": {},
   "outputs": [],
   "source": []
  }
 ],
 "metadata": {
  "kernelspec": {
   "display_name": "Python 3",
   "language": "python",
   "name": "python3"
  },
  "language_info": {
   "codemirror_mode": {
    "name": "ipython",
    "version": 3
   },
   "file_extension": ".py",
   "mimetype": "text/x-python",
   "name": "python",
   "nbconvert_exporter": "python",
   "pygments_lexer": "ipython3",
   "version": "3.7.4"
  }
 },
 "nbformat": 4,
 "nbformat_minor": 2
}
