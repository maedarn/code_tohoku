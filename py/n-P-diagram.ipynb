{
 "cells": [
  {
   "cell_type": "code",
   "execution_count": 112,
   "metadata": {},
   "outputs": [
    {
     "data": {
      "image/png": "[encoded data removed]",
      "text/plain": [
       "<Figure size 432x288 with 1 Axes>"
      ]
     },
     "metadata": {
      "needs_background": "light"
     },
     "output_type": "display_data"
    }
   ],
   "source": [
    "# encoding: utf-8\n",
    "\n",
    "import numpy as np\n",
    "import matplotlib.pyplot as plt\n",
    "from matplotlib.colors import LogNorm\n",
    "import h5py\n",
    "\n",
    "\n",
    "\n",
    "\n",
    "dir = '/Users/maeda/Desktop/'\n",
    "im=128\n",
    "jm=128\n",
    "km=128\n",
    "num=18\n",
    "nstep = 20\n",
    "#itime = 1\n",
    "#ftime = 104\n",
    "itime = 86\n",
    "ftime = 86\n",
    "timejump=1\n",
    "    \n",
    "    \n",
    "#fig, ax = plt.subplots()\n",
    "fig = plt.figure()\n",
    "#ax = fig.add_subplot(111)\n",
    "#ax1 = fig.add_subplot(111)\n",
    "ax = fig.add_subplot(1,1,1)\n",
    "for i in range(itime,ftime +1,timejump): #最後は含まない\n",
    "    #f90 = open(dir+'All/All'+\"%03.f\"%(i)+'.DAT', 'rb')\n",
    "    f90 = open(dir+'CLALL'+\"%03.f\"%(i)+'.DAT', 'rb')\n",
    "    #f90 = open(dir+'dbug-ok/Alldphi'+\"%03.f\"%(i)+'.DAT', 'rb')\n",
    "    #f90 = open(dir+'All/All'+\"%03.f\"%(i)+'.DAT', 'rb')\n",
    "    #f90 = open(dir+'tag/tag'+\"%03.f\"%(i)+'003.DAT', 'rb')\n",
    "    #f90 = open(dir+'All/All'+\"%03.f\"%(i)+'.DAT', 'rb')\n",
    "    #f90 = open(dir+'Clmpanly/CN098001.DAT', 'rb')\n",
    "    #f90 = open(dir+'AllD.DAT', 'rb')\n",
    "    ary = np.fromfile(f90, np.float32,count=im*jm*km*num) #count=im*jm*dim*nstep\n",
    "    #ary = np.fromfile(f90, np.int32,count=im*jm*km*num)\n",
    "    #print(ary)\n",
    "    uvhpy = ary.reshape(num,im,jm,km, order='F')\n",
    "    #uvhpy = ary.reshape(im,jm,km,num order='F') \n",
    "    #print(uvhpy)\n",
    "    \n",
    "    #slice2=uvhpy[1,:,:,:]\n",
    "    slice1=uvhpy[0,:,:,:]\n",
    "    slice2=uvhpy[1,:,:,:]\n",
    "    slice3=uvhpy[2,:,:,:]\n",
    "    slice4=uvhpy[3,:,:,:]\n",
    "    slice5=uvhpy[4,:,:,:]\n",
    "    slice6=uvhpy[5,:,:,:]\n",
    "    slice7=uvhpy[6,:,:,:]\n",
    "    slice8=uvhpy[7,:,:,:]\n",
    "    slice9=uvhpy[8,:,:,:]\n",
    "    slice10=uvhpy[9,:,:,:]\n",
    "    slice11=uvhpy[10,:,:,:]\n",
    "    slice12=uvhpy[11,:,:,:]\n",
    "    slice13=uvhpy[12,:,:,:]\n",
    "    slice14=uvhpy[13,:,:,:]\n",
    "    slice15=uvhpy[14,:,:,:]\n",
    "    slice16=uvhpy[15,:,:,:]\n",
    "    slice17=uvhpy[16,:,:,:]\n",
    "    slice18=uvhpy[17,:,:,:]\n",
    "    \n",
    "    #x1=slice1.reshape(-1,-1,)\n",
    "    #y1=slice5.reshape(-1,-1,)\n",
    "    x1=slice1/1.27\n",
    "    #y1=slice5*116.0\n",
    "    y1=slice5*91.0\n",
    "    \n",
    "    slicehd = np.where(slice1 >= 100.0/1.27, 1, 0)\n",
    "    x2=x1* slicehd \n",
    "    y2=y1* slicehd \n",
    "    \n",
    "    '''\n",
    "    slice01=slicehd[:,:,66]\n",
    "    slice05=slice5[:,:,66]\n",
    "    \n",
    "    data01,data02 = np.loadtxt('/Users/maeda/Desktop/Dropbox/code/code/KIcool/KIcoolbr.dat', delimiter=',', unpack=True)\n",
    "    #data02=data02*116.0\n",
    "    \n",
    "    x = np.arange(0, im) #x軸の描画範囲の生成。0から10まで0.05刻み。\n",
    "    y = np.arange(0, jm) \n",
    "    #imshow(slice01,norm=LogNorm(vmin=1,vmax=1e6))\n",
    "    #plt.pcolormesh(x,y,slice01, cmap='jet') # 等高線図の生成。cmapで色付けの規則を指定する。\n",
    "    \n",
    "    mappable0 = ax1.pcolormesh(x,y,slice05, cmap='coolwarm', norm=LogNorm()) # ここがポイント！\n",
    "    #mappable0 = ax1.pcolormesh(x,y,slice05, cmap='coolwarm') # ここがポイント！\n",
    "    pp = fig.colorbar(mappable0, ax=ax1, orientation=\"vertical\")\n",
    "\n",
    "\n",
    "    #plt.clim(1.0, 10000.0)\n",
    "    #pp=plt.colorbar (orientation=\"vertical\") # カラーバーの表示 \"vertical\"\n",
    "    #pp.set_label(\"$\\Phi$\", fontsize=24) #カラーバーのラベル\n",
    "    #plt.xlim([-0.0, 100.0]) # x方向の描画範囲を指定\n",
    "    #plt.ylim([-0.0, 100.0]) # y方向の描画範囲を指定\n",
    "    plt.xlabel('X', fontsize=24)\n",
    "    plt.ylabel('Y', fontsize=24)\n",
    "    #plt.xticks(np.arange(0, 101, step=20))\n",
    "    #plt.yticks(np.arange(0, 101, step=20))\n",
    "    #fig = plt.figure(figsize=(5, 5))\n",
    "    #ax.set_aspect('equal', adjustable='box')\n",
    "    #quadmesh.set_clim(vmin=0, vmax=15)\n",
    "    #plt.axes().set_aspect('equal', 'datalim')\n",
    "    plt.gca().set_aspect('equal')\n",
    "    plt.savefig(\"slice.png\")\n",
    "\n",
    "    #pp = PdfPages('/Users/maeda/Desktop/phi'+\"%03.f\"%(i)+'.pdf')\n",
    "   # pp = PdfPages('/Users/maeda/Desktop/rho.pdf')\n",
    "    # 画像をPDFとして保存する\n",
    "    #pp.savefig(fig, bbox_inches='tight')\n",
    "    # PDFの保存終了\n",
    "    #pp.close()\n",
    "\n",
    "\n",
    "    plt.show()\n",
    "    \n",
    "    '''\n",
    "    #ax.set_xlabel('n')  # x軸ラベル\n",
    "    #ax.set_ylabel('p/k_{B}')  # y軸ラベル\n",
    "    #ax.set_title(r'$\\sin(x)$ and $\\cos(x)$') # グラフタイトル\n",
    "    # ax.set_aspect('equal') # スケールを揃える\n",
    "    #ax.grid()            # 罫線\n",
    "    #plt.yscale('log')\n",
    "    #plt.xscale('log')\n",
    "    #plt.plot(x1, y1)\n",
    "    #matplotlib.pyplot.scatter\n",
    "    plt.scatter(x1, y1, s=0.2)# norm=LogNorm())#, s=20)#, c=None, marker='o', cmap=None, norm=None,vmin=None, vmax=None, alpha=None, linewidths=None,verts=None, edgecolors=None, hold=None, data=None,**kwargs)\n",
    "    ax.set_yscale('log')  # y軸をlogスケールで描く\n",
    "    ax.set_xscale('log')  # x軸をlogスケールで描く\n",
    "    ax.set_xlim([0.1, 1000000]) # x方向の描画範囲を指定\n",
    "    ax.set_ylim([100, 10000000])    # y方向の描画範囲を指定\n",
    "    p = plt.plot(data01,data02, \"black\", linestyle='dashed') # normal way\n",
    "    #ax.plot(t, y1, color=c1, label=l1)\n",
    "    #ax.plot(t, y2, color=c2, label=l2)\n",
    "    #ax.plot(t, y3, color=c3, label=l3)\n",
    "    #ax.plot(t, y4, color=c4, label=l4)\n",
    "    #ax.legend(loc=0)    # 凡例\n",
    "    #fig.tight_layout()  # レイアウトの設定\n",
    "    # plt.savefig('hoge.png') # 画像の保存\n",
    "    #plt.show()\n",
    "                    \n",
    "                    \n",
    "    plt.savefig(\"foo.png\")\n",
    "    \n",
    "    \n",
    "   \n",
    "      \n"
   ]
  },
  {
   "cell_type": "code",
   "execution_count": 113,
   "metadata": {},
   "outputs": [
    {
     "data": {
      "text/plain": [
       "20.905231"
      ]
     },
     "execution_count": 113,
     "metadata": {},
     "output_type": "execute_result"
    }
   ],
   "source": [
    "rhov=0.0\n",
    "v=0.0\n",
    "dl=100.0/512.0\n",
    "rhovx=slice1[i,j,k]*slice2[i,j,k]\n",
    "rhovy=slice1[i,j,k]*slice3[i,j,k]\n",
    "rhovz=slice1[i,j,k]*slice4[i,j,k]\n",
    "\n",
    "#div=rhovx\n",
    "#div=0.0\n",
    "#for k in range(1, km-1, 1):\n",
    "\n",
    "for k in range(1, km-1, 1):\n",
    "    for j in range(1, jm-1, 1):\n",
    "        for i in range(1, im-1, 1):\n",
    "            rhov=rhov+(slice1[i+1,j,k]*slice2[i+1,j,k]-slice1[i-1,j,k]*slice2[i-1,j,k] + slice1[i,j+1,k]*slice3[i,j+1,k]-slice1[i,j-1,k]*slice3[i,j-1,k] + slice1[i,j,k+1]*slice4[i,j,k+1]-slice1[i,j,k-1]*slice4[i,j,k-1])/2.0/dl * dl * dl * dl \n",
    "            v=v+(slice2[i+1,j,k]-slice2[i-1,j,k] + slice3[i,j+1,k]-slice3[i,j-1,k] + slice4[i,j,k+1]-slice4[i,j,k-1])/2.0/dl * dl * dl * dl \n",
    "    \n",
    "rhov=rhov/(dl*126.0*dl*126.0*6)\n",
    "v=v/(dl*126.0*dl*126.0*6)\n",
    "rho=slice1.mean()\n",
    "#print(rho)\n",
    "rho"
   ]
  },
  {
   "cell_type": "code",
   "execution_count": 117,
   "metadata": {},
   "outputs": [
    {
     "data": {
      "text/plain": [
       "34.42157097204003"
      ]
     },
     "execution_count": 117,
     "metadata": {},
     "output_type": "execute_result"
    }
   ],
   "source": [
    "Bmean=0.0\n",
    "v=0.0\n",
    "dl=100.0/512.0\n",
    "\n",
    "slicedenrho = np.where(slice1 >= 10000.0, 1.0, 0.0)\n",
    "#Bx2=slice2[i,j,k]*slice2[i,j,k]*slicedenrho[i,j,k]\n",
    "#By2=slice3[i,j,k]*slice3[i,j,k]*slicedenrho[i,j,k]\n",
    "#Bz2=slice4[i,j,k]*slice4[i,j,k]*slicedenrho[i,j,k]\n",
    "Bx2=slice6*slice6*slicedenrho\n",
    "By2=slice7*slice7*slicedenrho\n",
    "Bz2=slice8*slice8*slicedenrho\n",
    "\n",
    "B=np.sqrt(Bx2+By2+Bz2)\n",
    "Bmean=B[B >0.0].mean() / 3.545 # sqrt(4 pi) = 3.545\n",
    "\n",
    "\n",
    "Bmean\n"
   ]
  },
  {
   "cell_type": "code",
   "execution_count": 2,
   "metadata": {},
   "outputs": [],
   "source": [
    "import numpy as np\n",
    "import matplotlib.pyplot as plt\n",
    "from matplotlib.colors import LogNorm\n",
    "import h5py\n",
    "\n"
   ]
  },
  {
   "cell_type": "code",
   "execution_count": 9,
   "metadata": {},
   "outputs": [
    {
     "ename": "ValueError",
     "evalue": "cannot reshape array of size 4251648 into shape (18,64,64,64)",
     "output_type": "error",
     "traceback": [
      "\u001b[0;31m---------------------------------------------------------------------------\u001b[0m",
      "\u001b[0;31mValueError\u001b[0m                                Traceback (most recent call last)",
      "\u001b[0;32m<ipython-input-9-a4f7b8e61f79>\u001b[0m in \u001b[0;36m<module>\u001b[0;34m\u001b[0m\n\u001b[1;32m     39\u001b[0m     \u001b[0;31m#ary = np.fromfile(f90, np.int32,count=im*jm*km*num)\u001b[0m\u001b[0;34m\u001b[0m\u001b[0;34m\u001b[0m\u001b[0;34m\u001b[0m\u001b[0m\n\u001b[1;32m     40\u001b[0m     \u001b[0;31m#print(ary)\u001b[0m\u001b[0;34m\u001b[0m\u001b[0;34m\u001b[0m\u001b[0;34m\u001b[0m\u001b[0m\n\u001b[0;32m---> 41\u001b[0;31m     \u001b[0muvhpy\u001b[0m \u001b[0;34m=\u001b[0m \u001b[0mary\u001b[0m\u001b[0;34m.\u001b[0m\u001b[0mreshape\u001b[0m\u001b[0;34m(\u001b[0m\u001b[0mnum\u001b[0m\u001b[0;34m,\u001b[0m\u001b[0mim\u001b[0m\u001b[0;34m,\u001b[0m\u001b[0mjm\u001b[0m\u001b[0;34m,\u001b[0m\u001b[0mkm\u001b[0m\u001b[0;34m,\u001b[0m \u001b[0morder\u001b[0m\u001b[0;34m=\u001b[0m\u001b[0;34m'F'\u001b[0m\u001b[0;34m)\u001b[0m\u001b[0;34m\u001b[0m\u001b[0;34m\u001b[0m\u001b[0m\n\u001b[0m\u001b[1;32m     42\u001b[0m     \u001b[0;31m#uvhpy = ary.reshape(im,jm,km,num order='F')\u001b[0m\u001b[0;34m\u001b[0m\u001b[0;34m\u001b[0m\u001b[0;34m\u001b[0m\u001b[0m\n\u001b[1;32m     43\u001b[0m     \u001b[0;31m#print(uvhpy)\u001b[0m\u001b[0;34m\u001b[0m\u001b[0;34m\u001b[0m\u001b[0;34m\u001b[0m\u001b[0m\n",
      "\u001b[0;31mValueError\u001b[0m: cannot reshape array of size 4251648 into shape (18,64,64,64)"
     ]
    },
    {
     "data": {
      "image/png": "[encoded data removed]",
      "text/plain": [
       "<Figure size 432x288 with 1 Axes>"
      ]
     },
     "metadata": {
      "needs_background": "light"
     },
     "output_type": "display_data"
    }
   ],
   "source": [
    "# encoding: utf-8\n",
    "\n",
    "import numpy as np\n",
    "import matplotlib.pyplot as plt\n",
    "from matplotlib.colors import LogNorm\n",
    "import h5py\n",
    "\n",
    "\n",
    "\n",
    "\n",
    "dir = '/Users/maeda/Desktop/Dropbox/analysis/samplecnvS/'\n",
    "im=64\n",
    "jm=64\n",
    "km=64\n",
    "num=18\n",
    "nstep = 20\n",
    "#itime = 1\n",
    "#ftime = 104\n",
    "itime = 82\n",
    "ftime = 82\n",
    "timejump=1\n",
    "    \n",
    "    \n",
    "#fig, ax = plt.subplots()\n",
    "fig = plt.figure()\n",
    "#ax = fig.add_subplot(111)\n",
    "#ax1 = fig.add_subplot(111)\n",
    "ax = fig.add_subplot(1,1,1)\n",
    "for i in range(itime,ftime +1,timejump): #最後は含まない\n",
    "    #f90 = open(dir+'All/All'+\"%03.f\"%(i)+'.DAT', 'rb')\n",
    "    f90 = open(dir+'NCLALL'+\"%03.f\"%(i)+'.DAT', 'rb')\n",
    "    #f90 = open(dir+'dbug-ok/Alldphi'+\"%03.f\"%(i)+'.DAT', 'rb')\n",
    "    #f90 = open(dir+'All/All'+\"%03.f\"%(i)+'.DAT', 'rb')\n",
    "    #f90 = open(dir+'tag/tag'+\"%03.f\"%(i)+'003.DAT', 'rb')\n",
    "    #f90 = open(dir+'All/All'+\"%03.f\"%(i)+'.DAT', 'rb')\n",
    "    #f90 = open(dir+'Clmpanly/CN098001.DAT', 'rb')\n",
    "    #f90 = open(dir+'AllD.DAT', 'rb')\n",
    "    ary = np.fromfile(f90, np.float32,count=im*jm*km*num) #count=im*jm*dim*nstep\n",
    "    #ary = np.fromfile(f90, np.int32,count=im*jm*km*num)\n",
    "    #print(ary)\n",
    "    uvhpy = ary.reshape(num,im,jm,km, order='F')\n",
    "    #uvhpy = ary.reshape(im,jm,km,num order='F') \n",
    "    #print(uvhpy)\n",
    "    \n",
    "    #slice2=uvhpy[1,:,:,:]\n",
    "    slice1=uvhpy[0,:,:,:]\n",
    "    slice2=uvhpy[1,:,:,:]\n",
    "    slice3=uvhpy[2,:,:,:]\n",
    "    slice4=uvhpy[3,:,:,:]\n",
    "    slice5=uvhpy[4,:,:,:]\n",
    "    slice6=uvhpy[5,:,:,:]\n",
    "    slice7=uvhpy[6,:,:,:]\n",
    "    slice8=uvhpy[7,:,:,:]\n",
    "    slice9=uvhpy[8,:,:,:]\n",
    "    slice10=uvhpy[9,:,:,:]\n",
    "    slice11=uvhpy[10,:,:,:]\n",
    "    slice12=uvhpy[11,:,:,:]\n",
    "    slice13=uvhpy[12,:,:,:]\n",
    "    slice14=uvhpy[13,:,:,:]\n",
    "    slice15=uvhpy[14,:,:,:]\n",
    "    slice16=uvhpy[15,:,:,:]\n",
    "    slice17=uvhpy[16,:,:,:]\n",
    "    slice18=uvhpy[17,:,:,:]\n",
    "    \n",
    "    #x1=slice1.reshape(-1,-1,)\n",
    "    #y1=slice5.reshape(-1,-1,)\n",
    "    x1=slice1/1.27\n",
    "    #y1=slice5*116.0\n",
    "    y1=slice5*91.0\n",
    "    \n",
    "    slicehd = np.where(slice1 >= 100.0/1.27, 1, 0)\n",
    "    x2=x1* slicehd \n",
    "    y2=y1* slicehd \n",
    "  \n",
    "    #ax.set_xlabel('n')  # x軸ラベル\n",
    "    #ax.set_ylabel('p/k_{B}')  # y軸ラベル\n",
    "    #ax.set_title(r'$\\sin(x)$ and $\\cos(x)$') # グラフタイトル\n",
    "    # ax.set_aspect('equal') # スケールを揃える\n",
    "    #ax.grid()            # 罫線\n",
    "    #plt.yscale('log')\n",
    "    #plt.xscale('log')\n",
    "    #plt.plot(x1, y1)\n",
    "    #matplotlib.pyplot.scatter\n",
    "    plt.scatter(x1, y1, s=0.2)# norm=LogNorm())#, s=20)#, c=None, marker='o', cmap=None, norm=None,vmin=None, vmax=None, alpha=None, linewidths=None,verts=None, edgecolors=None, hold=None, data=None,**kwargs)\n",
    "    ax.set_yscale('log')  # y軸をlogスケールで描く\n",
    "    ax.set_xscale('log')  # x軸をlogスケールで描く\n",
    "    ax.set_xlim([0.1, 1000000]) # x方向の描画範囲を指定\n",
    "    ax.set_ylim([100, 10000000])    # y方向の描画範囲を指定\n",
    "    p = plt.plot(data01,data02, \"black\", linestyle='dashed') # normal way\n",
    "    #ax.plot(t, y1, color=c1, label=l1)\n",
    "    #ax.plot(t, y2, color=c2, label=l2)\n",
    "    #ax.plot(t, y3, color=c3, label=l3)\n",
    "    #ax.plot(t, y4, color=c4, label=l4)\n",
    "    #ax.legend(loc=0)    # 凡例\n",
    "    #fig.tight_layout()  # レイアウトの設定\n",
    "    # plt.savefig('hoge.png') # 画像の保存\n",
    "    #plt.show()\n",
    "                    \n",
    "                    \n",
    "    plt.savefig(\"foo.png\")\n",
    "    \n",
    "    \n",
    "   \n",
    "      \n"
   ]
  },
  {
   "cell_type": "code",
   "execution_count": 13,
   "metadata": {},
   "outputs": [],
   "source": [
    "from PIL import Image\n",
    "import numpy as np\n",
    "import matplotlib.pyplot as plt\n",
    "import h5py\n",
    "import csv\n",
    "import math\n",
    "import pandas as pd\n",
    "from matplotlib.backends.backend_pdf import PdfPages\n",
    "import matplotlib.animation as animation\n",
    "from matplotlib.animation import ArtistAnimation\n",
    "import matplotlib.colors as mcolors\n",
    "from matplotlib.colors import LogNorm\n"
   ]
  },
  {
   "cell_type": "code",
   "execution_count": 82,
   "metadata": {},
   "outputs": [],
   "source": [
    "\n",
    "i = 92\n",
    "dir1  = '/Users/maeda/Desktop/Dropbox/analysis/sampletstC/'\n",
    "\n",
    "folder1=\"RHO\"  #+ str(np.int(sample_frequency)) \n",
    "folder2=\"PHI\"  #+ str(np.int(sample_frequency)) \n",
    "folder3=\"T\" \n",
    "\n",
    "\n",
    "h5file1 = h5py.File(dir1+'NAllHDF'+\"%03.f\"%(i)+'.h5',\"r\")\n",
    "\n",
    "#データ読み込み\n",
    "Rho  = h5file1[folder1+\"/RHO\"].value \n",
    "Phi = h5file1[folder2+\"/PHI\"].value \n",
    "T = h5file1[folder3+\"/T\"].value "
   ]
  },
  {
   "cell_type": "code",
   "execution_count": 94,
   "metadata": {},
   "outputs": [],
   "source": [
    "Rho10000 = np.where(Rho  >= 1000.0, 1.0, 0.0)\n",
    "T10 = np.where(T  >= 9.5, 1.0, 0.0)\n",
    "NRho=Rho*Rho10000#*T10 \n",
    "NPhi=Phi*Rho10000#*T10 \n",
    "NT=T*Rho10000#*T10 "
   ]
  },
  {
   "cell_type": "code",
   "execution_count": 95,
   "metadata": {},
   "outputs": [
    {
     "data": {
      "image/png": "[encoded data removed]",
      "text/plain": [
       "<Figure size 432x288 with 1 Axes>"
      ]
     },
     "metadata": {
      "needs_background": "light"
     },
     "output_type": "display_data"
    }
   ],
   "source": [
    "#fig, ax = plt.subplots()\n",
    "fig = plt.figure()\n",
    "#ax = fig.add_subplot(111)\n",
    "#ax1 = fig.add_subplot(111)\n",
    "ax = fig.add_subplot(1,1,1)\n",
    "plt.scatter(NRho, NPhi, s=5.2)# norm=LogNorm())#, s=20)#, c=None, marker='o', cmap=None, norm=None,vmin=None, vmax=None, alpha=None, linewidths=None,verts=None, edgecolors=None, hold=None, data=None,**kwargs)\n",
    "#ax.set_yscale('log')  # y軸をlogスケールで描く\n",
    "#plt.scatter(NT, NPhi, s=5.2)\n",
    "ax.set_xscale('log')  # x軸をlogスケールで描く\n",
    "ax.set_xlim([1, 100000000]) # x方向の描画範囲を指定\n",
    "#ax.set_ylim([-200, 100])    # y方向の描画範囲を指定\n",
    "#p = plt.plot(data01,data02, \"black\", linestyle='dashed') # normal way\n",
    "#ax.plot(t, y1, color=c1, label=l1)\n",
    "#ax.plot(t, y2, color=c2, label=l2)\n",
    "#ax.plot(t, y3, color=c3, label=l3)\n",
    "#ax.plot(t, y4, color=c4, label=l4)\n",
    "#ax.legend(loc=0)    # 凡例\n",
    "#fig.tight_layout()  # レイアウトの設定\n",
    "# plt.savefig('hoge.png') # 画像の保存\n",
    "#plt.show()\n",
    "plt.savefig(\"foo.png\")\n"
   ]
  },
  {
   "cell_type": "code",
   "execution_count": 96,
   "metadata": {},
   "outputs": [
    {
     "data": {
      "image/png": "[encoded data removed]",
      "text/plain": [
       "<Figure size 432x288 with 1 Axes>"
      ]
     },
     "metadata": {
      "needs_background": "light"
     },
     "output_type": "display_data"
    }
   ],
   "source": [
    "#fig, ax = plt.subplots()\n",
    "fig = plt.figure()\n",
    "#ax = fig.add_subplot(111)\n",
    "#ax1 = fig.add_subplot(111)\n",
    "ax = fig.add_subplot(1,1,1)\n",
    "#plt.scatter(NRho, NPhi, s=5.2)# norm=LogNorm())#, s=20)#, c=None, marker='o', cmap=None, norm=None,vmin=None, vmax=None, alpha=None, linewidths=None,verts=None, edgecolors=None, hold=None, data=None,**kwargs)\n",
    "#ax.set_yscale('log')  # y軸をlogスケールで描く\n",
    "plt.scatter(NT, NPhi, s=5.2)\n",
    "ax.set_xscale('log')  # x軸をlogスケールで描く\n",
    "ax.set_xlim([0.0001, 10000]) # x方向の描画範囲を指定\n",
    "#ax.set_ylim([-200, 100])    # y方向の描画範囲を指定\n",
    "#p = plt.plot(data01,data02, \"black\", linestyle='dashed') # normal way\n",
    "#ax.plot(t, y1, color=c1, label=l1)\n",
    "#ax.plot(t, y2, color=c2, label=l2)\n",
    "#ax.plot(t, y3, color=c3, label=l3)\n",
    "#ax.plot(t, y4, color=c4, label=l4)\n",
    "#ax.legend(loc=0)    # 凡例\n",
    "#fig.tight_layout()  # レイアウトの設定\n",
    "# plt.savefig('hoge.png') # 画像の保存\n",
    "#plt.show()\n",
    "plt.savefig(\"foo.png\")"
   ]
  },
  {
   "cell_type": "code",
   "execution_count": 102,
   "metadata": {},
   "outputs": [
    {
     "data": {
      "text/plain": [
       "(1e-05, 100)"
      ]
     },
     "execution_count": 102,
     "metadata": {},
     "output_type": "execute_result"
    },
    {
     "data": {
      "image/png": "[encoded data removed]",
      "text/plain": [
       "<Figure size 432x288 with 1 Axes>"
      ]
     },
     "metadata": {
      "needs_background": "light"
     },
     "output_type": "display_data"
    }
   ],
   "source": [
    "#fig, ax = plt.subplots()\n",
    "fig = plt.figure()\n",
    "#ax = fig.add_subplot(111)\n",
    "#ax1 = fig.add_subplot(111)\n",
    "ax = fig.add_subplot(1,1,1)\n",
    "#plt.scatter(NRho, NPhi, s=5.2)# norm=LogNorm())#, s=20)#, c=None, marker='o', cmap=None, norm=None,vmin=None, vmax=None, alpha=None, linewidths=None,verts=None, edgecolors=None, hold=None, data=None,**kwargs)\n",
    "ax.set_yscale('log')  # y軸をlogスケールで描く\n",
    "plt.scatter(NRho, NT, s=5.2)\n",
    "ax.set_xscale('log')  # x軸をlogスケールで描く\n",
    "ax.set_xlim([1, 1000000]) # x方向の描画範囲を指定\n",
    "ax.set_ylim([0.00001, 100])    # y方向の描画範囲を指定\n",
    "#p = plt.plot(data01,data02, \"black\", linestyle='dashed') # normal way\n",
    "#ax.plot(t, y1, color=c1, label=l1)\n",
    "#ax.plot(t, y2, color=c2, label=l2)\n",
    "#ax.plot(t, y3, color=c3, label=l3)\n",
    "#ax.plot(t, y4, color=c4, label=l4)\n",
    "#ax.legend(loc=0)    # 凡例\n",
    "#fig.tight_layout()  # レイアウトの設定\n",
    "# plt.savefig('hoge.png') # 画像の保存\n"
   ]
  },
  {
   "cell_type": "code",
   "execution_count": 134,
   "metadata": {},
   "outputs": [
    {
     "data": {
      "text/plain": [
       "0"
      ]
     },
     "execution_count": 134,
     "metadata": {},
     "output_type": "execute_result"
    }
   ],
   "source": [
    "i = 11\n",
    "dir1  = '/Users/maeda/Desktop/Dropbox/analysis/test-feedback/test-HII50/All/'\n",
    "\n",
    "folder1=\"RHO\"  #+ str(np.int(sample_frequency)) \n",
    "folder2=\"PHI\"  #+ str(np.int(sample_frequency)) \n",
    "folder3=\"T\" \n",
    "\n",
    "\n",
    "h5file1 = h5py.File(dir1+'AllHDF'+\"%03.f\"%(i)+'.h5',\"r\")\n",
    "\n",
    "#データ読み込み\n",
    "Rho  = h5file1[folder1+\"/RHO\"].value \n",
    "\n",
    "rho1D=Rho[64,64,:]\n",
    "max_index = np.argmax(rho1D)\n",
    "\n",
    "max_index"
   ]
  },
  {
   "cell_type": "code",
   "execution_count": 141,
   "metadata": {},
   "outputs": [
    {
     "data": {
      "image/png": "[encoded data removed]",
      "text/plain": [
       "<Figure size 432x288 with 1 Axes>"
      ]
     },
     "metadata": {
      "needs_background": "light"
     },
     "output_type": "display_data"
    }
   ],
   "source": [
    "r1=[0] * 8\n",
    "r1[0] = (64.0-28.0)*10.0/128.0\n",
    "r1[1] = (64.0-24.0)*10.0/128.0\n",
    "#r1[2] = (64.0-24.0)*10.0/128.0\n",
    "r1[2] = (64.0-20.0)*10.0/128.0\n",
    "r1[3] = (64.0-16.0)*10.0/128.0\n",
    "r1[4] = (64.0-13.0)*10.0/128.0\n",
    "r1[5] = (64.0-10.0)*10.0/128.0\n",
    "r1[6] = (64.0-8.0)*10.0/128.0\n",
    "r1[7] = (64.0-5.0)*10.0/128.0\n",
    "\n",
    "fig = plt.figure()\n",
    "ax = fig.add_subplot(1, 1, 1)\n",
    "\n",
    "\n",
    "plt.plot(r1,marker=\"o\",color='red', linewidth = 1) \n",
    "\n",
    "\n",
    "plt.show()\n"
   ]
  },
  {
   "cell_type": "markdown",
   "metadata": {},
   "source": [
    "\n",
    "fig = plt.figure()\n",
    "ax = fig.add_subplot(1, 1, 1)\n",
    "\n",
    "\n",
    "plt.plot(rho1D,marker=\"o\",color='red', linewidth = 1) \n",
    "\n",
    "\n",
    "plt.show()"
   ]
  },
  {
   "cell_type": "code",
   "execution_count": 4,
   "metadata": {},
   "outputs": [
    {
     "data": {
      "image/png": "[encoded data removed]",
      "text/plain": [
       "<Figure size 432x288 with 1 Axes>"
      ]
     },
     "metadata": {
      "needs_background": "light"
     },
     "output_type": "display_data"
    }
   ],
   "source": [
    "Rst=0.64*(0.1)**(-2.0/3.0) * (0.1)**0.333\n",
    "p = np.linspace( 0, 1, 100)   # linspace(min, max, N) で範囲 min から max を N 分割します\n",
    "q = Rst*(1.0+7.0/4.0*10.0*p/Rst)**(4.0/7.0)\n",
    "\n",
    "r1=[0] * 9\n",
    "r1[0] = (64.0-28.0)*10.0/128.0\n",
    "r1[1] = (64.0-24.0)*10.0/128.0\n",
    "r1[2] = (64.0-24.0)*10.0/128.0\n",
    "r1[3] = (64.0-20.0)*10.0/128.0\n",
    "r1[4] = (64.0-16.0)*10.0/128.0\n",
    "r1[5] = (64.0-13.0)*10.0/128.0\n",
    "r1[6] = (64.0-10.0)*10.0/128.0\n",
    "r1[7] = (64.0-8.0)*10.0/128.0\n",
    "r1[8] = (64.0-5.0)*10.0/128.0 \n",
    "\n",
    "t1=[0] * 9\n",
    "\n",
    "t1[0] = 0.187\n",
    "t1[1] = 0.246\n",
    "t1[2] = 0.2500\n",
    "t1[3] = 0.304\n",
    "t1[4] = 0.357\n",
    "t1[5] = 0.41231\n",
    "t1[6] = 0.465637\n",
    "t1[7] = 0.50000\n",
    "t1[8] = 0.61506\n",
    "\n",
    "fig = plt.figure()\n",
    "ax = fig.add_subplot(111)\n",
    "\n",
    "plt.xlim([0.0, 1.0]) # x方向の描画範囲を指定\n",
    "plt.ylim([.0, 5.0]) # y方向の描画範囲を指定\n",
    "\n",
    "plt.rcParams[\"font.family\"] = \"Times New Roman\"      #全体のフォントを設定\n",
    "plt.rcParams[\"xtick.direction\"] = \"in\"               #x軸の目盛線が内向き('in')か外向き('out')か双方向か('inout')\n",
    "plt.rcParams[\"ytick.direction\"] = \"in\"               #y軸の目盛線が内向き('in')か外向き('out')か双方向か('inout')\n",
    "#plt.rcParams[\"xtick.minor.visible\"] = True          #x軸補助目盛りの追加\n",
    "#plt.rcParams[\"ytick.minor.visible\"] = True          #y軸補助目盛りの追加\n",
    "#plt.rcParams[\"xtick.major.width\"] = 1.5              #x軸主目盛り線の線幅\n",
    "#plt.rcParams[\"ytick.major.width\"] = 1.5              #y軸主目盛り線の線幅\n",
    "#plt.rcParams[\"xtick.minor.width\"] = 1.0              #x軸補助目盛り線の線幅\n",
    "#plt.rcParams[\"ytick.minor.width\"] = 1.0              #y軸補助目盛り線の線幅\n",
    "plt.rcParams[\"xtick.major.size\"] = 5                #x軸主目盛り線の長さ\n",
    "plt.rcParams[\"ytick.major.size\"] = 5                #y軸主目盛り線の長さ\n",
    "#plt.rcParams[\"xtick.minor.size\"] = 5                #x軸補助目盛り線の長さ\n",
    "#plt.rcParams[\"ytick.minor.size\"] = 5                #y軸補助目盛り線の長さ\n",
    "plt.rcParams[\"font.size\"] = 20                       #フォントの大きさ\n",
    "#plt.rcParams[\"axes.linewidth\"] = 1.5                 #囲みの太さ\n",
    "\n",
    "ax.set_ylabel('Radius [pc]')\n",
    "ax.set_xlabel('Time [Myr]')\n",
    "\n",
    "plt.plot(p, q,color='red')\n",
    "plt.plot(t1, r1,\"-or\",color='blue' )\n",
    "#plt.plot(r1,marker=\"o\",color='red', linewidth = 1) \n",
    "\n",
    "plt.show()"
   ]
  },
  {
   "cell_type": "code",
   "execution_count": 15,
   "metadata": {},
   "outputs": [
    {
     "data": {
      "image/png": "[encoded data removed]",
      "text/plain": [
       "<Figure size 432x288 with 1 Axes>"
      ]
     },
     "metadata": {
      "needs_background": "light"
     },
     "output_type": "display_data"
    }
   ],
   "source": [
    "n=100.0\n",
    "Rst=0.64*(n/1000.0)**(-2.0/3.0) * (0.1)**0.333\n",
    "p = np.linspace( 0, 5, 100)   # linspace(min, max, N) で範囲 min から max を N 分割します\n",
    "q = Rst*(1.0+np.sqrt(4.0/3.0)*7.0/4.0*10.0*p/Rst)**(4.0/7.0)\n",
    "\n",
    "n=100000.0\n",
    "Rst=0.64*(n/1000.0)**(-2.0/3.0) * (0.1)**0.333\n",
    "p1 = np.linspace( 0, 5, 100)   # linspace(min, max, N) で範囲 min から max を N 分割します\n",
    "q1 = Rst*(1.0+np.sqrt(4.0/3.0)*7.0/4.0*10.0*p1/Rst)**(4.0/7.0)\n",
    "\n",
    "\n",
    "fig = plt.figure()\n",
    "ax = fig.add_subplot(111)\n",
    "\n",
    "plt.xlim([0.0, 5.0]) # x方向の描画範囲を指定\n",
    "plt.ylim([.0, 10.0]) # y方向の描画範囲を指定\n",
    "\n",
    "plt.rcParams[\"font.family\"] = \"Times New Roman\"      #全体のフォントを設定\n",
    "plt.rcParams[\"xtick.direction\"] = \"in\"               #x軸の目盛線が内向き('in')か外向き('out')か双方向か('inout')\n",
    "plt.rcParams[\"ytick.direction\"] = \"in\"               #y軸の目盛線が内向き('in')か外向き('out')か双方向か('inout')\n",
    "#plt.rcParams[\"xtick.minor.visible\"] = True          #x軸補助目盛りの追加\n",
    "#plt.rcParams[\"ytick.minor.visible\"] = True          #y軸補助目盛りの追加\n",
    "#plt.rcParams[\"xtick.major.width\"] = 1.5              #x軸主目盛り線の線幅\n",
    "#plt.rcParams[\"ytick.major.width\"] = 1.5              #y軸主目盛り線の線幅\n",
    "#plt.rcParams[\"xtick.minor.width\"] = 1.0              #x軸補助目盛り線の線幅\n",
    "#plt.rcParams[\"ytick.minor.width\"] = 1.0              #y軸補助目盛り線の線幅\n",
    "plt.rcParams[\"xtick.major.size\"] = 5                #x軸主目盛り線の長さ\n",
    "plt.rcParams[\"ytick.major.size\"] = 5                #y軸主目盛り線の長さ\n",
    "#plt.rcParams[\"xtick.minor.size\"] = 5                #x軸補助目盛り線の長さ\n",
    "#plt.rcParams[\"ytick.minor.size\"] = 5                #y軸補助目盛り線の長さ\n",
    "plt.rcParams[\"font.size\"] = 20                       #フォントの大きさ\n",
    "#plt.rcParams[\"axes.linewidth\"] = 1.5                 #囲みの太さ\n",
    "\n",
    "ax.set_ylabel('Radius [pc]')\n",
    "ax.set_xlabel('Time [Myr]')\n",
    "\n",
    "plt.plot(p, q,color='red')\n",
    "plt.plot(p1, q1,color='blue')\n",
    "#plt.plot(r1,marker=\"o\",color='red', linewidth = 1) \n",
    "\n",
    "plt.show()"
   ]
  },
  {
   "cell_type": "code",
   "execution_count": null,
   "metadata": {},
   "outputs": [],
   "source": []
  }
 ],
 "metadata": {
  "kernelspec": {
   "display_name": "Python 3 (ipykernel)",
   "language": "python",
   "name": "python3"
  },
  "language_info": {
   "codemirror_mode": {
    "name": "ipython",
    "version": 3
   },
   "file_extension": ".py",
   "mimetype": "text/x-python",
   "name": "python",
   "nbconvert_exporter": "python",
   "pygments_lexer": "ipython3",
   "version": "3.10.9"
  }
 },
 "nbformat": 4,
 "nbformat_minor": 2
}
