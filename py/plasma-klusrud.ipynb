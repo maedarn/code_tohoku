{
 "cells": [
  {
   "cell_type": "code",
   "execution_count": 6,
   "metadata": {},
   "outputs": [],
   "source": [
    "#import sympy as sym"
   ]
  },
  {
   "cell_type": "code",
   "execution_count": 3,
   "metadata": {},
   "outputs": [],
   "source": [
    "import sympy as sp\n",
    "from sympy import *\n",
    "#sp.init_printing()\n",
    "#sp.var('a, x')\n",
    "#y = sp.Function('y')(x)\n",
    "#eq = sp.Eq( sp.diff(y, x),  -a*y )\n",
    "#sp.dsolve(eq)"
   ]
  },
  {
   "cell_type": "code",
   "execution_count": 12,
   "metadata": {},
   "outputs": [
    {
     "data": {
      "image/png": "[encoded data removed]",
      "text/latex": [
       "$\\displaystyle \\left( t, \\  ux, \\  uy, \\  uz, \\  gc, \\  \\Omega, \\  c\\right)$"
      ],
      "text/plain": [
       "(t, ux, uy, uz, gc, Ω, c)"
      ]
     },
     "execution_count": 12,
     "metadata": {},
     "output_type": "execute_result"
    }
   ],
   "source": [
    "sp.var('t, ux, uy, uz, gc, Omega, c')"
   ]
  },
  {
   "cell_type": "code",
   "execution_count": 13,
   "metadata": {},
   "outputs": [],
   "source": [
    "ux = sp.Function('ux')(t)\n",
    "uy = sp.Function('uy')(t)\n",
    "uz = sp.Function('uz')(t)\n",
    "gc = sp.Function('gc')(t)"
   ]
  },
  {
   "cell_type": "code",
   "execution_count": 14,
   "metadata": {},
   "outputs": [
    {
     "data": {
      "image/png": "[encoded data removed]",
      "text/latex": [
       "$\\displaystyle \\left( \\frac{d}{d t} \\operatorname{ux}{\\left(t \\right)} = \\Omega \\operatorname{uy}{\\left(t \\right)}, \\  \\frac{d}{d t} \\operatorname{uy}{\\left(t \\right)} = \\Omega \\left(\\operatorname{gc}{\\left(t \\right)} - \\operatorname{ux}{\\left(t \\right)}\\right), \\  \\frac{d}{d t} \\operatorname{uz}{\\left(t \\right)} = 0, \\  \\frac{d}{d t} \\operatorname{gc}{\\left(t \\right)} = \\Omega \\operatorname{uy}{\\left(t \\right)}\\right)$"
      ],
      "text/plain": [
       "⎛d                    d                              d              d         \n",
       "⎜──(ux(t)) = Ω⋅uy(t), ──(uy(t)) = Ω⋅(gc(t) - ux(t)), ──(uz(t)) = 0, ──(gc(t)) \n",
       "⎝dt                   dt                             dt             dt        \n",
       "\n",
       "         ⎞\n",
       "= Ω⋅uy(t)⎟\n",
       "         ⎠"
      ]
     },
     "execution_count": 14,
     "metadata": {},
     "output_type": "execute_result"
    }
   ],
   "source": [
    "eq1 = sp.Eq( sp.diff(ux, t), Omega* uy )\n",
    "eq2 = sp.Eq( sp.diff(uy, t), Omega*(gc-ux) )\n",
    "eq3 = sp.Eq( sp.diff(uz, t),    0 )\n",
    "eq4 = sp.Eq( sp.diff(gc, t),  Omega*uy )\n",
    "\n",
    "eq1,eq2,eq3,eq4"
   ]
  },
  {
   "cell_type": "code",
   "execution_count": 21,
   "metadata": {},
   "outputs": [
    {
     "data": {
      "image/png": "[encoded data removed]",
      "text/latex": [
       "$\\displaystyle \\left[ \\operatorname{ux}{\\left(t \\right)} = \\frac{\\Omega^{2} c t^{2}}{2}, \\  \\operatorname{uy}{\\left(t \\right)} = \\Omega c t, \\  \\operatorname{gc}{\\left(t \\right)} = \\frac{\\Omega^{2} c t^{2}}{2} + \\Omega^{2} c \\left(1 + \\frac{1}{\\Omega^{2}}\\right) - \\Omega^{2} c\\right]$"
      ],
      "text/plain": [
       "⎡         2    2                          2    2                       ⎤\n",
       "⎢        Ω ⋅c⋅t                          Ω ⋅c⋅t     2   ⎛    1 ⎞    2  ⎥\n",
       "⎢ux(t) = ───────, uy(t) = Ω⋅c⋅t, gc(t) = ─────── + Ω ⋅c⋅⎜1 + ──⎟ - Ω ⋅c⎥\n",
       "⎢           2                               2           ⎜     2⎟       ⎥\n",
       "⎣                                                       ⎝    Ω ⎠       ⎦"
      ]
     },
     "execution_count": 21,
     "metadata": {},
     "output_type": "execute_result"
    }
   ],
   "source": [
    "gcsubs=sp.dsolve([eq1, eq2, eq4], ics={ux.subs(t,0):0, uy.subs(t,0):0 ,gc.subs(t,0):c})\n",
    "sp.dsolve([eq1, eq2, eq4], ics={ux.subs(t,0):0, uy.subs(t,0):0 ,gc.subs(t,0):c})"
   ]
  },
  {
   "cell_type": "code",
   "execution_count": 22,
   "metadata": {},
   "outputs": [
    {
     "data": {
      "image/png": "[encoded data removed]",
      "text/latex": [
       "$\\displaystyle \\frac{d}{d t} r{\\left(t \\right)} = 0.5 \\Omega^{2} c t^{2}$"
      ],
      "text/plain": [
       "d               2    2\n",
       "──(r(t)) = 0.5⋅Ω ⋅c⋅t \n",
       "dt                    "
      ]
     },
     "metadata": {},
     "output_type": "display_data"
    },
    {
     "data": {
      "image/png": "[encoded data removed]",
      "text/latex": [
       "$\\displaystyle r{\\left(t \\right)} = \\frac{\\Omega^{2} c t^{3}}{6}$"
      ],
      "text/plain": [
       "        2    3\n",
       "       Ω ⋅c⋅t \n",
       "r(t) = ───────\n",
       "          6   "
      ]
     },
     "execution_count": 22,
     "metadata": {},
     "output_type": "execute_result"
    }
   ],
   "source": [
    "sp.var('r, omega')\n",
    "r = sp.Function('r')(t)\n",
    "eq5 = sp.Eq( sp.diff(r, t), Omega*Omega*c* t*t*0.5 )\n",
    "\n",
    "display(eq5)\n",
    "sp.dsolve(eq5 , ics={r.subs(t,0):0})"
   ]
  },
  {
   "cell_type": "code",
   "execution_count": 25,
   "metadata": {},
   "outputs": [
    {
     "data": {
      "image/png": "[encoded data removed]",
      "text/latex": [
       "$\\displaystyle \\left[ \\sqrt[3]{6} \\sqrt[3]{\\frac{1}{\\Omega^{2} \\omega}}, \\  - \\frac{\\sqrt[3]{6} \\sqrt[3]{\\frac{1}{\\Omega^{2} \\omega}}}{2} - \\frac{\\sqrt[3]{2} \\cdot 3^{\\frac{5}{6}} i \\sqrt[3]{\\frac{1}{\\Omega^{2} \\omega}}}{2}, \\  - \\frac{\\sqrt[3]{6} \\sqrt[3]{\\frac{1}{\\Omega^{2} \\omega}}}{2} + \\frac{\\sqrt[3]{2} \\cdot 3^{\\frac{5}{6}} i \\sqrt[3]{\\frac{1}{\\Omega^{2} \\omega}}}{2}\\right]$"
      ],
      "text/plain": [
       "⎡                                ______                     ______            \n",
       "⎢                     3 ___     ╱  1      3 ___  5/6       ╱  1       3 ___   \n",
       "⎢                     ╲╱ 6 ⋅   ╱  ────    ╲╱ 2 ⋅3   ⋅ⅈ⋅   ╱  ────     ╲╱ 6 ⋅  \n",
       "⎢           ______          3 ╱    2                   3 ╱    2             3 \n",
       "⎢3 ___     ╱  1             ╲╱    Ω ⋅ω                 ╲╱    Ω ⋅ω           ╲╱\n",
       "⎢╲╱ 6 ⋅   ╱  ──── , - ───────────────── - ────────────────────────, - ────────\n",
       "⎢      3 ╱    2               2                      2                        \n",
       "⎣      ╲╱    Ω ⋅ω                                                             \n",
       "\n",
       "   ______                     ______⎤\n",
       "  ╱  1      3 ___  5/6       ╱  1   ⎥\n",
       " ╱  ────    ╲╱ 2 ⋅3   ⋅ⅈ⋅   ╱  ──── ⎥\n",
       "╱    2                   3 ╱    2   ⎥\n",
       "    Ω ⋅ω                 ╲╱    Ω ⋅ω ⎥\n",
       "───────── + ────────────────────────⎥\n",
       "2                      2            ⎥\n",
       "                                    ⎦"
      ]
     },
     "metadata": {},
     "output_type": "display_data"
    },
    {
     "data": {
      "image/png": "[encoded data removed]",
      "text/latex": [
       "$\\displaystyle \\operatorname{gc}{\\left(\\sqrt[3]{6} \\sqrt[3]{\\frac{1}{\\Omega^{2} \\omega}} \\right)} = \\frac{c \\left(6^{\\frac{2}{3}} \\Omega^{2} \\left(\\frac{1}{\\Omega^{2} \\omega}\\right)^{\\frac{2}{3}} + 2\\right)}{2}$"
      ],
      "text/plain": [
       "                          ⎛              2/3    ⎞\n",
       "                          ⎜ 2/3  2 ⎛ 1  ⎞       ⎟\n",
       "                        c⋅⎜6   ⋅Ω ⋅⎜────⎟    + 2⎟\n",
       "  ⎛           ______⎞     ⎜        ⎜ 2  ⎟       ⎟\n",
       "  ⎜3 ___     ╱  1   ⎟     ⎝        ⎝Ω ⋅ω⎠       ⎠\n",
       "gc⎜╲╱ 6 ⋅   ╱  ──── ⎟ = ─────────────────────────\n",
       "  ⎜      3 ╱    2   ⎟               2            \n",
       "  ⎝      ╲╱    Ω ⋅ω ⎠                            "
      ]
     },
     "execution_count": 25,
     "metadata": {},
     "output_type": "execute_result"
    }
   ],
   "source": [
    "sp.var('omega')\n",
    "sp.var('alpha')\n",
    "\n",
    "Sol2=sp.solve (c/omega-Omega*Omega*c*t*t*t/6 , t)\n",
    "display(Sol2)\n",
    "\n",
    "\n",
    "simplify(gcsubs[2].subs(t,Sol2[0]))"
   ]
  },
  {
   "cell_type": "code",
   "execution_count": 26,
   "metadata": {},
   "outputs": [
    {
     "data": {
      "image/png": "[encoded data removed]",
      "text/latex": [
       "$\\displaystyle m$"
      ],
      "text/plain": [
       "m"
      ]
     },
     "execution_count": 26,
     "metadata": {},
     "output_type": "execute_result"
    }
   ],
   "source": [
    "sp.var('m')\n",
    "#eq6 = sp.Eq( mgcc, 0.5*m*Omega*Omega*c*c*t*t+m*c*c )\n",
    "\n",
    "#eq6 = collect(eq6, m*c*c)\n",
    "#eq6"
   ]
  },
  {
   "cell_type": "code",
   "execution_count": 27,
   "metadata": {},
   "outputs": [],
   "source": [
    "#gct = Omega*Omega*c* t*t*0.5  + c\n",
    "#gct.subs(t,Sol2)"
   ]
  },
  {
   "cell_type": "code",
   "execution_count": 28,
   "metadata": {},
   "outputs": [
    {
     "data": {
      "image/png": "[encoded data removed]",
      "text/latex": [
       "$\\displaystyle 9.827781578283355e-11$"
      ],
      "text/plain": [
       "9.827781578283355e-11"
      ]
     },
     "execution_count": 28,
     "metadata": {},
     "output_type": "execute_result"
    }
   ],
   "source": [
    "eg=1.7*10**(-24)*(9.0*10**(20))*(1.0+0.5*(6.0*5.0*10.0**(-10)*10.0**(6)/1.7/(10**(-24))/3/(10**(10))/200)**(2/3)) /6/(10**(11))\n",
    "#eg=10**(-13)\n",
    "eg=9.0*10**(-27)*(9.0*10**(20))*(1.0+0.5*(6.0*5.0*10.0**(-10)*10.0**(6)/9.0/(10**(-27))/3/(10**(10))/200)**(2/3)) /6/(10**(11))\n",
    "\n",
    "\n",
    "\n",
    "eg"
   ]
  },
  {
   "cell_type": "code",
   "execution_count": 37,
   "metadata": {},
   "outputs": [
    {
     "data": {
      "image/png": "[encoded data removed]",
      "text/latex": [
       "$\\displaystyle 2.7 \\cdot 10^{-16} \\left(\\operatorname{gc}{\\left(\\frac{\\sqrt[3]{300}}{100000000} \\right)} = 30000000000 + 1500000000000000 \\sqrt[3]{90}\\right)$"
      ],
      "text/plain": [
       "        ⎛  ⎛ 3 _____ ⎞                                        ⎞\n",
       "        ⎜  ⎜ ╲╱ 300  ⎟                                  3 ____⎟\n",
       "2.7e-16⋅⎜gc⎜─────────⎟ = 30000000000 + 1500000000000000⋅╲╱ 90 ⎟\n",
       "        ⎝  ⎝100000000⎠                                        ⎠"
      ]
     },
     "execution_count": 37,
     "metadata": {},
     "output_type": "execute_result"
    }
   ],
   "source": [
    "alpha=simplify(gcsubs[2].subs(t,Sol2[0]))\n",
    "alpha=simplify(alpha.subs([(c,3*10**10), (m,1.7*10**(-24)), (omega, 200), (Omega,10**4 * 10**6)]))\n",
    "alpha * 3*10**10 * 1.7*10**(-24)\n",
    "\n",
    "\n",
    "alpha=simplify(alpha.subs([(c,3*10**10), (m,9*10**(-27)), (omega, 200), (Omega,2*10**7 * 10**6)]))\n",
    "alpha * 3*10**10 * 9*10**(-27)\n",
    "1500000000000000"
   ]
  },
  {
   "cell_type": "code",
   "execution_count": 1,
   "metadata": {},
   "outputs": [
    {
     "ename": "SyntaxError",
     "evalue": "invalid syntax (<ipython-input-1-2645ad4ee8ef>, line 1)",
     "output_type": "error",
     "traceback": [
      "\u001b[0;36m  File \u001b[0;32m\"<ipython-input-1-2645ad4ee8ef>\"\u001b[0;36m, line \u001b[0;32m1\u001b[0m\n\u001b[0;31m    300 erg (proton)\u001b[0m\n\u001b[0m          ^\u001b[0m\n\u001b[0;31mSyntaxError\u001b[0m\u001b[0;31m:\u001b[0m invalid syntax\n"
     ]
    }
   ],
   "source": [
    "300 erg (proton)\n",
    "1 erg (erectoron)"
   ]
  },
  {
   "cell_type": "code",
   "execution_count": null,
   "metadata": {},
   "outputs": [],
   "source": []
  },
  {
   "cell_type": "code",
   "execution_count": 4,
   "metadata": {},
   "outputs": [
    {
     "data": {
      "text/plain": [
       "(r, Phi, r0, coeff)"
      ]
     },
     "execution_count": 4,
     "metadata": {},
     "output_type": "execute_result"
    }
   ],
   "source": [
    "sp.var('r, Phi, r0, coeff')"
   ]
  },
  {
   "cell_type": "code",
   "execution_count": 6,
   "metadata": {},
   "outputs": [
    {
     "data": {
      "text/latex": [
       "$\\displaystyle \\frac{d^{2}}{d r^{2}} \\Phi{\\left(r \\right)} + \\frac{2.0 \\frac{d}{d r} \\Phi{\\left(r \\right)}}{r} = coeff e^{- \\frac{r^{2}}{r_{0}^{2}}}$"
      ],
      "text/plain": [
       "Eq(Derivative(Phi(r), (r, 2)) + 2.0*Derivative(Phi(r), r)/r, coeff*exp(-r**2/r0**2))"
      ]
     },
     "metadata": {},
     "output_type": "display_data"
    }
   ],
   "source": [
    "Phi = sp.Function('Phi')(r)\n",
    "\n",
    "eq8 = sp.Eq( sp.diff(Phi,r,2)+2.0 / r * sp.diff(Phi,r,1), coeff* sp.exp(-r*r/r0/r0))\n",
    "\n",
    "display(eq8)\n"
   ]
  },
  {
   "cell_type": "code",
   "execution_count": 7,
   "metadata": {},
   "outputs": [
    {
     "ename": "ValueError",
     "evalue": "Couldn't solve for initial conditions",
     "output_type": "error",
     "traceback": [
      "\u001b[0;31m---------------------------------------------------------------------------\u001b[0m",
      "\u001b[0;31mValueError\u001b[0m                                Traceback (most recent call last)",
      "\u001b[0;32m<ipython-input-7-6678d6ac2f4b>\u001b[0m in \u001b[0;36m<module>\u001b[0;34m\u001b[0m\n\u001b[0;32m----> 1\u001b[0;31m \u001b[0msp\u001b[0m\u001b[0;34m.\u001b[0m\u001b[0mdsolve\u001b[0m\u001b[0;34m(\u001b[0m\u001b[0meq8\u001b[0m \u001b[0;34m,\u001b[0m \u001b[0mics\u001b[0m\u001b[0;34m=\u001b[0m\u001b[0;34m{\u001b[0m\u001b[0mPhi\u001b[0m\u001b[0;34m.\u001b[0m\u001b[0msubs\u001b[0m\u001b[0;34m(\u001b[0m\u001b[0mr\u001b[0m\u001b[0;34m,\u001b[0m\u001b[0;36m0\u001b[0m\u001b[0;34m)\u001b[0m\u001b[0;34m:\u001b[0m\u001b[0;36m0\u001b[0m\u001b[0;34m}\u001b[0m\u001b[0;34m)\u001b[0m\u001b[0;34m\u001b[0m\u001b[0;34m\u001b[0m\u001b[0m\n\u001b[0m\u001b[1;32m      2\u001b[0m \u001b[0;34m\u001b[0m\u001b[0m\n",
      "\u001b[0;32m~/.pyenv/versions/anaconda3-2019.10/lib/python3.7/site-packages/sympy/solvers/ode.py\u001b[0m in \u001b[0;36mdsolve\u001b[0;34m(eq, func, hint, simplify, ics, xi, eta, x0, n, **kwargs)\u001b[0m\n\u001b[1;32m    673\u001b[0m             \u001b[0;31m# The key 'hint' stores the hint needed to be solved for.\u001b[0m\u001b[0;34m\u001b[0m\u001b[0;34m\u001b[0m\u001b[0;34m\u001b[0m\u001b[0m\n\u001b[1;32m    674\u001b[0m             \u001b[0mhint\u001b[0m \u001b[0;34m=\u001b[0m \u001b[0mhints\u001b[0m\u001b[0;34m[\u001b[0m\u001b[0;34m'hint'\u001b[0m\u001b[0;34m]\u001b[0m\u001b[0;34m\u001b[0m\u001b[0;34m\u001b[0m\u001b[0m\n\u001b[0;32m--> 675\u001b[0;31m             \u001b[0;32mreturn\u001b[0m \u001b[0m_helper_simplify\u001b[0m\u001b[0;34m(\u001b[0m\u001b[0meq\u001b[0m\u001b[0;34m,\u001b[0m \u001b[0mhint\u001b[0m\u001b[0;34m,\u001b[0m \u001b[0mhints\u001b[0m\u001b[0;34m,\u001b[0m \u001b[0msimplify\u001b[0m\u001b[0;34m,\u001b[0m \u001b[0mics\u001b[0m\u001b[0;34m=\u001b[0m\u001b[0mics\u001b[0m\u001b[0;34m)\u001b[0m\u001b[0;34m\u001b[0m\u001b[0;34m\u001b[0m\u001b[0m\n\u001b[0m\u001b[1;32m    676\u001b[0m \u001b[0;34m\u001b[0m\u001b[0m\n\u001b[1;32m    677\u001b[0m \u001b[0;32mdef\u001b[0m \u001b[0m_helper_simplify\u001b[0m\u001b[0;34m(\u001b[0m\u001b[0meq\u001b[0m\u001b[0;34m,\u001b[0m \u001b[0mhint\u001b[0m\u001b[0;34m,\u001b[0m \u001b[0mmatch\u001b[0m\u001b[0;34m,\u001b[0m \u001b[0msimplify\u001b[0m\u001b[0;34m=\u001b[0m\u001b[0;32mTrue\u001b[0m\u001b[0;34m,\u001b[0m \u001b[0mics\u001b[0m\u001b[0;34m=\u001b[0m\u001b[0;32mNone\u001b[0m\u001b[0;34m,\u001b[0m \u001b[0;34m**\u001b[0m\u001b[0mkwargs\u001b[0m\u001b[0;34m)\u001b[0m\u001b[0;34m:\u001b[0m\u001b[0;34m\u001b[0m\u001b[0;34m\u001b[0m\u001b[0m\n",
      "\u001b[0;32m~/.pyenv/versions/anaconda3-2019.10/lib/python3.7/site-packages/sympy/solvers/ode.py\u001b[0m in \u001b[0;36m_helper_simplify\u001b[0;34m(eq, hint, match, simplify, ics, **kwargs)\u001b[0m\n\u001b[1;32m    710\u001b[0m     \u001b[0;32mif\u001b[0m \u001b[0mics\u001b[0m \u001b[0;32mand\u001b[0m \u001b[0;32mnot\u001b[0m \u001b[0;34m'power_series'\u001b[0m \u001b[0;32min\u001b[0m \u001b[0mhint\u001b[0m\u001b[0;34m:\u001b[0m\u001b[0;34m\u001b[0m\u001b[0;34m\u001b[0m\u001b[0m\n\u001b[1;32m    711\u001b[0m         \u001b[0;32mif\u001b[0m \u001b[0misinstance\u001b[0m\u001b[0;34m(\u001b[0m\u001b[0mrv\u001b[0m\u001b[0;34m,\u001b[0m \u001b[0mExpr\u001b[0m\u001b[0;34m)\u001b[0m\u001b[0;34m:\u001b[0m\u001b[0;34m\u001b[0m\u001b[0;34m\u001b[0m\u001b[0m\n\u001b[0;32m--> 712\u001b[0;31m             \u001b[0msolved_constants\u001b[0m \u001b[0;34m=\u001b[0m \u001b[0msolve_ics\u001b[0m\u001b[0;34m(\u001b[0m\u001b[0;34m[\u001b[0m\u001b[0mrv\u001b[0m\u001b[0;34m]\u001b[0m\u001b[0;34m,\u001b[0m \u001b[0;34m[\u001b[0m\u001b[0mr\u001b[0m\u001b[0;34m[\u001b[0m\u001b[0;34m'func'\u001b[0m\u001b[0;34m]\u001b[0m\u001b[0;34m]\u001b[0m\u001b[0;34m,\u001b[0m \u001b[0mcons\u001b[0m\u001b[0;34m(\u001b[0m\u001b[0mrv\u001b[0m\u001b[0;34m)\u001b[0m\u001b[0;34m,\u001b[0m \u001b[0mics\u001b[0m\u001b[0;34m)\u001b[0m\u001b[0;34m\u001b[0m\u001b[0;34m\u001b[0m\u001b[0m\n\u001b[0m\u001b[1;32m    713\u001b[0m             \u001b[0mrv\u001b[0m \u001b[0;34m=\u001b[0m \u001b[0mrv\u001b[0m\u001b[0;34m.\u001b[0m\u001b[0msubs\u001b[0m\u001b[0;34m(\u001b[0m\u001b[0msolved_constants\u001b[0m\u001b[0;34m)\u001b[0m\u001b[0;34m\u001b[0m\u001b[0;34m\u001b[0m\u001b[0m\n\u001b[1;32m    714\u001b[0m         \u001b[0;32melse\u001b[0m\u001b[0;34m:\u001b[0m\u001b[0;34m\u001b[0m\u001b[0;34m\u001b[0m\u001b[0m\n",
      "\u001b[0;32m~/.pyenv/versions/anaconda3-2019.10/lib/python3.7/site-packages/sympy/solvers/ode.py\u001b[0m in \u001b[0;36msolve_ics\u001b[0;34m(sols, funcs, constants, ics)\u001b[0m\n\u001b[1;32m    818\u001b[0m     \u001b[0;31m# we use NotImplementedError in this case.\u001b[0m\u001b[0;34m\u001b[0m\u001b[0;34m\u001b[0m\u001b[0;34m\u001b[0m\u001b[0m\n\u001b[1;32m    819\u001b[0m     \u001b[0;32mif\u001b[0m \u001b[0;32mnot\u001b[0m \u001b[0msolved_constants\u001b[0m\u001b[0;34m:\u001b[0m\u001b[0;34m\u001b[0m\u001b[0;34m\u001b[0m\u001b[0m\n\u001b[0;32m--> 820\u001b[0;31m         \u001b[0;32mraise\u001b[0m \u001b[0mValueError\u001b[0m\u001b[0;34m(\u001b[0m\u001b[0;34m\"Couldn't solve for initial conditions\"\u001b[0m\u001b[0;34m)\u001b[0m\u001b[0;34m\u001b[0m\u001b[0;34m\u001b[0m\u001b[0m\n\u001b[0m\u001b[1;32m    821\u001b[0m \u001b[0;34m\u001b[0m\u001b[0m\n\u001b[1;32m    822\u001b[0m     \u001b[0;32mif\u001b[0m \u001b[0msolved_constants\u001b[0m \u001b[0;34m==\u001b[0m \u001b[0;32mTrue\u001b[0m\u001b[0;34m:\u001b[0m\u001b[0;34m\u001b[0m\u001b[0;34m\u001b[0m\u001b[0m\n",
      "\u001b[0;31mValueError\u001b[0m: Couldn't solve for initial conditions"
     ]
    }
   ],
   "source": [
    "sp.dsolve(eq8 , ics={Phi.subs(r,0):0})\n"
   ]
  },
  {
   "cell_type": "code",
   "execution_count": null,
   "metadata": {},
   "outputs": [],
   "source": []
  }
 ],
 "metadata": {
  "kernelspec": {
   "display_name": "Python 3",
   "language": "python",
   "name": "python3"
  },
  "language_info": {
   "codemirror_mode": {
    "name": "ipython",
    "version": 3
   },
   "file_extension": ".py",
   "mimetype": "text/x-python",
   "name": "python",
   "nbconvert_exporter": "python",
   "pygments_lexer": "ipython3",
   "version": "3.7.4"
  }
 },
 "nbformat": 4,
 "nbformat_minor": 2
}
