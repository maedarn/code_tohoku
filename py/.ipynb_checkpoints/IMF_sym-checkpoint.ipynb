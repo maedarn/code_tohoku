{
 "cells": [
  {
   "cell_type": "code",
   "execution_count": 58,
   "metadata": {},
   "outputs": [],
   "source": [
    "#参考 : https://qiita.com/ceptree/items/3668ca52f8621b13bbc2\n",
    "#         https://home.hirosaki-u.ac.jp/jupyter/sympy/\n",
    "#         https://docs.sympy.org/latest/modules/plotting.html\n",
    "import sympy\n",
    "from IPython.display import Math\n",
    "from IPython.display import display\n",
    "from sympy.codegen.cfunctions import log10\n",
    "\n",
    "# おまじない\n",
    "sympy.init_printing()"
   ]
  },
  {
   "cell_type": "code",
   "execution_count": 172,
   "metadata": {},
   "outputs": [
    {
     "data": {
      "image/png": "[encoded data removed]",
      "text/latex": [
       "$\\displaystyle 0.158 e^{- 1.0501995379122 \\operatorname{log_{10}}^{2}{\\left(12.6582278481013 m \\right)}}$"
      ],
      "text/plain": [
       "                             2                    \n",
       "       -1.0501995379122⋅log₁₀ (12.6582278481013⋅m)\n",
       "0.158⋅ℯ                                           "
      ]
     },
     "metadata": {},
     "output_type": "display_data"
    },
    {
     "data": {
      "image/png": "[encoded data removed]",
      "text/latex": [
       "$\\displaystyle \\frac{0.0433}{m^{1.3}}$"
      ],
      "text/plain": [
       "        -1.3\n",
       "0.0433⋅m    "
      ]
     },
     "metadata": {},
     "output_type": "display_data"
    },
    {
     "data": {
      "image/png": "[encoded data removed]",
      "text/latex": [
       "$\\displaystyle \\operatorname{log_{10}}{\\left(e \\right)}$"
      ],
      "text/plain": [
       "log₁₀(ℯ)"
      ]
     },
     "metadata": {},
     "output_type": "display_data"
    }
   ],
   "source": [
    "#Chabrier 2003\n",
    "m=sympy.Symbol(\"m\")\n",
    "lgm=sympy.Symbol(\"lgm\")\n",
    "N1=sympy.Symbol(\"N1\")\n",
    "N2=sympy.Symbol(\"N2\")\n",
    "\n",
    "N1= 0.158 * sympy. exp (-(log10(m/0.079))**2 /2/0.69**2)\n",
    "N2=  0.0433 * m**(-1.3)\n",
    "#N2= 0.0433 * (10 ** log10(m))**(-1.3)\n",
    "\n",
    "e = sympy.E\n",
    "display(N1,N2,log10(e))"
   ]
  },
  {
   "cell_type": "code",
   "execution_count": 176,
   "metadata": {},
   "outputs": [
    {
     "data": {
      "image/png": "[encoded data removed]",
      "text/plain": [
       "<Figure size 432x288 with 1 Axes>"
      ]
     },
     "metadata": {
      "needs_background": "light"
     },
     "output_type": "display_data"
    }
   ],
   "source": [
    "e = sympy.E\n",
    "\n",
    "p1 = sympy.plot(N1, (m, 0.1*log10(e), 1*log10(e)),xscale='log', yscale='log', show=False)\n",
    "p2 = sympy.plot(N2, (m, 1*log10(e), 100 * log10(e)),xscale='log',yscale='log', show=False)#,xscale='log', yscale='log')#,xlim=[1,100],ylim=[0.00001,10])#, show=False)\n",
    "#p1 = sympy.plot(N1, (m, 0.1, 1),xscale='log', yscale='log',xlim=[0.1,1])#, show=False)\n",
    "#p2 = sympy.plot(N2, (m, 0.1, 100),xlim=[0.1,100],xscale='log',yscale='log')#,xscale='log', yscale='log')#,xlim=[1,100],ylim=[0.00001,10])#, show=False)\n",
    "p1.append(p2[0])\n",
    "p1.show()"
   ]
  },
  {
   "cell_type": "code",
   "execution_count": null,
   "metadata": {},
   "outputs": [],
   "source": []
  }
 ],
 "metadata": {
  "kernelspec": {
   "display_name": "Python 3",
   "language": "python",
   "name": "python3"
  },
  "language_info": {
   "codemirror_mode": {
    "name": "ipython",
    "version": 3
   },
   "file_extension": ".py",
   "mimetype": "text/x-python",
   "name": "python",
   "nbconvert_exporter": "python",
   "pygments_lexer": "ipython3",
   "version": "3.7.4"
  }
 },
 "nbformat": 4,
 "nbformat_minor": 2
}
