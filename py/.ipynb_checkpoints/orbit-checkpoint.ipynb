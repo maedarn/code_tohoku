{
 "cells": [
  {
   "cell_type": "code",
   "execution_count": 70,
   "metadata": {},
   "outputs": [],
   "source": [
    "# coding: UTF-8\n",
    "from PIL import Image\n",
    "import numpy as np\n",
    "import matplotlib.pyplot as plt\n",
    "import h5py\n",
    "import csv\n",
    "import math\n",
    "import pandas as pd\n",
    "from matplotlib.backends.backend_pdf import PdfPages\n",
    "import matplotlib.animation as animation\n",
    "from matplotlib.animation import ArtistAnimation\n",
    "from sympy import *\n",
    "from sympy.codegen.cfunctions import log10\n",
    "    \n",
    "dir='/Users/maeda/Desktop/Dropbox/analysis/test-feedback/test-runge4/'\n",
    "\n",
    "i=1\n",
    "ist=1\n",
    "nloop=10\n",
    "nx=128\n",
    "ny=128\n",
    "nz=128\n",
    "nstar=5000"
   ]
  },
  {
   "cell_type": "code",
   "execution_count": 71,
   "metadata": {},
   "outputs": [],
   "source": [
    "h5file1 = h5py.File(dir+'NAllHDF'+\"%03.f\"%(i)+'.h5',\"r\")\n",
    "\n",
    "folder1=\"RHO\"  #+ str(np.int(sample_frequency)) \n",
    "folder2=\"PHI\"  #+ str(np.int(sample_frequency)) \n",
    "    \n",
    "#データ読み込み\n",
    "Rho  = h5file1[folder1+\"/RHO\"].value \n",
    "Phi = h5file1[folder2+\"/PHI\"].value "
   ]
  },
  {
   "cell_type": "code",
   "execution_count": 97,
   "metadata": {},
   "outputs": [
    {
     "data": {
      "text/plain": [
       "[0.5,\n",
       " 0.484181851,\n",
       " 0.714738309,\n",
       " 0.920793772,\n",
       " 0.09871174395,\n",
       " 0.292384952,\n",
       " 0.486487091,\n",
       " 0.683410943,\n",
       " 0.879979491,\n",
       " 0.05982946232]"
      ]
     },
     "execution_count": 97,
     "metadata": {},
     "output_type": "execute_result"
    }
   ],
   "source": [
    "\n",
    "dt01 = [0] * nloop\n",
    "dt02 = [0] * nloop\n",
    "dt03 = [0] * nloop\n",
    "dt04 = [0] * nloop\n",
    "dt05 = [0] * nloop\n",
    "dt06 = [0] * nloop\n",
    "dt07 = [0] * nloop\n",
    "dt08 = [0] * nloop\n",
    "dt09 = [0] * nloop\n",
    "dt10 = [0] * nloop\n",
    "dt11 = [0] * nloop\n",
    "dt12 = [0] * nloop\n",
    "dt13 = [0] * nloop\n",
    "dt14 = [0] * nloop\n",
    "dt15 = [0] * nloop\n",
    "dt16 = [0] * nloop\n",
    "dt17 = [0] * nloop\n",
    "dt18 = [0] * nloop\n",
    "\n",
    "\n",
    "\n",
    "for ii in range(1,nloop+1):\n",
    "    #dt01[ii],dt02[ii],dt03[ii],dt04[ii],dt05[ii],dt06[ii],dt07[ii],dt08[ii],dt09[ii],dt10[ii],dt11[ii],dt12[ii],dt13[ii],dt14[ii],dt15[ii],dt16[ii],dt17[ii],dt18[ii] = np.loadtxt(dir+'ST'+\"%03.f\"%(ii)+\"%03.f\"%(ist)+'.dat' , dtype='float32', delimiter=',' )#, usecols=0)#, unpack=True)#comments=\"#\"\n",
    "\n",
    "    #dt01[ii],dt02[ii],dt03[ii],dt04[ii],dt05[ii],dt06[ii],dt07[ii],dt08[ii],dt09[ii],dt10[ii],dt11[ii],dt12[ii] = np.loadtxt(dir+'ST'+\"%03.f\"%(ii)+\"%03.f\"%(ist)+'.dat' , converters=None, dtype='float32', delimiter=',' ,usecols=[0,1, 2, 3, 4,5,6,7,8,9,10,11])#, usecols=0)#, unpack=True)#comments=\"#\"\n",
    "\n",
    "    #dt01,dt02,dt03,dt04,dt05,dt06,dt07,dt08,dt09,dt10,dt11,dt12 = np.loadtxt(dir+'ST'+\"%03.f\"%(ii)+\"%03.f\"%(ist)+'.dat' , converters=None, dtype='float32', delimiter=',' ,usecols=[0,1, 2, 3, 4,5,6,7,8,9,10,11])#, usecols=0)#, unpack=True)#comments=\"#\"\n",
    "\n",
    "    edata= np.loadtxt(dir+'ST'+\"%03.f\"%(ii)+\"%03.f\"%(ist)+'.dat' , delimiter=',' )#, usecols=0)#, unpack=True)#comments=\"#\"\n",
    "    dt01[ii-1]=edata[0,0]\n",
    "    dt02[ii-1]=edata[0,1]\n",
    "    dt03[ii-1]=edata[0,2]\n",
    "\n",
    "#edata,edata[0,1]\n",
    "dt01\n",
    "    "
   ]
  },
  {
   "cell_type": "code",
   "execution_count": 98,
   "metadata": {},
   "outputs": [
    {
     "data": {
      "image/png": "[encoded data removed]",
      "text/plain": [
       "<Figure size 432x288 with 2 Axes>"
      ]
     },
     "metadata": {
      "needs_background": "light"
     },
     "output_type": "display_data"
    }
   ],
   "source": [
    "data01=Rho[:,:,64]\n",
    "data02=Phi[64,:,:]#Phi[:,:,64]\n",
    "\n",
    "fig = plt.figure()\n",
    "ax = fig.add_subplot(111)\n",
    "#fig.subplots_adjust(bottom=0, left=0, top=1, right=1)\n",
    "\n",
    "plt.rcParams[\"font.family\"] = \"Times New Roman\"      #全体のフォントを設定\n",
    "plt.rcParams[\"xtick.direction\"] = \"in\"               #x軸の目盛線が内向き('in')か外向き('out')か双方向か('inout')\n",
    "plt.rcParams[\"ytick.direction\"] = \"in\"               #y軸の目盛線が内向き('in')か外向き('out')か双方向か('inout')\n",
    "#plt.rcParams[\"xtick.minor.visible\"] = True          #x軸補助目盛りの追加\n",
    "#plt.rcParams[\"ytick.minor.visible\"] = True          #y軸補助目盛りの追加\n",
    "#plt.rcParams[\"xtick.major.width\"] = 1.5              #x軸主目盛り線の線幅\n",
    "#plt.rcParams[\"ytick.major.width\"] = 1.5              #y軸主目盛り線の線幅\n",
    "#plt.rcParams[\"xtick.minor.width\"] = 1.0              #x軸補助目盛り線の線幅\n",
    "#plt.rcParams[\"ytick.minor.width\"] = 1.0              #y軸補助目盛り線の線幅\n",
    "plt.rcParams[\"xtick.major.size\"] = 5                #x軸主目盛り線の長さ\n",
    "plt.rcParams[\"ytick.major.size\"] = 5                #y軸主目盛り線の長さ\n",
    "#plt.rcParams[\"xtick.minor.size\"] = 5                #x軸補助目盛り線の長さ\n",
    "#plt.rcParams[\"ytick.minor.size\"] = 5                #y軸補助目盛り線の長さ\n",
    "plt.rcParams[\"font.size\"] = 20                       #フォントの大きさ\n",
    "#plt.rcParams[\"axes.linewidth\"] = 1.5                 #囲みの太さ\n",
    "\n",
    "\n",
    "x = np.arange(0.0, 1.001, 1.0/128.0)\n",
    "y = np.arange(0.0, 1.001, 1.0/128.0)\n",
    "\n",
    "plt.pcolormesh(x,y,data02, cmap='jet') # 等高線図の生成。cmapで色付けの規則を指定する。\n",
    "\n",
    "\n",
    "#plt.clim(-5.0, 1200.0)\n",
    "pp=plt.colorbar (orientation=\"vertical\") # カラーバーの表示 \"vertical\"\n",
    "pp.set_label(\"$\\Phi$\", fontsize=24) #カラーバーのラベル\n",
    "plt.xlim([-0.0, 1.0]) # x方向の描画範囲を指定\n",
    "plt.ylim([-0.0, 1.0]) # y方向の描画範囲を指定\n",
    "plt.xlabel('X', fontsize=24)\n",
    "plt.ylabel('Y', fontsize=24)\n",
    "plt.xticks(np.arange(0.0, 1.001, step=20))\n",
    "plt.yticks(np.arange(0.0, 1.001, step=20))\n",
    "#fig = plt.figure(figsize=(5, 5))\n",
    "#ax.set_aspect('equal', adjustable='box')\n",
    "#quadmesh.set_clim(vmin=0, vmax=15)\n",
    "#plt.axes().set_aspect('equal', 'datalim')\n",
    "plt.gca().set_aspect('equal')\n",
    "\n",
    "plt.plot(dt02,dt03,color='blue', linewidth = 1) \n",
    "\n",
    "#pp = PdfPages('/Users/maeda/Desktop/phi'+\"%03.f\"%(i)+'.pdf')\n",
    "pp = PdfPages('/Users/maeda/Desktop/phiexa.pdf')\n",
    "# 画像をPDFとして保存する\n",
    "pp.savefig(fig, bbox_inches='tight')\n",
    "# PDFの保存終了\n",
    "pp.close()\n",
    "\n",
    "\n",
    "plt.show()"
   ]
  },
  {
   "cell_type": "code",
   "execution_count": null,
   "metadata": {},
   "outputs": [],
   "source": []
  }
 ],
 "metadata": {
  "kernelspec": {
   "display_name": "Python 3",
   "language": "python",
   "name": "python3"
  },
  "language_info": {
   "codemirror_mode": {
    "name": "ipython",
    "version": 3
   },
   "file_extension": ".py",
   "mimetype": "text/x-python",
   "name": "python",
   "nbconvert_exporter": "python",
   "pygments_lexer": "ipython3",
   "version": "3.7.4"
  }
 },
 "nbformat": 4,
 "nbformat_minor": 2
}
