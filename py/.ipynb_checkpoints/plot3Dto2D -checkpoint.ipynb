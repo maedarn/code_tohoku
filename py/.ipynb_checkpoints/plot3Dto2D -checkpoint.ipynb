{
 "cells": [
  {
   "cell_type": "code",
   "execution_count": 2,
   "metadata": {},
   "outputs": [],
   "source": [
    "from PIL import Image\n",
    "import numpy as np\n",
    "import matplotlib.pyplot as plt\n",
    "import h5py\n",
    "import csv\n",
    "import math\n",
    "import pandas as pd\n",
    "from matplotlib.backends.backend_pdf import PdfPages\n",
    "import matplotlib.animation as animation\n",
    "from matplotlib.animation import ArtistAnimation"
   ]
  },
  {
   "cell_type": "code",
   "execution_count": 27,
   "metadata": {},
   "outputs": [
    {
     "name": "stderr",
     "output_type": "stream",
     "text": [
      "/Users/maeda/.pyenv/versions/anaconda3-2019.10/lib/python3.7/site-packages/h5py/_hl/dataset.py:313: H5pyDeprecationWarning: dataset.value has been deprecated. Use dataset[()] instead.\n",
      "  \"Use dataset[()] instead.\", H5pyDeprecationWarning)\n"
     ]
    },
    {
     "data": {
      "image/png": "[encoded data removed]",
      "text/plain": [
       "<Figure size 432x288 with 2 Axes>"
      ]
     },
     "metadata": {
      "needs_background": "light"
     },
     "output_type": "display_data"
    }
   ],
   "source": [
    "i = 3\n",
    "dir1  = '/Users/maeda/Desktop/Dropbox/analysis/telegraph-test-3D-shusoku/telegraph-128-2000st-T20-cg1-L100-3pwe-4thcd/'\n",
    "\n",
    "folder1=\"Phiwv\"  #+ str(np.int(sample_frequency)) \n",
    "folder2=\"Phiexa\"  #+ str(np.int(sample_frequency)) \n",
    "\n",
    "h5file1 = h5py.File(dir1+'NAllHDF'+\"%03.f\"%(i)+'.h5',\"r\")\n",
    "\n",
    "#データ読み込み\n",
    "Phiwv1to1  = h5file1[folder1+\"/Phiwv1\"].value \n",
    "Phiexa1 = h5file1[folder2+\"/Phiexa\"].value \n",
    "\n",
    "data01=Phiwv1to1[:,:,64]\n",
    "data02=Phiexa1[:,:,64]\n",
    "\n",
    "fig = plt.figure()\n",
    "ax = fig.add_subplot(111)\n",
    "#fig.subplots_adjust(bottom=0, left=0, top=1, right=1)\n",
    "\n",
    "plt.rcParams[\"font.family\"] = \"Times New Roman\"      #全体のフォントを設定\n",
    "plt.rcParams[\"xtick.direction\"] = \"in\"               #x軸の目盛線が内向き('in')か外向き('out')か双方向か('inout')\n",
    "plt.rcParams[\"ytick.direction\"] = \"in\"               #y軸の目盛線が内向き('in')か外向き('out')か双方向か('inout')\n",
    "#plt.rcParams[\"xtick.minor.visible\"] = True          #x軸補助目盛りの追加\n",
    "#plt.rcParams[\"ytick.minor.visible\"] = True          #y軸補助目盛りの追加\n",
    "#plt.rcParams[\"xtick.major.width\"] = 1.5              #x軸主目盛り線の線幅\n",
    "#plt.rcParams[\"ytick.major.width\"] = 1.5              #y軸主目盛り線の線幅\n",
    "#plt.rcParams[\"xtick.minor.width\"] = 1.0              #x軸補助目盛り線の線幅\n",
    "#plt.rcParams[\"ytick.minor.width\"] = 1.0              #y軸補助目盛り線の線幅\n",
    "plt.rcParams[\"xtick.major.size\"] = 5                #x軸主目盛り線の長さ\n",
    "plt.rcParams[\"ytick.major.size\"] = 5                #y軸主目盛り線の長さ\n",
    "#plt.rcParams[\"xtick.minor.size\"] = 5                #x軸補助目盛り線の長さ\n",
    "#plt.rcParams[\"ytick.minor.size\"] = 5                #y軸補助目盛り線の長さ\n",
    "plt.rcParams[\"font.size\"] = 20                       #フォントの大きさ\n",
    "#plt.rcParams[\"axes.linewidth\"] = 1.5                 #囲みの太さ\n",
    "\n",
    "\n",
    "x = np.arange(0.0, 100.1, 100.0/128.0)\n",
    "y = np.arange(0.0, 100.1, 100.0/128.0)\n",
    "plt.pcolormesh(x,y,data02, cmap='jet') # 等高線図の生成。cmapで色付けの規則を指定する。\n",
    "\n",
    "\n",
    "plt.clim(-0.0, 6.0)\n",
    "pp=plt.colorbar (orientation=\"vertical\") # カラーバーの表示 \"vertical\"\n",
    "pp.set_label(\"$\\Phi$\", fontsize=24) #カラーバーのラベル\n",
    "plt.xlim([-0.0, 100.0]) # x方向の描画範囲を指定\n",
    "plt.ylim([-0.0, 100.0]) # y方向の描画範囲を指定\n",
    "plt.xlabel('X', fontsize=24)\n",
    "plt.ylabel('Y', fontsize=24)\n",
    "plt.xticks(np.arange(0, 101, step=20))\n",
    "plt.yticks(np.arange(0, 101, step=20))\n",
    "#fig = plt.figure(figsize=(5, 5))\n",
    "#ax.set_aspect('equal', adjustable='box')\n",
    "#quadmesh.set_clim(vmin=0, vmax=15)\n",
    "#plt.axes().set_aspect('equal', 'datalim')\n",
    "plt.gca().set_aspect('equal')\n",
    "\n",
    "#pp = PdfPages('/Users/maeda/Desktop/phi'+\"%03.f\"%(i)+'.pdf')\n",
    "pp = PdfPages('/Users/maeda/Desktop/phiexa.pdf')\n",
    "# 画像をPDFとして保存する\n",
    "pp.savefig(fig, bbox_inches='tight')\n",
    "# PDFの保存終了\n",
    "pp.close()\n",
    "\n",
    "\n",
    "plt.show()"
   ]
  },
  {
   "cell_type": "code",
   "execution_count": null,
   "metadata": {},
   "outputs": [],
   "source": []
  }
 ],
 "metadata": {
  "kernelspec": {
   "display_name": "Python 3",
   "language": "python",
   "name": "python3"
  },
  "language_info": {
   "codemirror_mode": {
    "name": "ipython",
    "version": 3
   },
   "file_extension": ".py",
   "mimetype": "text/x-python",
   "name": "python",
   "nbconvert_exporter": "python",
   "pygments_lexer": "ipython3",
   "version": "3.7.4"
  }
 },
 "nbformat": 4,
 "nbformat_minor": 2
}
