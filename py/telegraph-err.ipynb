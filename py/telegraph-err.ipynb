{
 "cells": [
  {
   "cell_type": "code",
   "execution_count": 15,
   "metadata": {},
   "outputs": [],
   "source": [
    "# coding: UTF-8\n",
    "from PIL import Image\n",
    "import numpy as np\n",
    "import matplotlib.pyplot as plt\n",
    "import h5py\n",
    "import csv\n",
    "import math\n",
    "import pandas as pd\n",
    "from matplotlib.backends.backend_pdf import PdfPages\n",
    "import matplotlib.animation as animation\n",
    "from matplotlib.animation import ArtistAnimation\n",
    "\n",
    "nx=32+4\n",
    "ny=32+4\n",
    "nd=19\n",
    "nloop=200+1\n",
    "step=1"
   ]
  },
  {
   "cell_type": "code",
   "execution_count": 16,
   "metadata": {},
   "outputs": [
    {
     "name": "stdout",
     "output_type": "stream",
     "text": [
      "(19, 1296)\n"
     ]
    },
    {
     "data": {
      "text/plain": [
       "1.6687834373731083"
      ]
     },
     "execution_count": 16,
     "metadata": {},
     "output_type": "execute_result"
    }
   ],
   "source": [
    "dir53 = '/Users/maeda/Desktop/Dropbox/analysis/telegraph-test-2D-1/cg1-T20-rho1-cen-32-1000st/'\n",
    "\n",
    "\n",
    "data = np.loadtxt(dir53+'phi2D00001.DAT', delimiter=',', unpack=True ,dtype='float')\n",
    "a = np.arange(nd)\n",
    "#a\n",
    "print(data.shape)\n",
    "rdata = np.reshape(data[a, :], (nd, ny ,nx))\n",
    "rdata[0,:,:]\n",
    "#rdata.transpose(0,2, 1)\n",
    "\n",
    "err=rdata[6,:,:]-rdata[12,:,:]\n",
    "rms = np.sqrt(np.mean(err*err))\n",
    "\n",
    "rms"
   ]
  },
  {
   "cell_type": "code",
   "execution_count": 17,
   "metadata": {},
   "outputs": [
    {
     "data": {
      "image/png": "[encoded data removed]",
      "text/plain": [
       "<Figure size 432x288 with 1 Axes>"
      ]
     },
     "metadata": {
      "needs_background": "light"
     },
     "output_type": "display_data"
    }
   ],
   "source": [
    "rms = [0] * nloop\n",
    "b = np.arange(nloop)\n",
    "b=b*step\n",
    "for i in range(nloop):\n",
    "    data = np.loadtxt(dir53+'phi2D'+\"%05.f\"%(i)+'.dat', delimiter=',', unpack=True ,dtype='float') \n",
    "    rdata = np.reshape(data[a, :], (nd, ny ,nx))\n",
    "    \n",
    "    #err=0.25*(rdata[6,:,:]+rdata[7,:,:]+rdata[8,:,:]+rdata[9,:,:])-rdata[12,:,:]\n",
    "    err=rdata[6,:,:]-rdata[12,:,:]\n",
    "    rms[i] = np.sqrt(np.mean(err*err))\n",
    "\n",
    "\n",
    "fig = plt.figure()\n",
    "#fig.subplots_adjust(bottom=0.21)\n",
    "#fig.subplots_adjust(left=0.1)\n",
    "#fig.subplots_adjust(right=0)\n",
    "ax = fig.add_subplot(111)\n",
    "\n",
    "plt.rcParams[\"font.family\"] = \"Times New Roman\"      #全体のフォントを設定\n",
    "plt.rcParams[\"mathtext.fontset\"] = \"cm\"\n",
    "plt.rcParams['mathtext.default'] = 'it'\n",
    "plt.rcParams[\"xtick.direction\"] = \"in\"               #x軸の目盛線が内向き('in')か外向き('out')か双方向か('inout')\n",
    "plt.rcParams[\"ytick.direction\"] = \"in\"               #y軸の目盛線が内向き('in')か外向き('out')か双方向か('inout')\n",
    "plt.rcParams[\"xtick.major.size\"] = 5                #x軸主目盛り線の長さ\n",
    "plt.rcParams[\"ytick.major.size\"] = 5                #y軸主目盛り線の長さ\n",
    "plt.rcParams[\"font.size\"] = 20                       #フォントの大きさ\n",
    "plt.xlim([0.0, nloop*step]) # x方向の描画範囲を指定\n",
    "plt.ylim([0.005, 0.10]) # y方向の描画範囲を指定\n",
    "plt.rcParams[\"legend.markerscale\"] = 2\n",
    "plt.rcParams[\"legend.fancybox\"] = False\n",
    "plt.rcParams[\"legend.framealpha\"] = 1\n",
    "plt.rcParams[\"legend.edgecolor\"] = 'black'\n",
    "\n",
    "\n",
    "plt.yscale('log')\n",
    "plt.plot(b,rms, color='red' , linestyle = \"solid\", markersize=2.5, linewidth = 1,label=\"err\")\n",
    "\n",
    "ax.set_xlabel('step')\n",
    "ax.set_ylabel('err')\n",
    "\n",
    "plt.legend(bbox_to_anchor=(1, 1), loc='upper right', borderaxespad=0, fontsize=9,frameon=False)\n",
    "\n",
    "fig.tight_layout()\n",
    "#グラフ表示\n",
    "plt.show()\n",
    "#plt.figure(figsize=(5, 6))\n",
    "\n",
    "# 保存するPDFファイル名\n",
    "pp = PdfPages(dir53+'test1.pdf')\n",
    "# 画像をPDFとして保存する\n",
    "pp.savefig(fig)\n",
    "# PDFの保存終了\n",
    "pp.close()\n",
    "#plt.savefig(\"R-Vesc.png\")"
   ]
  },
  {
   "cell_type": "code",
   "execution_count": 3,
   "metadata": {},
   "outputs": [
    {
     "ename": "NameError",
     "evalue": "name 'np' is not defined",
     "output_type": "error",
     "traceback": [
      "\u001b[0;31m---------------------------------------------------------------------------\u001b[0m",
      "\u001b[0;31mNameError\u001b[0m                                 Traceback (most recent call last)",
      "\u001b[0;32m<ipython-input-3-d33e2aa4fd7f>\u001b[0m in \u001b[0;36m<module>\u001b[0;34m\u001b[0m\n\u001b[1;32m      9\u001b[0m \u001b[0mnd\u001b[0m\u001b[0;34m=\u001b[0m\u001b[0;36m2\u001b[0m\u001b[0;34m\u001b[0m\u001b[0;34m\u001b[0m\u001b[0m\n\u001b[1;32m     10\u001b[0m \u001b[0;34m\u001b[0m\u001b[0m\n\u001b[0;32m---> 11\u001b[0;31m \u001b[0mdata\u001b[0m \u001b[0;34m=\u001b[0m \u001b[0mnp\u001b[0m\u001b[0;34m.\u001b[0m\u001b[0mloadtxt\u001b[0m\u001b[0;34m(\u001b[0m\u001b[0mdir53\u001b[0m\u001b[0;34m+\u001b[0m\u001b[0;34m'musfn-new5-25.dat'\u001b[0m\u001b[0;34m,\u001b[0m \u001b[0mdelimiter\u001b[0m\u001b[0;34m=\u001b[0m\u001b[0;34m','\u001b[0m\u001b[0;34m,\u001b[0m \u001b[0munpack\u001b[0m\u001b[0;34m=\u001b[0m\u001b[0;32mTrue\u001b[0m \u001b[0;34m,\u001b[0m\u001b[0mdtype\u001b[0m\u001b[0;34m=\u001b[0m\u001b[0;34m'float'\u001b[0m\u001b[0;34m)\u001b[0m\u001b[0;34m\u001b[0m\u001b[0;34m\u001b[0m\u001b[0m\n\u001b[0m\u001b[1;32m     12\u001b[0m \u001b[0ma\u001b[0m \u001b[0;34m=\u001b[0m \u001b[0mnp\u001b[0m\u001b[0;34m.\u001b[0m\u001b[0marange\u001b[0m\u001b[0;34m(\u001b[0m\u001b[0mnd\u001b[0m\u001b[0;34m)\u001b[0m\u001b[0;34m\u001b[0m\u001b[0;34m\u001b[0m\u001b[0m\n",
      "\u001b[0;31mNameError\u001b[0m: name 'np' is not defined"
     ]
    }
   ],
   "source": [
    "import h5py\n",
    "import csv\n",
    "import math\n",
    "import pandas as pd\n",
    "from matplotlib.backends.backend_pdf import PdfPages\n",
    "import matplotlib.animation as animation\n",
    "from matplotlib.animation import ArtistAnimation\n",
    "\n",
    "dir53 = '/Users/maeda/Desktop/Dropbox/code/code/masfun/'\n",
    "nd=2\n",
    "data = np.loadtxt(dir53+'musfn-new5-25.dat', delimiter=',', unpack=True ,dtype='float')\n",
    "a = np.arange(nd)"
   ]
  },
  {
   "cell_type": "code",
   "execution_count": null,
   "metadata": {},
   "outputs": [],
   "source": []
  }
 ],
 "metadata": {
  "kernelspec": {
   "display_name": "Python 3",
   "language": "python",
   "name": "python3"
  },
  "language_info": {
   "codemirror_mode": {
    "name": "ipython",
    "version": 3
   },
   "file_extension": ".py",
   "mimetype": "text/x-python",
   "name": "python",
   "nbconvert_exporter": "python",
   "pygments_lexer": "ipython3",
   "version": "3.7.4"
  }
 },
 "nbformat": 4,
 "nbformat_minor": 2
}
