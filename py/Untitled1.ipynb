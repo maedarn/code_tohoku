{
 "cells": [
  {
   "cell_type": "code",
   "execution_count": 39,
   "metadata": {},
   "outputs": [],
   "source": [
    "# coding: UTF-8\n",
    "from PIL import Image\n",
    "import numpy as np\n",
    "import matplotlib.pyplot as plt\n",
    "import h5py\n",
    "import csv\n",
    "import math\n",
    "import pandas as pd\n",
    "from matplotlib.backends.backend_pdf import PdfPages\n",
    "\n",
    "dir1 = '/Users/maeda/Desktop/Dropbox/analysis/test-feedback/collide-cloud5/mol/'\n",
    "\n",
    "\n",
    "data01,data02,data03,data04,data05,data06,data07,data08,data09,data10,data11,data12 = np.loadtxt(dir1+'molecular.DAT', delimiter=',', unpack=True)\n",
    "eata01,eata02,eata03,eata04,eata05,eata06,eata07,eata08,eata09,eata10,eata11,eata12 = np.loadtxt(dir1+'molecular20220225.DAT', delimiter=',', unpack=True)\n",
    "\n"
   ]
  },
  {
   "cell_type": "code",
   "execution_count": 46,
   "metadata": {},
   "outputs": [
    {
     "data": {
      "image/png": "[encoded data removed]",
      "text/plain": [
       "<Figure size 432x288 with 1 Axes>"
      ]
     },
     "metadata": {
      "needs_background": "light"
     },
     "output_type": "display_data"
    }
   ],
   "source": [
    "fig = plt.figure()\n",
    "#fig.subplots_adjust(bottom=0.21)\n",
    "#fig.subplots_adjust(left=0.1)\n",
    "#fig.subplots_adjust(right=0)\n",
    "ax = fig.add_subplot(111)\n",
    "\n",
    "plt.rcParams[\"font.family\"] = \"Times New Roman\"      #全体のフォントを設定\n",
    "plt.rcParams[\"mathtext.fontset\"] = \"cm\"\n",
    "plt.rcParams['mathtext.default'] = 'it'\n",
    "plt.rcParams[\"xtick.direction\"] = \"in\"               #x軸の目盛線が内向き('in')か外向き('out')か双方向か('inout')\n",
    "plt.rcParams[\"ytick.direction\"] = \"in\"               #y軸の目盛線が内向き('in')か外向き('out')か双方向か('inout')\n",
    "#plt.rcParams[\"xtick.minor.visible\"] = True          #x軸補助目盛りの追加\n",
    "#plt.rcParams[\"ytick.minor.visible\"] = True          #y軸補助目盛りの追加\n",
    "#plt.rcParams[\"xtick.major.width\"] = 1.5              #x軸主目盛り線の線幅\n",
    "#plt.rcParams[\"ytick.major.width\"] = 1.5              #y軸主目盛り線の線幅\n",
    "#plt.rcParams[\"xtick.minor.width\"] = 1.0              #x軸補助目盛り線の線幅\n",
    "#plt.rcParams[\"ytick.minor.width\"] = 1.0              #y軸補助目盛り線の線幅\n",
    "plt.rcParams[\"xtick.major.size\"] = 5                #x軸主目盛り線の長さ\n",
    "plt.rcParams[\"ytick.major.size\"] = 5                #y軸主目盛り線の長さ\n",
    "#plt.rcParams[\"xtick.minor.size\"] = 5                #x軸補助目盛り線の長さ\n",
    "#plt.rcParams[\"ytick.minor.size\"] = 5                #y軸補助目盛り線の長さ\n",
    "plt.rcParams[\"font.size\"] = 20                       #フォントの大きさ\n",
    "#plt.rcParams[\"axes.linewidth\"] = 1.5                 #囲みの太さ\n",
    "plt.xlim([0.0, 25.0]) # x方向の描画範囲を指定\n",
    "plt.ylim([0.001, 10000.0]) # y方向の描画範囲を指定\n",
    "plt.rcParams[\"legend.markerscale\"] = 2\n",
    "plt.rcParams[\"legend.fancybox\"] = False\n",
    "plt.rcParams[\"legend.framealpha\"] = 1\n",
    "plt.rcParams[\"legend.edgecolor\"] = 'black'\n",
    "\n",
    "#plt.plot(data01,data12, color='red' , linestyle = \"solid\", markersize=2.5, linewidth = 1,label=\"N-H2\")\n",
    "#plt.plot(data01/4.0,data05, color='red' , linestyle = \"solid\", markersize=2.5, linewidth = 1,label=\"N-H2\")\n",
    "#plt.plot(data01/4.0,data07, color='magenta' , linestyle = \"solid\", markersize=2.5, linewidth = 1,label=\"N-H2\")\n",
    "\n",
    "plt.plot(eata01,eata05, color='blue' , linestyle = \"solid\", markersize=2.5, linewidth = 1,label=\"M-H2(n>100)\")\n",
    "plt.plot(eata01,eata07, color='green' , linestyle = \"solid\", markersize=2.5, linewidth = 1,label=\"M-H2(n>1000)\")\n",
    "plt.plot(eata01,eata09, color='black' , linestyle = \"solid\", markersize=2.5, linewidth = 1,label=\"M-H2(n>10000)\")\n",
    "\n",
    "#plt.xticks(np.arange(0, 3.5, step=0.25))\n",
    "\n",
    "ax.set_xlabel('time')\n",
    "ax.set_ylabel('M_solar')\n",
    "\n",
    "#plt.legend(bbox_to_anchor=(1.05, 1), loc='upper left', borderaxespad=0, fontsize=5,frameon=False)\n",
    "plt.legend(bbox_to_anchor=(1, 1), loc='upper right', borderaxespad=0, fontsize=9,frameon=False)\n",
    "\n",
    "#plt.xticks(np.arange(0, 60 + 1, 10))\n",
    "#plt.yticks(np.arange(0, 20 + 1, 5))\n",
    "#p = plt.plot([0.0, 60.0],[10.0, 10.0], \"black\", linestyle='dashed') # normal way\n",
    "#p = plt.plot([0.0, 60.0],[7.6, 7.6], \"red\", linestyle='dashed') # normal way\n",
    "#p = plt.plot([0.0, 60.0],[12.7, 12.7], \"blue\", linestyle='dashed') # normal way\n",
    "fig.tight_layout()\n",
    "#グラフ表示\n",
    "plt.show()"
   ]
  },
  {
   "cell_type": "code",
   "execution_count": null,
   "metadata": {},
   "outputs": [],
   "source": []
  }
 ],
 "metadata": {
  "kernelspec": {
   "display_name": "Python 3",
   "language": "python",
   "name": "python3"
  },
  "language_info": {
   "codemirror_mode": {
    "name": "ipython",
    "version": 3
   },
   "file_extension": ".py",
   "mimetype": "text/x-python",
   "name": "python",
   "nbconvert_exporter": "python",
   "pygments_lexer": "ipython3",
   "version": "3.7.4"
  }
 },
 "nbformat": 4,
 "nbformat_minor": 2
}
